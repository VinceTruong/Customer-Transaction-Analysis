{
 "cells": [
  {
   "cell_type": "markdown",
   "id": "0b835a5d",
   "metadata": {},
   "source": [
    "# Customer Transaction Analysis"
   ]
  },
  {
   "cell_type": "code",
   "execution_count": 2,
   "id": "b4786608",
   "metadata": {
    "execution": {
     "iopub.execute_input": "2023-02-02T11:00:11.222937Z",
     "iopub.status.busy": "2023-02-02T11:00:11.222478Z",
     "iopub.status.idle": "2023-02-02T11:00:15.550215Z",
     "shell.execute_reply": "2023-02-02T11:00:15.548870Z",
     "shell.execute_reply.started": "2023-02-02T11:00:11.222892Z"
    }
   },
   "outputs": [],
   "source": [
    "import numpy as np\n",
    "import pandas as pd\n",
    "from matplotlib import pyplot as plt\n",
    "import seaborn as sns\n",
    "\n",
    "import datetime as dt\n",
    "from sklearn.linear_model import LinearRegression\n",
    "from sklearn.cluster import KMeans\n",
    "\n",
    "from pycaret.time_series import *\n",
    "\n",
    "import warnings\n",
    "warnings.filterwarnings(\"ignore\")\n",
    "\n",
    "plt.style.use('default')\n",
    "%matplotlib inline "
   ]
  },
  {
   "cell_type": "code",
   "execution_count": 4,
   "id": "f0afebd3",
   "metadata": {
    "execution": {
     "iopub.execute_input": "2023-02-02T11:00:15.563765Z",
     "iopub.status.busy": "2023-02-02T11:00:15.562962Z",
     "iopub.status.idle": "2023-02-02T11:00:15.582850Z",
     "shell.execute_reply": "2023-02-02T11:00:15.581700Z",
     "shell.execute_reply.started": "2023-02-02T11:00:15.563716Z"
    }
   },
   "outputs": [],
   "source": [
    "def process_blank_rows(east):\n",
    "    blank_rows = east[east['Order ID'].isnull()].index\n",
    "    east.drop(index=blank_rows, inplace=True)\n",
    "    return east"
   ]
  },
  {
   "cell_type": "code",
   "execution_count": 5,
   "id": "fb736b2f",
   "metadata": {
    "execution": {
     "iopub.execute_input": "2023-02-02T11:00:15.586500Z",
     "iopub.status.busy": "2023-02-02T11:00:15.584327Z",
     "iopub.status.idle": "2023-02-02T11:00:15.603574Z",
     "shell.execute_reply": "2023-02-02T11:00:15.601748Z",
     "shell.execute_reply.started": "2023-02-02T11:00:15.586443Z"
    }
   },
   "outputs": [],
   "source": [
    "def process_null_values(east):\n",
    "    east['Postal Code'].fillna(5401, inplace=True)\n",
    "    return east"
   ]
  },
  {
   "cell_type": "code",
   "execution_count": 6,
   "id": "7cc2db4a",
   "metadata": {
    "execution": {
     "iopub.execute_input": "2023-02-02T11:00:15.606794Z",
     "iopub.status.busy": "2023-02-02T11:00:15.606212Z",
     "iopub.status.idle": "2023-02-02T11:00:15.624681Z",
     "shell.execute_reply": "2023-02-02T11:00:15.622702Z",
     "shell.execute_reply.started": "2023-02-02T11:00:15.606744Z"
    }
   },
   "outputs": [],
   "source": [
    "def process_extract_digits(east):\n",
    "    east['Sales'] = east['Sales'].str[3:].astype('float')\n",
    "    return east"
   ]
  },
  {
   "cell_type": "code",
   "execution_count": 7,
   "id": "a26b0d37",
   "metadata": {
    "execution": {
     "iopub.execute_input": "2023-02-02T11:00:15.627452Z",
     "iopub.status.busy": "2023-02-02T11:00:15.626905Z",
     "iopub.status.idle": "2023-02-02T11:00:15.640704Z",
     "shell.execute_reply": "2023-02-02T11:00:15.638931Z",
     "shell.execute_reply.started": "2023-02-02T11:00:15.627411Z"
    }
   },
   "outputs": [],
   "source": [
    "def process_convert_datetype(east):\n",
    "    east['Order Date'] = pd.to_datetime(east['Order Date']).dt.date.astype('datetime64[ns]')\n",
    "    east['Ship Date'] = pd.to_datetime(east['Ship Date']).dt.date.astype('datetime64[ns]')\n",
    "    east['Quantity'] = east['Quantity'].astype('int')\n",
    "    return east"
   ]
  },
  {
   "cell_type": "code",
   "execution_count": 8,
   "id": "6a1bd167",
   "metadata": {
    "execution": {
     "iopub.execute_input": "2023-02-02T11:00:15.643501Z",
     "iopub.status.busy": "2023-02-02T11:00:15.643070Z",
     "iopub.status.idle": "2023-02-02T11:00:15.657039Z",
     "shell.execute_reply": "2023-02-02T11:00:15.655477Z",
     "shell.execute_reply.started": "2023-02-02T11:00:15.643466Z"
    }
   },
   "outputs": [],
   "source": [
    "def process_remove_columns(east):\n",
    "    east.drop(columns={'Row ID', 'Region', 'Country'}, inplace=True)\n",
    "    return east"
   ]
  },
  {
   "cell_type": "code",
   "execution_count": 9,
   "id": "f4c1d401",
   "metadata": {
    "execution": {
     "iopub.execute_input": "2023-02-02T11:00:15.660301Z",
     "iopub.status.busy": "2023-02-02T11:00:15.659193Z",
     "iopub.status.idle": "2023-02-02T11:00:15.672093Z",
     "shell.execute_reply": "2023-02-02T11:00:15.670666Z",
     "shell.execute_reply.started": "2023-02-02T11:00:15.660071Z"
    }
   },
   "outputs": [],
   "source": [
    "def process_add_columns(east):\n",
    "    east['Year'] = east['Order Date'].dt.year\n",
    "    east['Month'] = east['Order Date'].dt.month\n",
    "    east['Time Delivery'] = ((east['Ship Date'] - east['Order Date'])/np.timedelta64(1, 'D')).astype(int)\n",
    "    east['Price per unit'] = np.round(east['Sales']/((1-east['Discount'])*east['Quantity']), 2)\n",
    "    return east"
   ]
  },
  {
   "cell_type": "code",
   "execution_count": 10,
   "id": "2350fdfe",
   "metadata": {
    "execution": {
     "iopub.execute_input": "2023-02-02T11:00:15.677504Z",
     "iopub.status.busy": "2023-02-02T11:00:15.676468Z",
     "iopub.status.idle": "2023-02-02T11:00:15.687340Z",
     "shell.execute_reply": "2023-02-02T11:00:15.685804Z",
     "shell.execute_reply.started": "2023-02-02T11:00:15.677435Z"
    }
   },
   "outputs": [],
   "source": [
    "def main_task():\n",
    "    east = retrieve_data()\n",
    "    east = process_blank_rows(east)\n",
    "    east = process_null_values(east)\n",
    "    east = process_extract_digits(east)\n",
    "    east = process_convert_datetype(east)\n",
    "    east = process_remove_columns(east)\n",
    "    east = process_add_columns(east)\n",
    "    return east"
   ]
  },
  {
   "cell_type": "code",
   "execution_count": 11,
   "id": "b5d8b58a",
   "metadata": {
    "execution": {
     "iopub.execute_input": "2023-02-02T11:00:15.690279Z",
     "iopub.status.busy": "2023-02-02T11:00:15.689582Z",
     "iopub.status.idle": "2023-02-02T11:00:17.145646Z",
     "shell.execute_reply": "2023-02-02T11:00:17.144271Z",
     "shell.execute_reply.started": "2023-02-02T11:00:15.690239Z"
    }
   },
   "outputs": [],
   "source": [
    "east = main_task()"
   ]
  },
  {
   "cell_type": "code",
   "execution_count": 12,
   "id": "7efa8669",
   "metadata": {
    "execution": {
     "iopub.execute_input": "2023-02-02T11:00:17.148859Z",
     "iopub.status.busy": "2023-02-02T11:00:17.147513Z",
     "iopub.status.idle": "2023-02-02T11:00:17.194252Z",
     "shell.execute_reply": "2023-02-02T11:00:17.192371Z",
     "shell.execute_reply.started": "2023-02-02T11:00:17.148820Z"
    }
   },
   "outputs": [
    {
     "data": {
      "text/html": [
       "<div>\n",
       "<style scoped>\n",
       "    .dataframe tbody tr th:only-of-type {\n",
       "        vertical-align: middle;\n",
       "    }\n",
       "\n",
       "    .dataframe tbody tr th {\n",
       "        vertical-align: top;\n",
       "    }\n",
       "\n",
       "    .dataframe thead th {\n",
       "        text-align: right;\n",
       "    }\n",
       "</style>\n",
       "<table border=\"1\" class=\"dataframe\">\n",
       "  <thead>\n",
       "    <tr style=\"text-align: right;\">\n",
       "      <th></th>\n",
       "      <th>Category</th>\n",
       "      <th>City</th>\n",
       "      <th>Customer ID</th>\n",
       "      <th>Customer Name</th>\n",
       "      <th>Discount</th>\n",
       "      <th>Order Date</th>\n",
       "      <th>Order ID</th>\n",
       "      <th>Postal Code</th>\n",
       "      <th>Product ID</th>\n",
       "      <th>Product Name</th>\n",
       "      <th>...</th>\n",
       "      <th>Quantity</th>\n",
       "      <th>Ship Date</th>\n",
       "      <th>Ship Mode</th>\n",
       "      <th>State</th>\n",
       "      <th>Sub-Category</th>\n",
       "      <th>Sales</th>\n",
       "      <th>Year</th>\n",
       "      <th>Month</th>\n",
       "      <th>Time Delivery</th>\n",
       "      <th>Price per unit</th>\n",
       "    </tr>\n",
       "  </thead>\n",
       "  <tbody>\n",
       "    <tr>\n",
       "      <th>0</th>\n",
       "      <td>Furniture</td>\n",
       "      <td>Philadelphia</td>\n",
       "      <td>SF-20065</td>\n",
       "      <td>Sandra Flanagan</td>\n",
       "      <td>0.3</td>\n",
       "      <td>2018-07-16</td>\n",
       "      <td>US-2018-156909</td>\n",
       "      <td>19140.0</td>\n",
       "      <td>FUR-CH-10002774</td>\n",
       "      <td>Global Deluxe Stacking Chair, Gray</td>\n",
       "      <td>...</td>\n",
       "      <td>2</td>\n",
       "      <td>2018-07-18</td>\n",
       "      <td>Second Class</td>\n",
       "      <td>Pennsylvania</td>\n",
       "      <td>Chairs</td>\n",
       "      <td>71.37</td>\n",
       "      <td>2018</td>\n",
       "      <td>7</td>\n",
       "      <td>2</td>\n",
       "      <td>50.98</td>\n",
       "    </tr>\n",
       "    <tr>\n",
       "      <th>1</th>\n",
       "      <td>Office Supplies</td>\n",
       "      <td>Philadelphia</td>\n",
       "      <td>TB-21520</td>\n",
       "      <td>Tracy Blumstein</td>\n",
       "      <td>0.7</td>\n",
       "      <td>2016-09-17</td>\n",
       "      <td>US-2016-150630</td>\n",
       "      <td>19140.0</td>\n",
       "      <td>OFF-BI-10000474</td>\n",
       "      <td>Avery Recycled Flexi-View Covers for Binding S...</td>\n",
       "      <td>...</td>\n",
       "      <td>2</td>\n",
       "      <td>2016-09-21</td>\n",
       "      <td>Standard Class</td>\n",
       "      <td>Pennsylvania</td>\n",
       "      <td>Binders</td>\n",
       "      <td>9.61</td>\n",
       "      <td>2016</td>\n",
       "      <td>9</td>\n",
       "      <td>4</td>\n",
       "      <td>16.02</td>\n",
       "    </tr>\n",
       "    <tr>\n",
       "      <th>2</th>\n",
       "      <td>Office Supplies</td>\n",
       "      <td>Philadelphia</td>\n",
       "      <td>TB-21520</td>\n",
       "      <td>Tracy Blumstein</td>\n",
       "      <td>0.7</td>\n",
       "      <td>2016-09-17</td>\n",
       "      <td>US-2016-150630</td>\n",
       "      <td>19140.0</td>\n",
       "      <td>OFF-BI-10001525</td>\n",
       "      <td>Acco Pressboard Covers with Storage Hooks, 14 ...</td>\n",
       "      <td>...</td>\n",
       "      <td>6</td>\n",
       "      <td>2016-09-21</td>\n",
       "      <td>Standard Class</td>\n",
       "      <td>Pennsylvania</td>\n",
       "      <td>Binders</td>\n",
       "      <td>6.85</td>\n",
       "      <td>2016</td>\n",
       "      <td>9</td>\n",
       "      <td>4</td>\n",
       "      <td>3.81</td>\n",
       "    </tr>\n",
       "    <tr>\n",
       "      <th>3</th>\n",
       "      <td>Office Supplies</td>\n",
       "      <td>Philadelphia</td>\n",
       "      <td>FH-14365</td>\n",
       "      <td>Fred Hopkins</td>\n",
       "      <td>0.7</td>\n",
       "      <td>2018-07-06</td>\n",
       "      <td>US-2018-124303</td>\n",
       "      <td>19120.0</td>\n",
       "      <td>OFF-BI-10000343</td>\n",
       "      <td>Pressboard Covers with Storage Hooks, 9 1/2\" x...</td>\n",
       "      <td>...</td>\n",
       "      <td>2</td>\n",
       "      <td>2018-07-13</td>\n",
       "      <td>Standard Class</td>\n",
       "      <td>Pennsylvania</td>\n",
       "      <td>Binders</td>\n",
       "      <td>2.94</td>\n",
       "      <td>2018</td>\n",
       "      <td>7</td>\n",
       "      <td>7</td>\n",
       "      <td>4.90</td>\n",
       "    </tr>\n",
       "    <tr>\n",
       "      <th>4</th>\n",
       "      <td>Technology</td>\n",
       "      <td>Medina</td>\n",
       "      <td>VW-21775</td>\n",
       "      <td>Victoria Wilson</td>\n",
       "      <td>0.7</td>\n",
       "      <td>2016-01-02</td>\n",
       "      <td>CA-2016-146262</td>\n",
       "      <td>44256.0</td>\n",
       "      <td>TEC-MA-10000864</td>\n",
       "      <td>Cisco 9971 IP Video Phone Charcoal</td>\n",
       "      <td>...</td>\n",
       "      <td>9</td>\n",
       "      <td>2016-01-09</td>\n",
       "      <td>Standard Class</td>\n",
       "      <td>Ohio</td>\n",
       "      <td>Machines</td>\n",
       "      <td>1188.00</td>\n",
       "      <td>2016</td>\n",
       "      <td>1</td>\n",
       "      <td>7</td>\n",
       "      <td>440.00</td>\n",
       "    </tr>\n",
       "  </tbody>\n",
       "</table>\n",
       "<p>5 rows × 21 columns</p>\n",
       "</div>"
      ],
      "text/plain": [
       "          Category          City Customer ID    Customer Name  Discount  \\\n",
       "0        Furniture  Philadelphia    SF-20065  Sandra Flanagan       0.3   \n",
       "1  Office Supplies  Philadelphia    TB-21520  Tracy Blumstein       0.7   \n",
       "2  Office Supplies  Philadelphia    TB-21520  Tracy Blumstein       0.7   \n",
       "3  Office Supplies  Philadelphia    FH-14365     Fred Hopkins       0.7   \n",
       "4       Technology        Medina    VW-21775  Victoria Wilson       0.7   \n",
       "\n",
       "  Order Date        Order ID  Postal Code       Product ID  \\\n",
       "0 2018-07-16  US-2018-156909      19140.0  FUR-CH-10002774   \n",
       "1 2016-09-17  US-2016-150630      19140.0  OFF-BI-10000474   \n",
       "2 2016-09-17  US-2016-150630      19140.0  OFF-BI-10001525   \n",
       "3 2018-07-06  US-2018-124303      19120.0  OFF-BI-10000343   \n",
       "4 2016-01-02  CA-2016-146262      44256.0  TEC-MA-10000864   \n",
       "\n",
       "                                        Product Name  ...  Quantity  \\\n",
       "0                 Global Deluxe Stacking Chair, Gray  ...         2   \n",
       "1  Avery Recycled Flexi-View Covers for Binding S...  ...         2   \n",
       "2  Acco Pressboard Covers with Storage Hooks, 14 ...  ...         6   \n",
       "3  Pressboard Covers with Storage Hooks, 9 1/2\" x...  ...         2   \n",
       "4                 Cisco 9971 IP Video Phone Charcoal  ...         9   \n",
       "\n",
       "   Ship Date       Ship Mode         State Sub-Category    Sales  Year  Month  \\\n",
       "0 2018-07-18    Second Class  Pennsylvania       Chairs    71.37  2018      7   \n",
       "1 2016-09-21  Standard Class  Pennsylvania      Binders     9.61  2016      9   \n",
       "2 2016-09-21  Standard Class  Pennsylvania      Binders     6.85  2016      9   \n",
       "3 2018-07-13  Standard Class  Pennsylvania      Binders     2.94  2018      7   \n",
       "4 2016-01-09  Standard Class          Ohio     Machines  1188.00  2016      1   \n",
       "\n",
       "   Time Delivery  Price per unit  \n",
       "0              2           50.98  \n",
       "1              4           16.02  \n",
       "2              4            3.81  \n",
       "3              7            4.90  \n",
       "4              7          440.00  \n",
       "\n",
       "[5 rows x 21 columns]"
      ]
     },
     "execution_count": 12,
     "metadata": {},
     "output_type": "execute_result"
    }
   ],
   "source": [
    "east.head(5)"
   ]
  },
  {
   "cell_type": "code",
   "execution_count": 13,
   "id": "e1b30c0b",
   "metadata": {
    "execution": {
     "iopub.execute_input": "2023-02-02T11:00:17.196617Z",
     "iopub.status.busy": "2023-02-02T11:00:17.196159Z",
     "iopub.status.idle": "2023-02-02T11:00:17.202402Z",
     "shell.execute_reply": "2023-02-02T11:00:17.200549Z",
     "shell.execute_reply.started": "2023-02-02T11:00:17.196573Z"
    }
   },
   "outputs": [],
   "source": [
    "east.to_csv('Order_East_data.csv', index=False)"
   ]
  },
  {
   "cell_type": "code",
   "execution_count": null,
   "id": "25ced3a4",
   "metadata": {},
   "outputs": [],
   "source": []
  },
  {
   "cell_type": "markdown",
   "id": "531f5a75",
   "metadata": {},
   "source": [
    "### EDA"
   ]
  },
  {
   "cell_type": "code",
   "execution_count": 14,
   "id": "291538aa",
   "metadata": {
    "execution": {
     "iopub.execute_input": "2023-02-02T11:00:17.205940Z",
     "iopub.status.busy": "2023-02-02T11:00:17.204557Z",
     "iopub.status.idle": "2023-02-02T11:00:17.498396Z",
     "shell.execute_reply": "2023-02-02T11:00:17.496631Z",
     "shell.execute_reply.started": "2023-02-02T11:00:17.205877Z"
    }
   },
   "outputs": [
    {
     "data": {
      "text/plain": [
       "<AxesSubplot:title={'center':'Number of Product by Category'}>"
      ]
     },
     "execution_count": 14,
     "metadata": {},
     "output_type": "execute_result"
    },
    {
     "data": {
      "image/png": "[encoded data removed]",
      "text/plain": [
       "<Figure size 720x360 with 1 Axes>"
      ]
     },
     "metadata": {
      "needs_background": "light"
     },
     "output_type": "display_data"
    }
   ],
   "source": [
    "plt.figure(figsize=(10, 5))\n",
    "east['Category'].value_counts().plot.bar(title='Number of Product by Category', rot=0)"
   ]
  },
  {
   "cell_type": "code",
   "execution_count": 15,
   "id": "37bc1cf8",
   "metadata": {
    "execution": {
     "iopub.execute_input": "2023-02-02T11:00:17.501816Z",
     "iopub.status.busy": "2023-02-02T11:00:17.500407Z",
     "iopub.status.idle": "2023-02-02T11:00:17.848549Z",
     "shell.execute_reply": "2023-02-02T11:00:17.846480Z",
     "shell.execute_reply.started": "2023-02-02T11:00:17.501742Z"
    }
   },
   "outputs": [
    {
     "data": {
      "text/plain": [
       "[]"
      ]
     },
     "execution_count": 15,
     "metadata": {},
     "output_type": "execute_result"
    },
    {
     "data": {
      "image/png": "[encoded data removed]",
      "text/plain": [
       "<Figure size 720x360 with 1 Axes>"
      ]
     },
     "metadata": {
      "needs_background": "light"
     },
     "output_type": "display_data"
    }
   ],
   "source": [
    "plt.figure(figsize=(10, 5))\n",
    "plt.hist(east['Sales'], bins=50, color='gray')\n",
    "plt.title('Sale Distribution')\n",
    "\n",
    "plt.plot()"
   ]
  },
  {
   "cell_type": "code",
   "execution_count": 16,
   "id": "24c2b968",
   "metadata": {
    "execution": {
     "iopub.execute_input": "2023-02-02T11:00:17.851184Z",
     "iopub.status.busy": "2023-02-02T11:00:17.850474Z",
     "iopub.status.idle": "2023-02-02T11:00:18.115933Z",
     "shell.execute_reply": "2023-02-02T11:00:18.114544Z",
     "shell.execute_reply.started": "2023-02-02T11:00:17.851140Z"
    }
   },
   "outputs": [
    {
     "data": {
      "text/plain": [
       "<AxesSubplot:title={'center':'Number of transactions by quantity'}>"
      ]
     },
     "execution_count": 16,
     "metadata": {},
     "output_type": "execute_result"
    },
    {
     "data": {
      "image/png": "[encoded data removed]",
      "text/plain": [
       "<Figure size 720x360 with 1 Axes>"
      ]
     },
     "metadata": {
      "needs_background": "light"
     },
     "output_type": "display_data"
    }
   ],
   "source": [
    "plt.figure(figsize=(10, 5))\n",
    "east['Quantity'].value_counts().plot.bar(title='Number of transactions by quantity', rot=0)"
   ]
  },
  {
   "cell_type": "code",
   "execution_count": 17,
   "id": "7b63fc0f",
   "metadata": {
    "execution": {
     "iopub.execute_input": "2023-02-02T11:00:18.118391Z",
     "iopub.status.busy": "2023-02-02T11:00:18.117941Z",
     "iopub.status.idle": "2023-02-02T11:00:18.616049Z",
     "shell.execute_reply": "2023-02-02T11:00:18.614537Z",
     "shell.execute_reply.started": "2023-02-02T11:00:18.118358Z"
    }
   },
   "outputs": [
    {
     "data": {
      "text/plain": [
       "<AxesSubplot:title={'center':'Number of transactions by ship mode'}>"
      ]
     },
     "execution_count": 17,
     "metadata": {},
     "output_type": "execute_result"
    },
    {
     "data": {
      "image/png": "[encoded data removed]",
      "text/plain": [
       "<Figure size 720x360 with 1 Axes>"
      ]
     },
     "metadata": {
      "needs_background": "light"
     },
     "output_type": "display_data"
    }
   ],
   "source": [
    "plt.figure(figsize=(10, 5))\n",
    "east['Ship Mode'].value_counts().plot.bar(title='Number of transactions by ship mode', rot=0)"
   ]
  },
  {
   "cell_type": "code",
   "execution_count": null,
   "id": "9b3df83f",
   "metadata": {},
   "outputs": [],
   "source": []
  },
  {
   "cell_type": "code",
   "execution_count": null,
   "id": "616aac9c",
   "metadata": {},
   "outputs": [],
   "source": []
  },
  {
   "cell_type": "markdown",
   "id": "a1fc43de",
   "metadata": {},
   "source": [
    "### Which category made the most sales over years?"
   ]
  },
  {
   "cell_type": "code",
   "execution_count": 18,
   "id": "05f20818",
   "metadata": {
    "execution": {
     "iopub.execute_input": "2023-02-02T11:00:18.618515Z",
     "iopub.status.busy": "2023-02-02T11:00:18.618058Z",
     "iopub.status.idle": "2023-02-02T11:00:18.956217Z",
     "shell.execute_reply": "2023-02-02T11:00:18.954604Z",
     "shell.execute_reply.started": "2023-02-02T11:00:18.618478Z"
    }
   },
   "outputs": [
    {
     "data": {
      "text/plain": [
       "<AxesSubplot:title={'center':'Percentage of sales by category and year'}, xlabel='Year'>"
      ]
     },
     "execution_count": 18,
     "metadata": {},
     "output_type": "execute_result"
    },
    {
     "data": {
      "image/png": "[encoded data removed]",
      "text/plain": [
       "<Figure size 432x288 with 1 Axes>"
      ]
     },
     "metadata": {
      "needs_background": "light"
     },
     "output_type": "display_data"
    }
   ],
   "source": [
    "Category_Sales = east.groupby(['Year', 'Category']).agg({'Sales': 'sum'}).reset_index()\n",
    "Category_Sales['%'] = np.round(100 * Category_Sales['Sales'] / Category_Sales.groupby('Year')['Sales'].transform('sum'), 2)\n",
    "Category_Sales.drop(columns=['Sales'], inplace=True)\n",
    "Category_Sales = Category_Sales.pivot(index='Year', values='%', columns='Category')\n",
    "Category_Sales.plot.bar(stacked=True, title='Percentage of sales by category and year', rot=0)\n"
   ]
  },
  {
   "cell_type": "markdown",
   "id": "db5ede69",
   "metadata": {},
   "source": [
    "**Why most sales was generated from Technology products?**"
   ]
  },
  {
   "cell_type": "code",
   "execution_count": 19,
   "id": "b16d7331",
   "metadata": {
    "execution": {
     "iopub.execute_input": "2023-02-02T11:00:18.958955Z",
     "iopub.status.busy": "2023-02-02T11:00:18.958498Z",
     "iopub.status.idle": "2023-02-02T11:00:19.040421Z",
     "shell.execute_reply": "2023-02-02T11:00:19.038530Z",
     "shell.execute_reply.started": "2023-02-02T11:00:18.958917Z"
    }
   },
   "outputs": [
    {
     "data": {
      "text/html": [
       "<div>\n",
       "<style scoped>\n",
       "    .dataframe tbody tr th:only-of-type {\n",
       "        vertical-align: middle;\n",
       "    }\n",
       "\n",
       "    .dataframe tbody tr th {\n",
       "        vertical-align: top;\n",
       "    }\n",
       "\n",
       "    .dataframe thead th {\n",
       "        text-align: right;\n",
       "    }\n",
       "</style>\n",
       "<table border=\"1\" class=\"dataframe\">\n",
       "  <thead>\n",
       "    <tr style=\"text-align: right;\">\n",
       "      <th></th>\n",
       "      <th>Product ID</th>\n",
       "      <th>Product Name</th>\n",
       "      <th>Price per unit</th>\n",
       "      <th>Quantity</th>\n",
       "      <th>Sales</th>\n",
       "      <th>Category</th>\n",
       "      <th>Sub-Category</th>\n",
       "    </tr>\n",
       "  </thead>\n",
       "  <tbody>\n",
       "    <tr>\n",
       "      <th>0</th>\n",
       "      <td>FUR-BO-10000362</td>\n",
       "      <td>Sauder Inglewood Library Bookcases</td>\n",
       "      <td>170.98</td>\n",
       "      <td>9</td>\n",
       "      <td>1504.61</td>\n",
       "      <td>Furniture</td>\n",
       "      <td>Bookcases</td>\n",
       "    </tr>\n",
       "    <tr>\n",
       "      <th>1</th>\n",
       "      <td>FUR-BO-10000780</td>\n",
       "      <td>O'Sullivan Plantations 2-Door Library in Landv...</td>\n",
       "      <td>200.98</td>\n",
       "      <td>5</td>\n",
       "      <td>623.03</td>\n",
       "      <td>Furniture</td>\n",
       "      <td>Bookcases</td>\n",
       "    </tr>\n",
       "    <tr>\n",
       "      <th>2</th>\n",
       "      <td>FUR-BO-10001337</td>\n",
       "      <td>O'Sullivan Living Dimensions 2-Shelf Bookcases</td>\n",
       "      <td>120.98</td>\n",
       "      <td>4</td>\n",
       "      <td>483.92</td>\n",
       "      <td>Furniture</td>\n",
       "      <td>Bookcases</td>\n",
       "    </tr>\n",
       "    <tr>\n",
       "      <th>3</th>\n",
       "      <td>FUR-BO-10001519</td>\n",
       "      <td>O'Sullivan 3-Shelf Heavy-Duty Bookcases</td>\n",
       "      <td>58.14</td>\n",
       "      <td>7</td>\n",
       "      <td>273.24</td>\n",
       "      <td>Furniture</td>\n",
       "      <td>Bookcases</td>\n",
       "    </tr>\n",
       "    <tr>\n",
       "      <th>4</th>\n",
       "      <td>FUR-BO-10001608</td>\n",
       "      <td>Hon Metal Bookcases, Black</td>\n",
       "      <td>70.98</td>\n",
       "      <td>12</td>\n",
       "      <td>681.40</td>\n",
       "      <td>Furniture</td>\n",
       "      <td>Bookcases</td>\n",
       "    </tr>\n",
       "    <tr>\n",
       "      <th>...</th>\n",
       "      <td>...</td>\n",
       "      <td>...</td>\n",
       "      <td>...</td>\n",
       "      <td>...</td>\n",
       "      <td>...</td>\n",
       "      <td>...</td>\n",
       "      <td>...</td>\n",
       "    </tr>\n",
       "    <tr>\n",
       "      <th>1426</th>\n",
       "      <td>TEC-PH-10004908</td>\n",
       "      <td>Panasonic KX TS3282W Corded phone</td>\n",
       "      <td>84.98</td>\n",
       "      <td>2</td>\n",
       "      <td>101.98</td>\n",
       "      <td>Technology</td>\n",
       "      <td>Phones</td>\n",
       "    </tr>\n",
       "    <tr>\n",
       "      <th>1427</th>\n",
       "      <td>TEC-PH-10004912</td>\n",
       "      <td>Cisco SPA112 2 Port Phone Adapter</td>\n",
       "      <td>54.95</td>\n",
       "      <td>3</td>\n",
       "      <td>164.84</td>\n",
       "      <td>Technology</td>\n",
       "      <td>Phones</td>\n",
       "    </tr>\n",
       "    <tr>\n",
       "      <th>1428</th>\n",
       "      <td>TEC-PH-10004922</td>\n",
       "      <td>RCA Visys Integrated PBX 8-Line Router</td>\n",
       "      <td>66.98</td>\n",
       "      <td>2</td>\n",
       "      <td>133.97</td>\n",
       "      <td>Technology</td>\n",
       "      <td>Phones</td>\n",
       "    </tr>\n",
       "    <tr>\n",
       "      <th>1429</th>\n",
       "      <td>TEC-PH-10004959</td>\n",
       "      <td>Classic Ivory Antique Telephone ZL1810</td>\n",
       "      <td>100.48</td>\n",
       "      <td>1</td>\n",
       "      <td>100.48</td>\n",
       "      <td>Technology</td>\n",
       "      <td>Phones</td>\n",
       "    </tr>\n",
       "    <tr>\n",
       "      <th>1430</th>\n",
       "      <td>TEC-PH-10004977</td>\n",
       "      <td>GE 30524EE4</td>\n",
       "      <td>195.99</td>\n",
       "      <td>9</td>\n",
       "      <td>1607.11</td>\n",
       "      <td>Technology</td>\n",
       "      <td>Phones</td>\n",
       "    </tr>\n",
       "  </tbody>\n",
       "</table>\n",
       "<p>1431 rows × 7 columns</p>\n",
       "</div>"
      ],
      "text/plain": [
       "           Product ID                                       Product Name  \\\n",
       "0     FUR-BO-10000362                 Sauder Inglewood Library Bookcases   \n",
       "1     FUR-BO-10000780  O'Sullivan Plantations 2-Door Library in Landv...   \n",
       "2     FUR-BO-10001337     O'Sullivan Living Dimensions 2-Shelf Bookcases   \n",
       "3     FUR-BO-10001519            O'Sullivan 3-Shelf Heavy-Duty Bookcases   \n",
       "4     FUR-BO-10001608                         Hon Metal Bookcases, Black   \n",
       "...               ...                                                ...   \n",
       "1426  TEC-PH-10004908                  Panasonic KX TS3282W Corded phone   \n",
       "1427  TEC-PH-10004912                  Cisco SPA112 2 Port Phone Adapter   \n",
       "1428  TEC-PH-10004922             RCA Visys Integrated PBX 8-Line Router   \n",
       "1429  TEC-PH-10004959             Classic Ivory Antique Telephone ZL1810   \n",
       "1430  TEC-PH-10004977                                        GE 30524EE4   \n",
       "\n",
       "      Price per unit  Quantity    Sales    Category Sub-Category  \n",
       "0             170.98         9  1504.61   Furniture    Bookcases  \n",
       "1             200.98         5   623.03   Furniture    Bookcases  \n",
       "2             120.98         4   483.92   Furniture    Bookcases  \n",
       "3              58.14         7   273.24   Furniture    Bookcases  \n",
       "4              70.98        12   681.40   Furniture    Bookcases  \n",
       "...              ...       ...      ...         ...          ...  \n",
       "1426           84.98         2   101.98  Technology       Phones  \n",
       "1427           54.95         3   164.84  Technology       Phones  \n",
       "1428           66.98         2   133.97  Technology       Phones  \n",
       "1429          100.48         1   100.48  Technology       Phones  \n",
       "1430          195.99         9  1607.11  Technology       Phones  \n",
       "\n",
       "[1431 rows x 7 columns]"
      ]
     },
     "execution_count": 19,
     "metadata": {},
     "output_type": "execute_result"
    }
   ],
   "source": [
    "product = east.groupby(['Product ID', 'Product Name']).agg({'Price per unit': 'mean', 'Quantity': 'sum', 'Sales': 'sum'}).reset_index()\n",
    "product['Price per unit'] = np.round(product['Price per unit'], 2)\n",
    "product = product.merge(east[['Product ID', 'Category', 'Sub-Category', 'Product Name']], how='left', on=['Product ID', 'Product Name'])\n",
    "product.drop_duplicates(inplace=True)\n",
    "product.reset_index(inplace=True)\n",
    "product.drop(columns=['index'], inplace=True)\n",
    "product"
   ]
  },
  {
   "cell_type": "code",
   "execution_count": 20,
   "id": "383f52de",
   "metadata": {
    "execution": {
     "iopub.execute_input": "2023-02-02T11:00:19.043947Z",
     "iopub.status.busy": "2023-02-02T11:00:19.042610Z",
     "iopub.status.idle": "2023-02-02T11:00:19.331610Z",
     "shell.execute_reply": "2023-02-02T11:00:19.330472Z",
     "shell.execute_reply.started": "2023-02-02T11:00:19.043885Z"
    }
   },
   "outputs": [
    {
     "data": {
      "text/plain": [
       "[Text(0.5, 1.0, 'Distribution of sales by category')]"
      ]
     },
     "execution_count": 20,
     "metadata": {},
     "output_type": "execute_result"
    },
    {
     "data": {
      "image/png": "[encoded data removed]",
      "text/plain": [
       "<Figure size 720x360 with 1 Axes>"
      ]
     },
     "metadata": {
      "needs_background": "light"
     },
     "output_type": "display_data"
    }
   ],
   "source": [
    "plt.figure(figsize=(10, 5))\n",
    "sns.boxplot(x='Category', y='Quantity', data=east).set(title='Distribution of sales by category')"
   ]
  },
  {
   "cell_type": "code",
   "execution_count": 21,
   "id": "093b1046",
   "metadata": {
    "execution": {
     "iopub.execute_input": "2023-02-02T11:00:19.333232Z",
     "iopub.status.busy": "2023-02-02T11:00:19.332792Z",
     "iopub.status.idle": "2023-02-02T11:00:19.611366Z",
     "shell.execute_reply": "2023-02-02T11:00:19.609028Z",
     "shell.execute_reply.started": "2023-02-02T11:00:19.333192Z"
    }
   },
   "outputs": [
    {
     "data": {
      "text/plain": [
       "[Text(0.5, 1.0, 'Price per unit distribution with long interval')]"
      ]
     },
     "execution_count": 21,
     "metadata": {},
     "output_type": "execute_result"
    },
    {
     "data": {
      "image/png": "[encoded data removed]",
      "text/plain": [
       "<Figure size 432x216 with 1 Axes>"
      ]
     },
     "metadata": {},
     "output_type": "display_data"
    }
   ],
   "source": [
    "# Long intervals\n",
    "\n",
    "plt.style.use('ggplot')\n",
    "plt.figure(figsize=(6, 3))\n",
    "sns.boxplot(x='Category', y='Price per unit', data=east).set(title='Price per unit distribution with long interval')"
   ]
  },
  {
   "cell_type": "code",
   "execution_count": 22,
   "id": "75b94806",
   "metadata": {
    "execution": {
     "iopub.execute_input": "2023-02-02T11:00:19.614113Z",
     "iopub.status.busy": "2023-02-02T11:00:19.613642Z",
     "iopub.status.idle": "2023-02-02T11:00:19.876341Z",
     "shell.execute_reply": "2023-02-02T11:00:19.874892Z",
     "shell.execute_reply.started": "2023-02-02T11:00:19.614072Z"
    }
   },
   "outputs": [
    {
     "data": {
      "text/plain": [
       "(0.0, 500.0)"
      ]
     },
     "execution_count": 22,
     "metadata": {},
     "output_type": "execute_result"
    },
    {
     "data": {
      "image/png": "[encoded data removed]",
      "text/plain": [
       "<Figure size 432x216 with 1 Axes>"
      ]
     },
     "metadata": {},
     "output_type": "display_data"
    }
   ],
   "source": [
    "# east[east['Category'].isin(['Technology', 'Furniture'])]\n",
    "\n",
    "plt.figure(figsize=(6, 3))\n",
    "sns.boxplot(x='Category', y='Price per unit', data=east).set(title='Price per unit distribution with short interval')\n",
    "plt.ylim([0, 500])"
   ]
  },
  {
   "cell_type": "code",
   "execution_count": 23,
   "id": "601974f2",
   "metadata": {
    "execution": {
     "iopub.execute_input": "2023-02-02T11:00:19.878421Z",
     "iopub.status.busy": "2023-02-02T11:00:19.877965Z",
     "iopub.status.idle": "2023-02-02T11:00:20.165155Z",
     "shell.execute_reply": "2023-02-02T11:00:20.163684Z",
     "shell.execute_reply.started": "2023-02-02T11:00:19.878374Z"
    }
   },
   "outputs": [
    {
     "data": {
      "text/plain": [
       "[Text(0.5, 1.0, 'Discount distribution by category')]"
      ]
     },
     "execution_count": 23,
     "metadata": {},
     "output_type": "execute_result"
    },
    {
     "data": {
      "image/png": "[encoded data removed]",
      "text/plain": [
       "<Figure size 720x360 with 1 Axes>"
      ]
     },
     "metadata": {},
     "output_type": "display_data"
    }
   ],
   "source": [
    "plt.figure(figsize=(10, 5))\n",
    "sns.boxplot(x='Category', y='Discount', data=east).set(title='Discount distribution by category')"
   ]
  },
  {
   "cell_type": "code",
   "execution_count": null,
   "id": "89ee604c",
   "metadata": {},
   "outputs": [],
   "source": []
  },
  {
   "cell_type": "markdown",
   "id": "77ab9048",
   "metadata": {},
   "source": [
    "### Which products got most sales and quantity?"
   ]
  },
  {
   "cell_type": "code",
   "execution_count": 24,
   "id": "817e59f5",
   "metadata": {
    "execution": {
     "iopub.execute_input": "2023-02-02T11:00:20.167389Z",
     "iopub.status.busy": "2023-02-02T11:00:20.166910Z",
     "iopub.status.idle": "2023-02-02T11:00:20.454394Z",
     "shell.execute_reply": "2023-02-02T11:00:20.453018Z",
     "shell.execute_reply.started": "2023-02-02T11:00:20.167348Z"
    }
   },
   "outputs": [
    {
     "data": {
      "text/plain": [
       "[Text(0.5, 1.0, 'Sales versus quantity')]"
      ]
     },
     "execution_count": 24,
     "metadata": {},
     "output_type": "execute_result"
    },
    {
     "data": {
      "image/png": "[encoded data removed]",
      "text/plain": [
       "<Figure size 720x360 with 1 Axes>"
      ]
     },
     "metadata": {},
     "output_type": "display_data"
    }
   ],
   "source": [
    "plt.figure(figsize=(10, 5))\n",
    "sns.scatterplot(x='Quantity', y='Sales', data=product, color='purple').set(title='Sales versus quantity')"
   ]
  },
  {
   "cell_type": "code",
   "execution_count": 25,
   "id": "775b25ec",
   "metadata": {
    "execution": {
     "iopub.execute_input": "2023-02-02T11:00:20.457159Z",
     "iopub.status.busy": "2023-02-02T11:00:20.456692Z",
     "iopub.status.idle": "2023-02-02T11:00:20.484966Z",
     "shell.execute_reply": "2023-02-02T11:00:20.483642Z",
     "shell.execute_reply.started": "2023-02-02T11:00:20.457118Z"
    }
   },
   "outputs": [
    {
     "data": {
      "text/html": [
       "<div>\n",
       "<style scoped>\n",
       "    .dataframe tbody tr th:only-of-type {\n",
       "        vertical-align: middle;\n",
       "    }\n",
       "\n",
       "    .dataframe tbody tr th {\n",
       "        vertical-align: top;\n",
       "    }\n",
       "\n",
       "    .dataframe thead th {\n",
       "        text-align: right;\n",
       "    }\n",
       "</style>\n",
       "<table border=\"1\" class=\"dataframe\">\n",
       "  <thead>\n",
       "    <tr style=\"text-align: right;\">\n",
       "      <th></th>\n",
       "      <th>Quantity</th>\n",
       "      <th>Sales</th>\n",
       "    </tr>\n",
       "  </thead>\n",
       "  <tbody>\n",
       "    <tr>\n",
       "      <th>count</th>\n",
       "      <td>1431.000000</td>\n",
       "      <td>1431.000000</td>\n",
       "    </tr>\n",
       "    <tr>\n",
       "      <th>mean</th>\n",
       "      <td>7.313068</td>\n",
       "      <td>471.685681</td>\n",
       "    </tr>\n",
       "    <tr>\n",
       "      <th>std</th>\n",
       "      <td>4.986678</td>\n",
       "      <td>1307.042982</td>\n",
       "    </tr>\n",
       "    <tr>\n",
       "      <th>min</th>\n",
       "      <td>1.000000</td>\n",
       "      <td>1.240000</td>\n",
       "    </tr>\n",
       "    <tr>\n",
       "      <th>25%</th>\n",
       "      <td>3.000000</td>\n",
       "      <td>33.475000</td>\n",
       "    </tr>\n",
       "    <tr>\n",
       "      <th>50%</th>\n",
       "      <td>6.000000</td>\n",
       "      <td>104.800000</td>\n",
       "    </tr>\n",
       "    <tr>\n",
       "      <th>75%</th>\n",
       "      <td>10.000000</td>\n",
       "      <td>359.575000</td>\n",
       "    </tr>\n",
       "    <tr>\n",
       "      <th>max</th>\n",
       "      <td>32.000000</td>\n",
       "      <td>30099.890000</td>\n",
       "    </tr>\n",
       "  </tbody>\n",
       "</table>\n",
       "</div>"
      ],
      "text/plain": [
       "          Quantity         Sales\n",
       "count  1431.000000   1431.000000\n",
       "mean      7.313068    471.685681\n",
       "std       4.986678   1307.042982\n",
       "min       1.000000      1.240000\n",
       "25%       3.000000     33.475000\n",
       "50%       6.000000    104.800000\n",
       "75%      10.000000    359.575000\n",
       "max      32.000000  30099.890000"
      ]
     },
     "execution_count": 25,
     "metadata": {},
     "output_type": "execute_result"
    }
   ],
   "source": [
    "product[['Quantity', 'Sales']].describe()"
   ]
  },
  {
   "cell_type": "code",
   "execution_count": 26,
   "id": "520e29b8",
   "metadata": {
    "execution": {
     "iopub.execute_input": "2023-02-02T11:00:20.487560Z",
     "iopub.status.busy": "2023-02-02T11:00:20.486933Z",
     "iopub.status.idle": "2023-02-02T11:00:20.499571Z",
     "shell.execute_reply": "2023-02-02T11:00:20.497551Z",
     "shell.execute_reply.started": "2023-02-02T11:00:20.487504Z"
    }
   },
   "outputs": [],
   "source": [
    "product['Q'] = product['Quantity'].apply(lambda x: 4 if (x>10)\n",
    "                                             else (3 if (x>6)\n",
    "                                             else (2 if (x>3)\n",
    "                                             else (1))))"
   ]
  },
  {
   "cell_type": "code",
   "execution_count": 27,
   "id": "ed9fc4a4",
   "metadata": {
    "execution": {
     "iopub.execute_input": "2023-02-02T11:00:20.502227Z",
     "iopub.status.busy": "2023-02-02T11:00:20.501661Z",
     "iopub.status.idle": "2023-02-02T11:00:20.516537Z",
     "shell.execute_reply": "2023-02-02T11:00:20.513957Z",
     "shell.execute_reply.started": "2023-02-02T11:00:20.502184Z"
    }
   },
   "outputs": [],
   "source": [
    "product['S'] = product['Sales'].apply(lambda x: 4 if (x>359.575)\n",
    "                                          else (3 if (x>104.8)\n",
    "                                          else (2 if (x>33.475)\n",
    "                                          else (1))))"
   ]
  },
  {
   "cell_type": "code",
   "execution_count": 28,
   "id": "980d53a0",
   "metadata": {
    "execution": {
     "iopub.execute_input": "2023-02-02T11:00:20.527317Z",
     "iopub.status.busy": "2023-02-02T11:00:20.526850Z",
     "iopub.status.idle": "2023-02-02T11:00:20.562197Z",
     "shell.execute_reply": "2023-02-02T11:00:20.560595Z",
     "shell.execute_reply.started": "2023-02-02T11:00:20.527279Z"
    }
   },
   "outputs": [
    {
     "data": {
      "text/html": [
       "<div>\n",
       "<style scoped>\n",
       "    .dataframe tbody tr th:only-of-type {\n",
       "        vertical-align: middle;\n",
       "    }\n",
       "\n",
       "    .dataframe tbody tr th {\n",
       "        vertical-align: top;\n",
       "    }\n",
       "\n",
       "    .dataframe thead th {\n",
       "        text-align: right;\n",
       "    }\n",
       "</style>\n",
       "<table border=\"1\" class=\"dataframe\">\n",
       "  <thead>\n",
       "    <tr style=\"text-align: right;\">\n",
       "      <th></th>\n",
       "      <th>Product ID</th>\n",
       "      <th>Category</th>\n",
       "      <th>Sub-Category</th>\n",
       "      <th>Product Name</th>\n",
       "      <th>Quantity</th>\n",
       "      <th>Sales</th>\n",
       "      <th>Q</th>\n",
       "      <th>S</th>\n",
       "    </tr>\n",
       "  </thead>\n",
       "  <tbody>\n",
       "    <tr>\n",
       "      <th>0</th>\n",
       "      <td>FUR-BO-10001608</td>\n",
       "      <td>Furniture</td>\n",
       "      <td>Bookcases</td>\n",
       "      <td>Hon Metal Bookcases, Black</td>\n",
       "      <td>12</td>\n",
       "      <td>681.40</td>\n",
       "      <td>4</td>\n",
       "      <td>4</td>\n",
       "    </tr>\n",
       "    <tr>\n",
       "      <th>1</th>\n",
       "      <td>FUR-BO-10002213</td>\n",
       "      <td>Furniture</td>\n",
       "      <td>Bookcases</td>\n",
       "      <td>DMI Eclipse Executive Suite Bookcases</td>\n",
       "      <td>18</td>\n",
       "      <td>7214.10</td>\n",
       "      <td>4</td>\n",
       "      <td>4</td>\n",
       "    </tr>\n",
       "    <tr>\n",
       "      <th>2</th>\n",
       "      <td>FUR-BO-10002545</td>\n",
       "      <td>Furniture</td>\n",
       "      <td>Bookcases</td>\n",
       "      <td>Atlantic Metals Mobile 3-Shelf Bookcases, Cust...</td>\n",
       "      <td>14</td>\n",
       "      <td>2975.17</td>\n",
       "      <td>4</td>\n",
       "      <td>4</td>\n",
       "    </tr>\n",
       "    <tr>\n",
       "      <th>3</th>\n",
       "      <td>FUR-BO-10002598</td>\n",
       "      <td>Furniture</td>\n",
       "      <td>Bookcases</td>\n",
       "      <td>Hon Metal Bookcases, Putty</td>\n",
       "      <td>15</td>\n",
       "      <td>1036.30</td>\n",
       "      <td>4</td>\n",
       "      <td>4</td>\n",
       "    </tr>\n",
       "    <tr>\n",
       "      <th>4</th>\n",
       "      <td>FUR-BO-10002613</td>\n",
       "      <td>Furniture</td>\n",
       "      <td>Bookcases</td>\n",
       "      <td>Atlantic Metals Mobile 4-Shelf Bookcases, Cust...</td>\n",
       "      <td>13</td>\n",
       "      <td>2922.17</td>\n",
       "      <td>4</td>\n",
       "      <td>4</td>\n",
       "    </tr>\n",
       "    <tr>\n",
       "      <th>...</th>\n",
       "      <td>...</td>\n",
       "      <td>...</td>\n",
       "      <td>...</td>\n",
       "      <td>...</td>\n",
       "      <td>...</td>\n",
       "      <td>...</td>\n",
       "      <td>...</td>\n",
       "      <td>...</td>\n",
       "    </tr>\n",
       "    <tr>\n",
       "      <th>125</th>\n",
       "      <td>TEC-PH-10002834</td>\n",
       "      <td>Technology</td>\n",
       "      <td>Phones</td>\n",
       "      <td>Google Nexus 5</td>\n",
       "      <td>17</td>\n",
       "      <td>2843.84</td>\n",
       "      <td>4</td>\n",
       "      <td>4</td>\n",
       "    </tr>\n",
       "    <tr>\n",
       "      <th>126</th>\n",
       "      <td>TEC-PH-10002885</td>\n",
       "      <td>Technology</td>\n",
       "      <td>Phones</td>\n",
       "      <td>Apple iPhone 5</td>\n",
       "      <td>14</td>\n",
       "      <td>7797.95</td>\n",
       "      <td>4</td>\n",
       "      <td>4</td>\n",
       "    </tr>\n",
       "    <tr>\n",
       "      <th>127</th>\n",
       "      <td>TEC-PH-10003072</td>\n",
       "      <td>Technology</td>\n",
       "      <td>Phones</td>\n",
       "      <td>Panasonic KX-TG9541B DECT 6.0 Digital 2-Line E...</td>\n",
       "      <td>19</td>\n",
       "      <td>2249.84</td>\n",
       "      <td>4</td>\n",
       "      <td>4</td>\n",
       "    </tr>\n",
       "    <tr>\n",
       "      <th>128</th>\n",
       "      <td>TEC-PH-10004093</td>\n",
       "      <td>Technology</td>\n",
       "      <td>Phones</td>\n",
       "      <td>Panasonic Kx-TS550</td>\n",
       "      <td>14</td>\n",
       "      <td>515.08</td>\n",
       "      <td>4</td>\n",
       "      <td>4</td>\n",
       "    </tr>\n",
       "    <tr>\n",
       "      <th>129</th>\n",
       "      <td>TEC-PH-10004539</td>\n",
       "      <td>Technology</td>\n",
       "      <td>Phones</td>\n",
       "      <td>Wireless Extenders zBoost YX545 SOHO Signal Bo...</td>\n",
       "      <td>13</td>\n",
       "      <td>2230.08</td>\n",
       "      <td>4</td>\n",
       "      <td>4</td>\n",
       "    </tr>\n",
       "  </tbody>\n",
       "</table>\n",
       "<p>130 rows × 8 columns</p>\n",
       "</div>"
      ],
      "text/plain": [
       "          Product ID    Category Sub-Category  \\\n",
       "0    FUR-BO-10001608   Furniture    Bookcases   \n",
       "1    FUR-BO-10002213   Furniture    Bookcases   \n",
       "2    FUR-BO-10002545   Furniture    Bookcases   \n",
       "3    FUR-BO-10002598   Furniture    Bookcases   \n",
       "4    FUR-BO-10002613   Furniture    Bookcases   \n",
       "..               ...         ...          ...   \n",
       "125  TEC-PH-10002834  Technology       Phones   \n",
       "126  TEC-PH-10002885  Technology       Phones   \n",
       "127  TEC-PH-10003072  Technology       Phones   \n",
       "128  TEC-PH-10004093  Technology       Phones   \n",
       "129  TEC-PH-10004539  Technology       Phones   \n",
       "\n",
       "                                          Product Name  Quantity    Sales  Q  \\\n",
       "0                           Hon Metal Bookcases, Black        12   681.40  4   \n",
       "1                DMI Eclipse Executive Suite Bookcases        18  7214.10  4   \n",
       "2    Atlantic Metals Mobile 3-Shelf Bookcases, Cust...        14  2975.17  4   \n",
       "3                           Hon Metal Bookcases, Putty        15  1036.30  4   \n",
       "4    Atlantic Metals Mobile 4-Shelf Bookcases, Cust...        13  2922.17  4   \n",
       "..                                                 ...       ...      ... ..   \n",
       "125                                     Google Nexus 5        17  2843.84  4   \n",
       "126                                     Apple iPhone 5        14  7797.95  4   \n",
       "127  Panasonic KX-TG9541B DECT 6.0 Digital 2-Line E...        19  2249.84  4   \n",
       "128                                 Panasonic Kx-TS550        14   515.08  4   \n",
       "129  Wireless Extenders zBoost YX545 SOHO Signal Bo...        13  2230.08  4   \n",
       "\n",
       "     S  \n",
       "0    4  \n",
       "1    4  \n",
       "2    4  \n",
       "3    4  \n",
       "4    4  \n",
       "..  ..  \n",
       "125  4  \n",
       "126  4  \n",
       "127  4  \n",
       "128  4  \n",
       "129  4  \n",
       "\n",
       "[130 rows x 8 columns]"
      ]
     },
     "execution_count": 28,
     "metadata": {},
     "output_type": "execute_result"
    }
   ],
   "source": [
    "best_product = product[(product['Q'] == 4) & (product['S'] == 4)][['Product ID', 'Category', 'Sub-Category', 'Product Name', 'Quantity', 'Sales', 'Q', 'S']]\n",
    "best_product.reset_index(inplace=True)\n",
    "best_product.drop(columns=['index'], inplace=True)\n",
    "best_product"
   ]
  },
  {
   "cell_type": "code",
   "execution_count": 29,
   "id": "df42da08",
   "metadata": {
    "execution": {
     "iopub.execute_input": "2023-02-02T11:00:20.564965Z",
     "iopub.status.busy": "2023-02-02T11:00:20.564395Z",
     "iopub.status.idle": "2023-02-02T11:00:20.578957Z",
     "shell.execute_reply": "2023-02-02T11:00:20.577260Z",
     "shell.execute_reply.started": "2023-02-02T11:00:20.564916Z"
    }
   },
   "outputs": [
    {
     "data": {
      "text/plain": [
       "Office Supplies    48\n",
       "Furniture          46\n",
       "Technology         36\n",
       "Name: Category, dtype: int64"
      ]
     },
     "execution_count": 29,
     "metadata": {},
     "output_type": "execute_result"
    }
   ],
   "source": [
    "best_product['Category'].value_counts()"
   ]
  },
  {
   "cell_type": "code",
   "execution_count": null,
   "id": "5179916f",
   "metadata": {},
   "outputs": [],
   "source": []
  },
  {
   "cell_type": "markdown",
   "id": "c6ee5554",
   "metadata": {},
   "source": [
    "### Sale prediction in 2019"
   ]
  },
  {
   "cell_type": "code",
   "execution_count": 30,
   "id": "aaacb1e0",
   "metadata": {
    "execution": {
     "iopub.execute_input": "2023-02-02T11:00:20.582961Z",
     "iopub.status.busy": "2023-02-02T11:00:20.582344Z",
     "iopub.status.idle": "2023-02-02T11:00:20.620190Z",
     "shell.execute_reply": "2023-02-02T11:00:20.618051Z",
     "shell.execute_reply.started": "2023-02-02T11:00:20.582902Z"
    },
    "scrolled": true
   },
   "outputs": [
    {
     "data": {
      "text/html": [
       "<div>\n",
       "<style scoped>\n",
       "    .dataframe tbody tr th:only-of-type {\n",
       "        vertical-align: middle;\n",
       "    }\n",
       "\n",
       "    .dataframe tbody tr th {\n",
       "        vertical-align: top;\n",
       "    }\n",
       "\n",
       "    .dataframe thead th {\n",
       "        text-align: right;\n",
       "    }\n",
       "</style>\n",
       "<table border=\"1\" class=\"dataframe\">\n",
       "  <thead>\n",
       "    <tr style=\"text-align: right;\">\n",
       "      <th></th>\n",
       "      <th>Year</th>\n",
       "      <th>Month</th>\n",
       "      <th>Sales</th>\n",
       "      <th>Date</th>\n",
       "    </tr>\n",
       "  </thead>\n",
       "  <tbody>\n",
       "    <tr>\n",
       "      <th>0</th>\n",
       "      <td>2015</td>\n",
       "      <td>1</td>\n",
       "      <td>443.88</td>\n",
       "      <td>2015-01-01</td>\n",
       "    </tr>\n",
       "    <tr>\n",
       "      <th>1</th>\n",
       "      <td>2015</td>\n",
       "      <td>2</td>\n",
       "      <td>199.76</td>\n",
       "      <td>2015-02-01</td>\n",
       "    </tr>\n",
       "    <tr>\n",
       "      <th>2</th>\n",
       "      <td>2015</td>\n",
       "      <td>3</td>\n",
       "      <td>5943.21</td>\n",
       "      <td>2015-03-01</td>\n",
       "    </tr>\n",
       "    <tr>\n",
       "      <th>3</th>\n",
       "      <td>2015</td>\n",
       "      <td>4</td>\n",
       "      <td>3111.40</td>\n",
       "      <td>2015-04-01</td>\n",
       "    </tr>\n",
       "    <tr>\n",
       "      <th>4</th>\n",
       "      <td>2015</td>\n",
       "      <td>5</td>\n",
       "      <td>6788.72</td>\n",
       "      <td>2015-05-01</td>\n",
       "    </tr>\n",
       "    <tr>\n",
       "      <th>5</th>\n",
       "      <td>2015</td>\n",
       "      <td>6</td>\n",
       "      <td>11312.68</td>\n",
       "      <td>2015-06-01</td>\n",
       "    </tr>\n",
       "    <tr>\n",
       "      <th>6</th>\n",
       "      <td>2015</td>\n",
       "      <td>7</td>\n",
       "      <td>3568.03</td>\n",
       "      <td>2015-07-01</td>\n",
       "    </tr>\n",
       "    <tr>\n",
       "      <th>7</th>\n",
       "      <td>2015</td>\n",
       "      <td>8</td>\n",
       "      <td>4582.27</td>\n",
       "      <td>2015-08-01</td>\n",
       "    </tr>\n",
       "    <tr>\n",
       "      <th>8</th>\n",
       "      <td>2015</td>\n",
       "      <td>9</td>\n",
       "      <td>25086.98</td>\n",
       "      <td>2015-09-01</td>\n",
       "    </tr>\n",
       "    <tr>\n",
       "      <th>9</th>\n",
       "      <td>2015</td>\n",
       "      <td>10</td>\n",
       "      <td>8767.97</td>\n",
       "      <td>2015-10-01</td>\n",
       "    </tr>\n",
       "    <tr>\n",
       "      <th>10</th>\n",
       "      <td>2015</td>\n",
       "      <td>11</td>\n",
       "      <td>33590.43</td>\n",
       "      <td>2015-11-01</td>\n",
       "    </tr>\n",
       "    <tr>\n",
       "      <th>11</th>\n",
       "      <td>2015</td>\n",
       "      <td>12</td>\n",
       "      <td>24697.36</td>\n",
       "      <td>2015-12-01</td>\n",
       "    </tr>\n",
       "    <tr>\n",
       "      <th>12</th>\n",
       "      <td>2016</td>\n",
       "      <td>1</td>\n",
       "      <td>4670.88</td>\n",
       "      <td>2016-01-01</td>\n",
       "    </tr>\n",
       "    <tr>\n",
       "      <th>13</th>\n",
       "      <td>2016</td>\n",
       "      <td>2</td>\n",
       "      <td>6463.03</td>\n",
       "      <td>2016-02-01</td>\n",
       "    </tr>\n",
       "    <tr>\n",
       "      <th>14</th>\n",
       "      <td>2016</td>\n",
       "      <td>3</td>\n",
       "      <td>6011.62</td>\n",
       "      <td>2016-03-01</td>\n",
       "    </tr>\n",
       "    <tr>\n",
       "      <th>15</th>\n",
       "      <td>2016</td>\n",
       "      <td>4</td>\n",
       "      <td>8137.13</td>\n",
       "      <td>2016-04-01</td>\n",
       "    </tr>\n",
       "    <tr>\n",
       "      <th>16</th>\n",
       "      <td>2016</td>\n",
       "      <td>5</td>\n",
       "      <td>7839.71</td>\n",
       "      <td>2016-05-01</td>\n",
       "    </tr>\n",
       "    <tr>\n",
       "      <th>17</th>\n",
       "      <td>2016</td>\n",
       "      <td>6</td>\n",
       "      <td>7442.87</td>\n",
       "      <td>2016-06-01</td>\n",
       "    </tr>\n",
       "    <tr>\n",
       "      <th>18</th>\n",
       "      <td>2016</td>\n",
       "      <td>7</td>\n",
       "      <td>11710.50</td>\n",
       "      <td>2016-07-01</td>\n",
       "    </tr>\n",
       "    <tr>\n",
       "      <th>19</th>\n",
       "      <td>2016</td>\n",
       "      <td>8</td>\n",
       "      <td>9299.58</td>\n",
       "      <td>2016-08-01</td>\n",
       "    </tr>\n",
       "    <tr>\n",
       "      <th>20</th>\n",
       "      <td>2016</td>\n",
       "      <td>9</td>\n",
       "      <td>29215.43</td>\n",
       "      <td>2016-09-01</td>\n",
       "    </tr>\n",
       "    <tr>\n",
       "      <th>21</th>\n",
       "      <td>2016</td>\n",
       "      <td>10</td>\n",
       "      <td>6105.80</td>\n",
       "      <td>2016-10-01</td>\n",
       "    </tr>\n",
       "    <tr>\n",
       "      <th>22</th>\n",
       "      <td>2016</td>\n",
       "      <td>11</td>\n",
       "      <td>35056.79</td>\n",
       "      <td>2016-11-01</td>\n",
       "    </tr>\n",
       "    <tr>\n",
       "      <th>23</th>\n",
       "      <td>2016</td>\n",
       "      <td>12</td>\n",
       "      <td>24044.31</td>\n",
       "      <td>2016-12-01</td>\n",
       "    </tr>\n",
       "    <tr>\n",
       "      <th>24</th>\n",
       "      <td>2017</td>\n",
       "      <td>1</td>\n",
       "      <td>4841.95</td>\n",
       "      <td>2017-01-01</td>\n",
       "    </tr>\n",
       "    <tr>\n",
       "      <th>25</th>\n",
       "      <td>2017</td>\n",
       "      <td>2</td>\n",
       "      <td>3149.73</td>\n",
       "      <td>2017-02-01</td>\n",
       "    </tr>\n",
       "    <tr>\n",
       "      <th>26</th>\n",
       "      <td>2017</td>\n",
       "      <td>3</td>\n",
       "      <td>16350.63</td>\n",
       "      <td>2017-03-01</td>\n",
       "    </tr>\n",
       "    <tr>\n",
       "      <th>27</th>\n",
       "      <td>2017</td>\n",
       "      <td>4</td>\n",
       "      <td>17903.19</td>\n",
       "      <td>2017-04-01</td>\n",
       "    </tr>\n",
       "    <tr>\n",
       "      <th>28</th>\n",
       "      <td>2017</td>\n",
       "      <td>5</td>\n",
       "      <td>22229.94</td>\n",
       "      <td>2017-05-01</td>\n",
       "    </tr>\n",
       "    <tr>\n",
       "      <th>29</th>\n",
       "      <td>2017</td>\n",
       "      <td>6</td>\n",
       "      <td>11667.39</td>\n",
       "      <td>2017-06-01</td>\n",
       "    </tr>\n",
       "    <tr>\n",
       "      <th>30</th>\n",
       "      <td>2017</td>\n",
       "      <td>7</td>\n",
       "      <td>8996.07</td>\n",
       "      <td>2017-07-01</td>\n",
       "    </tr>\n",
       "    <tr>\n",
       "      <th>31</th>\n",
       "      <td>2017</td>\n",
       "      <td>8</td>\n",
       "      <td>9197.70</td>\n",
       "      <td>2017-08-01</td>\n",
       "    </tr>\n",
       "    <tr>\n",
       "      <th>32</th>\n",
       "      <td>2017</td>\n",
       "      <td>9</td>\n",
       "      <td>19129.61</td>\n",
       "      <td>2017-09-01</td>\n",
       "    </tr>\n",
       "    <tr>\n",
       "      <th>33</th>\n",
       "      <td>2017</td>\n",
       "      <td>10</td>\n",
       "      <td>15065.23</td>\n",
       "      <td>2017-10-01</td>\n",
       "    </tr>\n",
       "    <tr>\n",
       "      <th>34</th>\n",
       "      <td>2017</td>\n",
       "      <td>11</td>\n",
       "      <td>22976.05</td>\n",
       "      <td>2017-11-01</td>\n",
       "    </tr>\n",
       "    <tr>\n",
       "      <th>35</th>\n",
       "      <td>2017</td>\n",
       "      <td>12</td>\n",
       "      <td>27604.88</td>\n",
       "      <td>2017-12-01</td>\n",
       "    </tr>\n",
       "    <tr>\n",
       "      <th>36</th>\n",
       "      <td>2018</td>\n",
       "      <td>1</td>\n",
       "      <td>5383.19</td>\n",
       "      <td>2018-01-01</td>\n",
       "    </tr>\n",
       "    <tr>\n",
       "      <th>37</th>\n",
       "      <td>2018</td>\n",
       "      <td>2</td>\n",
       "      <td>5001.23</td>\n",
       "      <td>2018-02-01</td>\n",
       "    </tr>\n",
       "    <tr>\n",
       "      <th>38</th>\n",
       "      <td>2018</td>\n",
       "      <td>3</td>\n",
       "      <td>7435.71</td>\n",
       "      <td>2018-03-01</td>\n",
       "    </tr>\n",
       "    <tr>\n",
       "      <th>39</th>\n",
       "      <td>2018</td>\n",
       "      <td>4</td>\n",
       "      <td>10704.06</td>\n",
       "      <td>2018-04-01</td>\n",
       "    </tr>\n",
       "    <tr>\n",
       "      <th>40</th>\n",
       "      <td>2018</td>\n",
       "      <td>5</td>\n",
       "      <td>5900.17</td>\n",
       "      <td>2018-05-01</td>\n",
       "    </tr>\n",
       "    <tr>\n",
       "      <th>41</th>\n",
       "      <td>2018</td>\n",
       "      <td>6</td>\n",
       "      <td>15136.72</td>\n",
       "      <td>2018-06-01</td>\n",
       "    </tr>\n",
       "    <tr>\n",
       "      <th>42</th>\n",
       "      <td>2018</td>\n",
       "      <td>7</td>\n",
       "      <td>12069.45</td>\n",
       "      <td>2018-07-01</td>\n",
       "    </tr>\n",
       "    <tr>\n",
       "      <th>43</th>\n",
       "      <td>2018</td>\n",
       "      <td>8</td>\n",
       "      <td>20758.30</td>\n",
       "      <td>2018-08-01</td>\n",
       "    </tr>\n",
       "    <tr>\n",
       "      <th>44</th>\n",
       "      <td>2018</td>\n",
       "      <td>9</td>\n",
       "      <td>31407.41</td>\n",
       "      <td>2018-09-01</td>\n",
       "    </tr>\n",
       "    <tr>\n",
       "      <th>45</th>\n",
       "      <td>2018</td>\n",
       "      <td>10</td>\n",
       "      <td>32224.82</td>\n",
       "      <td>2018-10-01</td>\n",
       "    </tr>\n",
       "    <tr>\n",
       "      <th>46</th>\n",
       "      <td>2018</td>\n",
       "      <td>11</td>\n",
       "      <td>45674.46</td>\n",
       "      <td>2018-11-01</td>\n",
       "    </tr>\n",
       "    <tr>\n",
       "      <th>47</th>\n",
       "      <td>2018</td>\n",
       "      <td>12</td>\n",
       "      <td>20083.98</td>\n",
       "      <td>2018-12-01</td>\n",
       "    </tr>\n",
       "  </tbody>\n",
       "</table>\n",
       "</div>"
      ],
      "text/plain": [
       "    Year  Month     Sales       Date\n",
       "0   2015      1    443.88 2015-01-01\n",
       "1   2015      2    199.76 2015-02-01\n",
       "2   2015      3   5943.21 2015-03-01\n",
       "3   2015      4   3111.40 2015-04-01\n",
       "4   2015      5   6788.72 2015-05-01\n",
       "5   2015      6  11312.68 2015-06-01\n",
       "6   2015      7   3568.03 2015-07-01\n",
       "7   2015      8   4582.27 2015-08-01\n",
       "8   2015      9  25086.98 2015-09-01\n",
       "9   2015     10   8767.97 2015-10-01\n",
       "10  2015     11  33590.43 2015-11-01\n",
       "11  2015     12  24697.36 2015-12-01\n",
       "12  2016      1   4670.88 2016-01-01\n",
       "13  2016      2   6463.03 2016-02-01\n",
       "14  2016      3   6011.62 2016-03-01\n",
       "15  2016      4   8137.13 2016-04-01\n",
       "16  2016      5   7839.71 2016-05-01\n",
       "17  2016      6   7442.87 2016-06-01\n",
       "18  2016      7  11710.50 2016-07-01\n",
       "19  2016      8   9299.58 2016-08-01\n",
       "20  2016      9  29215.43 2016-09-01\n",
       "21  2016     10   6105.80 2016-10-01\n",
       "22  2016     11  35056.79 2016-11-01\n",
       "23  2016     12  24044.31 2016-12-01\n",
       "24  2017      1   4841.95 2017-01-01\n",
       "25  2017      2   3149.73 2017-02-01\n",
       "26  2017      3  16350.63 2017-03-01\n",
       "27  2017      4  17903.19 2017-04-01\n",
       "28  2017      5  22229.94 2017-05-01\n",
       "29  2017      6  11667.39 2017-06-01\n",
       "30  2017      7   8996.07 2017-07-01\n",
       "31  2017      8   9197.70 2017-08-01\n",
       "32  2017      9  19129.61 2017-09-01\n",
       "33  2017     10  15065.23 2017-10-01\n",
       "34  2017     11  22976.05 2017-11-01\n",
       "35  2017     12  27604.88 2017-12-01\n",
       "36  2018      1   5383.19 2018-01-01\n",
       "37  2018      2   5001.23 2018-02-01\n",
       "38  2018      3   7435.71 2018-03-01\n",
       "39  2018      4  10704.06 2018-04-01\n",
       "40  2018      5   5900.17 2018-05-01\n",
       "41  2018      6  15136.72 2018-06-01\n",
       "42  2018      7  12069.45 2018-07-01\n",
       "43  2018      8  20758.30 2018-08-01\n",
       "44  2018      9  31407.41 2018-09-01\n",
       "45  2018     10  32224.82 2018-10-01\n",
       "46  2018     11  45674.46 2018-11-01\n",
       "47  2018     12  20083.98 2018-12-01"
      ]
     },
     "execution_count": 30,
     "metadata": {},
     "output_type": "execute_result"
    }
   ],
   "source": [
    "Sales = east.groupby(['Year', 'Month']).agg({'Sales': 'sum'}).reset_index()\n",
    "Sales['Date'] = pd.to_datetime(dict(year=Sales['Year'], month=Sales['Month'], day=1))\n",
    "Sales"
   ]
  },
  {
   "cell_type": "code",
   "execution_count": 31,
   "id": "f873fe38",
   "metadata": {
    "execution": {
     "iopub.execute_input": "2023-02-02T11:00:20.623842Z",
     "iopub.status.busy": "2023-02-02T11:00:20.623407Z",
     "iopub.status.idle": "2023-02-02T11:00:20.658037Z",
     "shell.execute_reply": "2023-02-02T11:00:20.656448Z",
     "shell.execute_reply.started": "2023-02-02T11:00:20.623807Z"
    },
    "scrolled": true
   },
   "outputs": [
    {
     "data": {
      "text/html": [
       "<div>\n",
       "<style scoped>\n",
       "    .dataframe tbody tr th:only-of-type {\n",
       "        vertical-align: middle;\n",
       "    }\n",
       "\n",
       "    .dataframe tbody tr th {\n",
       "        vertical-align: top;\n",
       "    }\n",
       "\n",
       "    .dataframe thead th {\n",
       "        text-align: right;\n",
       "    }\n",
       "</style>\n",
       "<table border=\"1\" class=\"dataframe\">\n",
       "  <thead>\n",
       "    <tr style=\"text-align: right;\">\n",
       "      <th></th>\n",
       "      <th>Sales</th>\n",
       "    </tr>\n",
       "    <tr>\n",
       "      <th>Date</th>\n",
       "      <th></th>\n",
       "    </tr>\n",
       "  </thead>\n",
       "  <tbody>\n",
       "    <tr>\n",
       "      <th>2015-01-01</th>\n",
       "      <td>443.88</td>\n",
       "    </tr>\n",
       "    <tr>\n",
       "      <th>2015-02-01</th>\n",
       "      <td>199.76</td>\n",
       "    </tr>\n",
       "    <tr>\n",
       "      <th>2015-03-01</th>\n",
       "      <td>5943.21</td>\n",
       "    </tr>\n",
       "    <tr>\n",
       "      <th>2015-04-01</th>\n",
       "      <td>3111.40</td>\n",
       "    </tr>\n",
       "    <tr>\n",
       "      <th>2015-05-01</th>\n",
       "      <td>6788.72</td>\n",
       "    </tr>\n",
       "    <tr>\n",
       "      <th>2015-06-01</th>\n",
       "      <td>11312.68</td>\n",
       "    </tr>\n",
       "    <tr>\n",
       "      <th>2015-07-01</th>\n",
       "      <td>3568.03</td>\n",
       "    </tr>\n",
       "    <tr>\n",
       "      <th>2015-08-01</th>\n",
       "      <td>4582.27</td>\n",
       "    </tr>\n",
       "    <tr>\n",
       "      <th>2015-09-01</th>\n",
       "      <td>25086.98</td>\n",
       "    </tr>\n",
       "    <tr>\n",
       "      <th>2015-10-01</th>\n",
       "      <td>8767.97</td>\n",
       "    </tr>\n",
       "    <tr>\n",
       "      <th>2015-11-01</th>\n",
       "      <td>33590.43</td>\n",
       "    </tr>\n",
       "    <tr>\n",
       "      <th>2015-12-01</th>\n",
       "      <td>24697.36</td>\n",
       "    </tr>\n",
       "    <tr>\n",
       "      <th>2016-01-01</th>\n",
       "      <td>4670.88</td>\n",
       "    </tr>\n",
       "    <tr>\n",
       "      <th>2016-02-01</th>\n",
       "      <td>6463.03</td>\n",
       "    </tr>\n",
       "    <tr>\n",
       "      <th>2016-03-01</th>\n",
       "      <td>6011.62</td>\n",
       "    </tr>\n",
       "    <tr>\n",
       "      <th>2016-04-01</th>\n",
       "      <td>8137.13</td>\n",
       "    </tr>\n",
       "    <tr>\n",
       "      <th>2016-05-01</th>\n",
       "      <td>7839.71</td>\n",
       "    </tr>\n",
       "    <tr>\n",
       "      <th>2016-06-01</th>\n",
       "      <td>7442.87</td>\n",
       "    </tr>\n",
       "    <tr>\n",
       "      <th>2016-07-01</th>\n",
       "      <td>11710.50</td>\n",
       "    </tr>\n",
       "    <tr>\n",
       "      <th>2016-08-01</th>\n",
       "      <td>9299.58</td>\n",
       "    </tr>\n",
       "    <tr>\n",
       "      <th>2016-09-01</th>\n",
       "      <td>29215.43</td>\n",
       "    </tr>\n",
       "    <tr>\n",
       "      <th>2016-10-01</th>\n",
       "      <td>6105.80</td>\n",
       "    </tr>\n",
       "    <tr>\n",
       "      <th>2016-11-01</th>\n",
       "      <td>35056.79</td>\n",
       "    </tr>\n",
       "    <tr>\n",
       "      <th>2016-12-01</th>\n",
       "      <td>24044.31</td>\n",
       "    </tr>\n",
       "    <tr>\n",
       "      <th>2017-01-01</th>\n",
       "      <td>4841.95</td>\n",
       "    </tr>\n",
       "    <tr>\n",
       "      <th>2017-02-01</th>\n",
       "      <td>3149.73</td>\n",
       "    </tr>\n",
       "    <tr>\n",
       "      <th>2017-03-01</th>\n",
       "      <td>16350.63</td>\n",
       "    </tr>\n",
       "    <tr>\n",
       "      <th>2017-04-01</th>\n",
       "      <td>17903.19</td>\n",
       "    </tr>\n",
       "    <tr>\n",
       "      <th>2017-05-01</th>\n",
       "      <td>22229.94</td>\n",
       "    </tr>\n",
       "    <tr>\n",
       "      <th>2017-06-01</th>\n",
       "      <td>11667.39</td>\n",
       "    </tr>\n",
       "    <tr>\n",
       "      <th>2017-07-01</th>\n",
       "      <td>8996.07</td>\n",
       "    </tr>\n",
       "    <tr>\n",
       "      <th>2017-08-01</th>\n",
       "      <td>9197.70</td>\n",
       "    </tr>\n",
       "    <tr>\n",
       "      <th>2017-09-01</th>\n",
       "      <td>19129.61</td>\n",
       "    </tr>\n",
       "    <tr>\n",
       "      <th>2017-10-01</th>\n",
       "      <td>15065.23</td>\n",
       "    </tr>\n",
       "    <tr>\n",
       "      <th>2017-11-01</th>\n",
       "      <td>22976.05</td>\n",
       "    </tr>\n",
       "    <tr>\n",
       "      <th>2017-12-01</th>\n",
       "      <td>27604.88</td>\n",
       "    </tr>\n",
       "    <tr>\n",
       "      <th>2018-01-01</th>\n",
       "      <td>5383.19</td>\n",
       "    </tr>\n",
       "    <tr>\n",
       "      <th>2018-02-01</th>\n",
       "      <td>5001.23</td>\n",
       "    </tr>\n",
       "    <tr>\n",
       "      <th>2018-03-01</th>\n",
       "      <td>7435.71</td>\n",
       "    </tr>\n",
       "    <tr>\n",
       "      <th>2018-04-01</th>\n",
       "      <td>10704.06</td>\n",
       "    </tr>\n",
       "    <tr>\n",
       "      <th>2018-05-01</th>\n",
       "      <td>5900.17</td>\n",
       "    </tr>\n",
       "    <tr>\n",
       "      <th>2018-06-01</th>\n",
       "      <td>15136.72</td>\n",
       "    </tr>\n",
       "    <tr>\n",
       "      <th>2018-07-01</th>\n",
       "      <td>12069.45</td>\n",
       "    </tr>\n",
       "    <tr>\n",
       "      <th>2018-08-01</th>\n",
       "      <td>20758.30</td>\n",
       "    </tr>\n",
       "    <tr>\n",
       "      <th>2018-09-01</th>\n",
       "      <td>31407.41</td>\n",
       "    </tr>\n",
       "    <tr>\n",
       "      <th>2018-10-01</th>\n",
       "      <td>32224.82</td>\n",
       "    </tr>\n",
       "    <tr>\n",
       "      <th>2018-11-01</th>\n",
       "      <td>45674.46</td>\n",
       "    </tr>\n",
       "    <tr>\n",
       "      <th>2018-12-01</th>\n",
       "      <td>20083.98</td>\n",
       "    </tr>\n",
       "  </tbody>\n",
       "</table>\n",
       "</div>"
      ],
      "text/plain": [
       "               Sales\n",
       "Date                \n",
       "2015-01-01    443.88\n",
       "2015-02-01    199.76\n",
       "2015-03-01   5943.21\n",
       "2015-04-01   3111.40\n",
       "2015-05-01   6788.72\n",
       "2015-06-01  11312.68\n",
       "2015-07-01   3568.03\n",
       "2015-08-01   4582.27\n",
       "2015-09-01  25086.98\n",
       "2015-10-01   8767.97\n",
       "2015-11-01  33590.43\n",
       "2015-12-01  24697.36\n",
       "2016-01-01   4670.88\n",
       "2016-02-01   6463.03\n",
       "2016-03-01   6011.62\n",
       "2016-04-01   8137.13\n",
       "2016-05-01   7839.71\n",
       "2016-06-01   7442.87\n",
       "2016-07-01  11710.50\n",
       "2016-08-01   9299.58\n",
       "2016-09-01  29215.43\n",
       "2016-10-01   6105.80\n",
       "2016-11-01  35056.79\n",
       "2016-12-01  24044.31\n",
       "2017-01-01   4841.95\n",
       "2017-02-01   3149.73\n",
       "2017-03-01  16350.63\n",
       "2017-04-01  17903.19\n",
       "2017-05-01  22229.94\n",
       "2017-06-01  11667.39\n",
       "2017-07-01   8996.07\n",
       "2017-08-01   9197.70\n",
       "2017-09-01  19129.61\n",
       "2017-10-01  15065.23\n",
       "2017-11-01  22976.05\n",
       "2017-12-01  27604.88\n",
       "2018-01-01   5383.19\n",
       "2018-02-01   5001.23\n",
       "2018-03-01   7435.71\n",
       "2018-04-01  10704.06\n",
       "2018-05-01   5900.17\n",
       "2018-06-01  15136.72\n",
       "2018-07-01  12069.45\n",
       "2018-08-01  20758.30\n",
       "2018-09-01  31407.41\n",
       "2018-10-01  32224.82\n",
       "2018-11-01  45674.46\n",
       "2018-12-01  20083.98"
      ]
     },
     "execution_count": 31,
     "metadata": {},
     "output_type": "execute_result"
    }
   ],
   "source": [
    "Sales.drop(columns=['Year', 'Month'], inplace=True)\n",
    "Sales.set_index('Date', inplace=True)\n",
    "Sales = Sales.asfreq('MS')\n",
    "Sales"
   ]
  },
  {
   "cell_type": "code",
   "execution_count": 32,
   "id": "6d03e6c3",
   "metadata": {
    "execution": {
     "iopub.execute_input": "2023-02-02T11:00:20.660564Z",
     "iopub.status.busy": "2023-02-02T11:00:20.660075Z",
     "iopub.status.idle": "2023-02-02T11:00:21.596433Z",
     "shell.execute_reply": "2023-02-02T11:00:21.594861Z",
     "shell.execute_reply.started": "2023-02-02T11:00:20.660527Z"
    },
    "scrolled": true
   },
   "outputs": [
    {
     "data": {
      "text/html": [
       "<style type='text/css'>\n",
       ".datatable table.frame { margin-bottom: 0; }\n",
       ".datatable table.frame thead { border-bottom: none; }\n",
       ".datatable table.frame tr.coltypes td {  color: #FFFFFF;  line-height: 6px;  padding: 0 0.5em;}\n",
       ".datatable .bool    { background: #DDDD99; }\n",
       ".datatable .object  { background: #565656; }\n",
       ".datatable .int     { background: #5D9E5D; }\n",
       ".datatable .float   { background: #4040CC; }\n",
       ".datatable .str     { background: #CC4040; }\n",
       ".datatable .time    { background: #40CC40; }\n",
       ".datatable .row_index {  background: var(--jp-border-color3);  border-right: 1px solid var(--jp-border-color0);  color: var(--jp-ui-font-color3);  font-size: 9px;}\n",
       ".datatable .frame tbody td { text-align: left; }\n",
       ".datatable .frame tr.coltypes .row_index {  background: var(--jp-border-color0);}\n",
       ".datatable th:nth-child(2) { padding-left: 12px; }\n",
       ".datatable .hellipsis {  color: var(--jp-cell-editor-border-color);}\n",
       ".datatable .vellipsis {  background: var(--jp-layout-color0);  color: var(--jp-cell-editor-border-color);}\n",
       ".datatable .na {  color: var(--jp-cell-editor-border-color);  font-size: 80%;}\n",
       ".datatable .sp {  opacity: 0.25;}\n",
       ".datatable .footer { font-size: 9px; }\n",
       ".datatable .frame_dimensions {  background: var(--jp-border-color3);  border-top: 1px solid var(--jp-border-color0);  color: var(--jp-ui-font-color3);  display: inline-block;  opacity: 0.6;  padding: 1px 10px 1px 5px;}\n",
       "</style>\n"
      ],
      "text/plain": [
       "<IPython.core.display.HTML object>"
      ]
     },
     "metadata": {},
     "output_type": "display_data"
    },
    {
     "data": {
      "text/html": [
       "<style type=\"text/css\">\n",
       "#T_1c3b1_row11_col1, #T_1c3b1_row19_col1 {\n",
       "  background-color: lightgreen;\n",
       "}\n",
       "</style>\n",
       "<table id=\"T_1c3b1_\">\n",
       "  <thead>\n",
       "    <tr>\n",
       "      <th class=\"blank level0\" >&nbsp;</th>\n",
       "      <th class=\"col_heading level0 col0\" >Description</th>\n",
       "      <th class=\"col_heading level0 col1\" >Value</th>\n",
       "    </tr>\n",
       "  </thead>\n",
       "  <tbody>\n",
       "    <tr>\n",
       "      <th id=\"T_1c3b1_level0_row0\" class=\"row_heading level0 row0\" >0</th>\n",
       "      <td id=\"T_1c3b1_row0_col0\" class=\"data row0 col0\" >session_id</td>\n",
       "      <td id=\"T_1c3b1_row0_col1\" class=\"data row0 col1\" >1776</td>\n",
       "    </tr>\n",
       "    <tr>\n",
       "      <th id=\"T_1c3b1_level0_row1\" class=\"row_heading level0 row1\" >1</th>\n",
       "      <td id=\"T_1c3b1_row1_col0\" class=\"data row1 col0\" >Target</td>\n",
       "      <td id=\"T_1c3b1_row1_col1\" class=\"data row1 col1\" >Sales</td>\n",
       "    </tr>\n",
       "    <tr>\n",
       "      <th id=\"T_1c3b1_level0_row2\" class=\"row_heading level0 row2\" >2</th>\n",
       "      <td id=\"T_1c3b1_row2_col0\" class=\"data row2 col0\" >Approach</td>\n",
       "      <td id=\"T_1c3b1_row2_col1\" class=\"data row2 col1\" >Univariate</td>\n",
       "    </tr>\n",
       "    <tr>\n",
       "      <th id=\"T_1c3b1_level0_row3\" class=\"row_heading level0 row3\" >3</th>\n",
       "      <td id=\"T_1c3b1_row3_col0\" class=\"data row3 col0\" >Exogenous Variables</td>\n",
       "      <td id=\"T_1c3b1_row3_col1\" class=\"data row3 col1\" >Not Present</td>\n",
       "    </tr>\n",
       "    <tr>\n",
       "      <th id=\"T_1c3b1_level0_row4\" class=\"row_heading level0 row4\" >4</th>\n",
       "      <td id=\"T_1c3b1_row4_col0\" class=\"data row4 col0\" >Data shape</td>\n",
       "      <td id=\"T_1c3b1_row4_col1\" class=\"data row4 col1\" >(48, 1)</td>\n",
       "    </tr>\n",
       "    <tr>\n",
       "      <th id=\"T_1c3b1_level0_row5\" class=\"row_heading level0 row5\" >5</th>\n",
       "      <td id=\"T_1c3b1_row5_col0\" class=\"data row5 col0\" >Train data shape</td>\n",
       "      <td id=\"T_1c3b1_row5_col1\" class=\"data row5 col1\" >(42, 1)</td>\n",
       "    </tr>\n",
       "    <tr>\n",
       "      <th id=\"T_1c3b1_level0_row6\" class=\"row_heading level0 row6\" >6</th>\n",
       "      <td id=\"T_1c3b1_row6_col0\" class=\"data row6 col0\" >Test data shape</td>\n",
       "      <td id=\"T_1c3b1_row6_col1\" class=\"data row6 col1\" >(6, 1)</td>\n",
       "    </tr>\n",
       "    <tr>\n",
       "      <th id=\"T_1c3b1_level0_row7\" class=\"row_heading level0 row7\" >7</th>\n",
       "      <td id=\"T_1c3b1_row7_col0\" class=\"data row7 col0\" >Fold Generator</td>\n",
       "      <td id=\"T_1c3b1_row7_col1\" class=\"data row7 col1\" >ExpandingWindowSplitter</td>\n",
       "    </tr>\n",
       "    <tr>\n",
       "      <th id=\"T_1c3b1_level0_row8\" class=\"row_heading level0 row8\" >8</th>\n",
       "      <td id=\"T_1c3b1_row8_col0\" class=\"data row8 col0\" >Fold Number</td>\n",
       "      <td id=\"T_1c3b1_row8_col1\" class=\"data row8 col1\" >3</td>\n",
       "    </tr>\n",
       "    <tr>\n",
       "      <th id=\"T_1c3b1_level0_row9\" class=\"row_heading level0 row9\" >9</th>\n",
       "      <td id=\"T_1c3b1_row9_col0\" class=\"data row9 col0\" >Enforce Prediction Interval</td>\n",
       "      <td id=\"T_1c3b1_row9_col1\" class=\"data row9 col1\" >False</td>\n",
       "    </tr>\n",
       "    <tr>\n",
       "      <th id=\"T_1c3b1_level0_row10\" class=\"row_heading level0 row10\" >10</th>\n",
       "      <td id=\"T_1c3b1_row10_col0\" class=\"data row10 col0\" >Seasonal Period(s) Tested</td>\n",
       "      <td id=\"T_1c3b1_row10_col1\" class=\"data row10 col1\" >12</td>\n",
       "    </tr>\n",
       "    <tr>\n",
       "      <th id=\"T_1c3b1_level0_row11\" class=\"row_heading level0 row11\" >11</th>\n",
       "      <td id=\"T_1c3b1_row11_col0\" class=\"data row11 col0\" >Seasonality Present</td>\n",
       "      <td id=\"T_1c3b1_row11_col1\" class=\"data row11 col1\" >True</td>\n",
       "    </tr>\n",
       "    <tr>\n",
       "      <th id=\"T_1c3b1_level0_row12\" class=\"row_heading level0 row12\" >12</th>\n",
       "      <td id=\"T_1c3b1_row12_col0\" class=\"data row12 col0\" >Seasonalities Detected</td>\n",
       "      <td id=\"T_1c3b1_row12_col1\" class=\"data row12 col1\" >[12]</td>\n",
       "    </tr>\n",
       "    <tr>\n",
       "      <th id=\"T_1c3b1_level0_row13\" class=\"row_heading level0 row13\" >13</th>\n",
       "      <td id=\"T_1c3b1_row13_col0\" class=\"data row13 col0\" >Primary Seasonality</td>\n",
       "      <td id=\"T_1c3b1_row13_col1\" class=\"data row13 col1\" >12</td>\n",
       "    </tr>\n",
       "    <tr>\n",
       "      <th id=\"T_1c3b1_level0_row14\" class=\"row_heading level0 row14\" >14</th>\n",
       "      <td id=\"T_1c3b1_row14_col0\" class=\"data row14 col0\" >Target Strictly Positive</td>\n",
       "      <td id=\"T_1c3b1_row14_col1\" class=\"data row14 col1\" >True</td>\n",
       "    </tr>\n",
       "    <tr>\n",
       "      <th id=\"T_1c3b1_level0_row15\" class=\"row_heading level0 row15\" >15</th>\n",
       "      <td id=\"T_1c3b1_row15_col0\" class=\"data row15 col0\" >Target White Noise</td>\n",
       "      <td id=\"T_1c3b1_row15_col1\" class=\"data row15 col1\" >No</td>\n",
       "    </tr>\n",
       "    <tr>\n",
       "      <th id=\"T_1c3b1_level0_row16\" class=\"row_heading level0 row16\" >16</th>\n",
       "      <td id=\"T_1c3b1_row16_col0\" class=\"data row16 col0\" >Recommended d</td>\n",
       "      <td id=\"T_1c3b1_row16_col1\" class=\"data row16 col1\" >0</td>\n",
       "    </tr>\n",
       "    <tr>\n",
       "      <th id=\"T_1c3b1_level0_row17\" class=\"row_heading level0 row17\" >17</th>\n",
       "      <td id=\"T_1c3b1_row17_col0\" class=\"data row17 col0\" >Recommended Seasonal D</td>\n",
       "      <td id=\"T_1c3b1_row17_col1\" class=\"data row17 col1\" >0</td>\n",
       "    </tr>\n",
       "    <tr>\n",
       "      <th id=\"T_1c3b1_level0_row18\" class=\"row_heading level0 row18\" >18</th>\n",
       "      <td id=\"T_1c3b1_row18_col0\" class=\"data row18 col0\" >Missing Values</td>\n",
       "      <td id=\"T_1c3b1_row18_col1\" class=\"data row18 col1\" >0</td>\n",
       "    </tr>\n",
       "    <tr>\n",
       "      <th id=\"T_1c3b1_level0_row19\" class=\"row_heading level0 row19\" >19</th>\n",
       "      <td id=\"T_1c3b1_row19_col0\" class=\"data row19 col0\" >Preprocess</td>\n",
       "      <td id=\"T_1c3b1_row19_col1\" class=\"data row19 col1\" >True</td>\n",
       "    </tr>\n",
       "    <tr>\n",
       "      <th id=\"T_1c3b1_level0_row20\" class=\"row_heading level0 row20\" >20</th>\n",
       "      <td id=\"T_1c3b1_row20_col0\" class=\"data row20 col0\" >CPU Jobs</td>\n",
       "      <td id=\"T_1c3b1_row20_col1\" class=\"data row20 col1\" >1</td>\n",
       "    </tr>\n",
       "    <tr>\n",
       "      <th id=\"T_1c3b1_level0_row21\" class=\"row_heading level0 row21\" >21</th>\n",
       "      <td id=\"T_1c3b1_row21_col0\" class=\"data row21 col0\" >Use GPU</td>\n",
       "      <td id=\"T_1c3b1_row21_col1\" class=\"data row21 col1\" >False</td>\n",
       "    </tr>\n",
       "    <tr>\n",
       "      <th id=\"T_1c3b1_level0_row22\" class=\"row_heading level0 row22\" >22</th>\n",
       "      <td id=\"T_1c3b1_row22_col0\" class=\"data row22 col0\" >Log Experiment</td>\n",
       "      <td id=\"T_1c3b1_row22_col1\" class=\"data row22 col1\" >False</td>\n",
       "    </tr>\n",
       "    <tr>\n",
       "      <th id=\"T_1c3b1_level0_row23\" class=\"row_heading level0 row23\" >23</th>\n",
       "      <td id=\"T_1c3b1_row23_col0\" class=\"data row23 col0\" >Experiment Name</td>\n",
       "      <td id=\"T_1c3b1_row23_col1\" class=\"data row23 col1\" >ts-default-name</td>\n",
       "    </tr>\n",
       "    <tr>\n",
       "      <th id=\"T_1c3b1_level0_row24\" class=\"row_heading level0 row24\" >24</th>\n",
       "      <td id=\"T_1c3b1_row24_col0\" class=\"data row24 col0\" >USI</td>\n",
       "      <td id=\"T_1c3b1_row24_col1\" class=\"data row24 col1\" >355f</td>\n",
       "    </tr>\n",
       "  </tbody>\n",
       "</table>\n"
      ],
      "text/plain": [
       "<pandas.io.formats.style.Styler at 0x7fb47b640ad0>"
      ]
     },
     "metadata": {},
     "output_type": "display_data"
    }
   ],
   "source": [
    "s = setup(Sales, fh=6, n_jobs=1)"
   ]
  },
  {
   "cell_type": "code",
   "execution_count": 33,
   "id": "dffbe6cc",
   "metadata": {
    "execution": {
     "iopub.execute_input": "2023-02-02T11:00:21.601441Z",
     "iopub.status.busy": "2023-02-02T11:00:21.600475Z",
     "iopub.status.idle": "2023-02-02T11:00:23.057328Z",
     "shell.execute_reply": "2023-02-02T11:00:23.055626Z",
     "shell.execute_reply.started": "2023-02-02T11:00:21.601394Z"
    }
   },
   "outputs": [
    {
     "data": {
      "text/html": [
       "        <script type=\"text/javascript\">\n",
       "        window.PlotlyConfig = {MathJaxConfig: 'local'};\n",
       "        if (window.MathJax && window.MathJax.Hub && window.MathJax.Hub.Config) {window.MathJax.Hub.Config({SVG: {font: \"STIX-Web\"}});}\n",
       "        if (typeof require !== 'undefined') {\n",
       "        require.undef(\"plotly\");\n",
       "        requirejs.config({\n",
       "            paths: {\n",
       "                'plotly': ['https://cdn.plot.ly/plotly-2.18.0.min']\n",
       "            }\n",
       "        });\n",
       "        require(['plotly'], function(Plotly) {\n",
       "            window._Plotly = Plotly;\n",
       "        });\n",
       "        }\n",
       "        </script>\n",
       "        "
      ]
     },
     "metadata": {},
     "output_type": "display_data"
    },
    {
     "data": {
      "text/html": [
       "<div>                            <div id=\"7ec1bb81-ba92-4057-a887-c8166c15409e\" class=\"plotly-graph-div\" style=\"height:525px; width:100%;\"></div>            <script type=\"text/javascript\">                require([\"plotly\"], function(Plotly) {                    window.PLOTLYENV=window.PLOTLYENV || {};                                    if (document.getElementById(\"7ec1bb81-ba92-4057-a887-c8166c15409e\")) {                    Plotly.newPlot(                        \"7ec1bb81-ba92-4057-a887-c8166c15409e\",                        [{\"marker\":{\"color\":\"#1f77b4\"},\"mode\":\"lines+markers\",\"name\":\"Train\",\"x\":[\"2015-01-01T00:00:00\",\"2015-02-01T00:00:00\",\"2015-03-01T00:00:00\",\"2015-04-01T00:00:00\",\"2015-05-01T00:00:00\",\"2015-06-01T00:00:00\",\"2015-07-01T00:00:00\",\"2015-08-01T00:00:00\",\"2015-09-01T00:00:00\",\"2015-10-01T00:00:00\",\"2015-11-01T00:00:00\",\"2015-12-01T00:00:00\",\"2016-01-01T00:00:00\",\"2016-02-01T00:00:00\",\"2016-03-01T00:00:00\",\"2016-04-01T00:00:00\",\"2016-05-01T00:00:00\",\"2016-06-01T00:00:00\",\"2016-07-01T00:00:00\",\"2016-08-01T00:00:00\",\"2016-09-01T00:00:00\",\"2016-10-01T00:00:00\",\"2016-11-01T00:00:00\",\"2016-12-01T00:00:00\",\"2017-01-01T00:00:00\",\"2017-02-01T00:00:00\",\"2017-03-01T00:00:00\",\"2017-04-01T00:00:00\",\"2017-05-01T00:00:00\",\"2017-06-01T00:00:00\",\"2017-07-01T00:00:00\",\"2017-08-01T00:00:00\",\"2017-09-01T00:00:00\",\"2017-10-01T00:00:00\",\"2017-11-01T00:00:00\",\"2017-12-01T00:00:00\",\"2018-01-01T00:00:00\",\"2018-02-01T00:00:00\",\"2018-03-01T00:00:00\",\"2018-04-01T00:00:00\",\"2018-05-01T00:00:00\",\"2018-06-01T00:00:00\"],\"y\":[443.88,199.76,5943.21,3111.4,6788.72,11312.68,3568.03,4582.27,25086.98,8767.97,33590.43,24697.36,4670.88,6463.03,6011.62,8137.13,7839.71,7442.87,11710.5,9299.58,29215.43,6105.8,35056.79,24044.31,4841.95,3149.73,16350.630000000001,17903.19,22229.94,11667.39,8996.07,9197.699999999999,19129.61,15065.23,22976.05,27604.88,5383.1900000000005,5001.2300000000005,7435.71,10704.06,5900.17,15136.72],\"type\":\"scatter\"},{\"marker\":{\"color\":\"#FFA500\"},\"mode\":\"lines+markers\",\"name\":\"Test\",\"x\":[\"2018-07-01T00:00:00\",\"2018-08-01T00:00:00\",\"2018-09-01T00:00:00\",\"2018-10-01T00:00:00\",\"2018-11-01T00:00:00\",\"2018-12-01T00:00:00\"],\"y\":[12069.45,20758.3,31407.41,32224.82,45674.46,20083.98],\"type\":\"scatter\"}],                        {\"template\":{\"data\":{\"barpolar\":[{\"marker\":{\"line\":{\"color\":\"rgb(237,237,237)\",\"width\":0.5},\"pattern\":{\"fillmode\":\"overlay\",\"size\":10,\"solidity\":0.2}},\"type\":\"barpolar\"}],\"bar\":[{\"error_x\":{\"color\":\"rgb(51,51,51)\"},\"error_y\":{\"color\":\"rgb(51,51,51)\"},\"marker\":{\"line\":{\"color\":\"rgb(237,237,237)\",\"width\":0.5},\"pattern\":{\"fillmode\":\"overlay\",\"size\":10,\"solidity\":0.2}},\"type\":\"bar\"}],\"carpet\":[{\"aaxis\":{\"endlinecolor\":\"rgb(51,51,51)\",\"gridcolor\":\"white\",\"linecolor\":\"white\",\"minorgridcolor\":\"white\",\"startlinecolor\":\"rgb(51,51,51)\"},\"baxis\":{\"endlinecolor\":\"rgb(51,51,51)\",\"gridcolor\":\"white\",\"linecolor\":\"white\",\"minorgridcolor\":\"white\",\"startlinecolor\":\"rgb(51,51,51)\"},\"type\":\"carpet\"}],\"choropleth\":[{\"colorbar\":{\"outlinewidth\":0,\"tickcolor\":\"rgb(237,237,237)\",\"ticklen\":6,\"ticks\":\"inside\"},\"type\":\"choropleth\"}],\"contourcarpet\":[{\"colorbar\":{\"outlinewidth\":0,\"tickcolor\":\"rgb(237,237,237)\",\"ticklen\":6,\"ticks\":\"inside\"},\"type\":\"contourcarpet\"}],\"contour\":[{\"colorbar\":{\"outlinewidth\":0,\"tickcolor\":\"rgb(237,237,237)\",\"ticklen\":6,\"ticks\":\"inside\"},\"colorscale\":[[0,\"rgb(20,44,66)\"],[1,\"rgb(90,179,244)\"]],\"type\":\"contour\"}],\"heatmapgl\":[{\"colorbar\":{\"outlinewidth\":0,\"tickcolor\":\"rgb(237,237,237)\",\"ticklen\":6,\"ticks\":\"inside\"},\"colorscale\":[[0,\"rgb(20,44,66)\"],[1,\"rgb(90,179,244)\"]],\"type\":\"heatmapgl\"}],\"heatmap\":[{\"colorbar\":{\"outlinewidth\":0,\"tickcolor\":\"rgb(237,237,237)\",\"ticklen\":6,\"ticks\":\"inside\"},\"colorscale\":[[0,\"rgb(20,44,66)\"],[1,\"rgb(90,179,244)\"]],\"type\":\"heatmap\"}],\"histogram2dcontour\":[{\"colorbar\":{\"outlinewidth\":0,\"tickcolor\":\"rgb(237,237,237)\",\"ticklen\":6,\"ticks\":\"inside\"},\"colorscale\":[[0,\"rgb(20,44,66)\"],[1,\"rgb(90,179,244)\"]],\"type\":\"histogram2dcontour\"}],\"histogram2d\":[{\"colorbar\":{\"outlinewidth\":0,\"tickcolor\":\"rgb(237,237,237)\",\"ticklen\":6,\"ticks\":\"inside\"},\"colorscale\":[[0,\"rgb(20,44,66)\"],[1,\"rgb(90,179,244)\"]],\"type\":\"histogram2d\"}],\"histogram\":[{\"marker\":{\"pattern\":{\"fillmode\":\"overlay\",\"size\":10,\"solidity\":0.2}},\"type\":\"histogram\"}],\"mesh3d\":[{\"colorbar\":{\"outlinewidth\":0,\"tickcolor\":\"rgb(237,237,237)\",\"ticklen\":6,\"ticks\":\"inside\"},\"type\":\"mesh3d\"}],\"parcoords\":[{\"line\":{\"colorbar\":{\"outlinewidth\":0,\"tickcolor\":\"rgb(237,237,237)\",\"ticklen\":6,\"ticks\":\"inside\"}},\"type\":\"parcoords\"}],\"pie\":[{\"automargin\":true,\"type\":\"pie\"}],\"scatter3d\":[{\"line\":{\"colorbar\":{\"outlinewidth\":0,\"tickcolor\":\"rgb(237,237,237)\",\"ticklen\":6,\"ticks\":\"inside\"}},\"marker\":{\"colorbar\":{\"outlinewidth\":0,\"tickcolor\":\"rgb(237,237,237)\",\"ticklen\":6,\"ticks\":\"inside\"}},\"type\":\"scatter3d\"}],\"scattercarpet\":[{\"marker\":{\"colorbar\":{\"outlinewidth\":0,\"tickcolor\":\"rgb(237,237,237)\",\"ticklen\":6,\"ticks\":\"inside\"}},\"type\":\"scattercarpet\"}],\"scattergeo\":[{\"marker\":{\"colorbar\":{\"outlinewidth\":0,\"tickcolor\":\"rgb(237,237,237)\",\"ticklen\":6,\"ticks\":\"inside\"}},\"type\":\"scattergeo\"}],\"scattergl\":[{\"marker\":{\"colorbar\":{\"outlinewidth\":0,\"tickcolor\":\"rgb(237,237,237)\",\"ticklen\":6,\"ticks\":\"inside\"}},\"type\":\"scattergl\"}],\"scattermapbox\":[{\"marker\":{\"colorbar\":{\"outlinewidth\":0,\"tickcolor\":\"rgb(237,237,237)\",\"ticklen\":6,\"ticks\":\"inside\"}},\"type\":\"scattermapbox\"}],\"scatterpolargl\":[{\"marker\":{\"colorbar\":{\"outlinewidth\":0,\"tickcolor\":\"rgb(237,237,237)\",\"ticklen\":6,\"ticks\":\"inside\"}},\"type\":\"scatterpolargl\"}],\"scatterpolar\":[{\"marker\":{\"colorbar\":{\"outlinewidth\":0,\"tickcolor\":\"rgb(237,237,237)\",\"ticklen\":6,\"ticks\":\"inside\"}},\"type\":\"scatterpolar\"}],\"scatter\":[{\"fillpattern\":{\"fillmode\":\"overlay\",\"size\":10,\"solidity\":0.2},\"type\":\"scatter\"}],\"scatterternary\":[{\"marker\":{\"colorbar\":{\"outlinewidth\":0,\"tickcolor\":\"rgb(237,237,237)\",\"ticklen\":6,\"ticks\":\"inside\"}},\"type\":\"scatterternary\"}],\"surface\":[{\"colorbar\":{\"outlinewidth\":0,\"tickcolor\":\"rgb(237,237,237)\",\"ticklen\":6,\"ticks\":\"inside\"},\"colorscale\":[[0,\"rgb(20,44,66)\"],[1,\"rgb(90,179,244)\"]],\"type\":\"surface\"}],\"table\":[{\"cells\":{\"fill\":{\"color\":\"rgb(237,237,237)\"},\"line\":{\"color\":\"white\"}},\"header\":{\"fill\":{\"color\":\"rgb(217,217,217)\"},\"line\":{\"color\":\"white\"}},\"type\":\"table\"}]},\"layout\":{\"annotationdefaults\":{\"arrowhead\":0,\"arrowwidth\":1},\"autotypenumbers\":\"strict\",\"coloraxis\":{\"colorbar\":{\"outlinewidth\":0,\"tickcolor\":\"rgb(237,237,237)\",\"ticklen\":6,\"ticks\":\"inside\"}},\"colorscale\":{\"sequential\":[[0,\"rgb(20,44,66)\"],[1,\"rgb(90,179,244)\"]],\"sequentialminus\":[[0,\"rgb(20,44,66)\"],[1,\"rgb(90,179,244)\"]]},\"colorway\":[\"#F8766D\",\"#A3A500\",\"#00BF7D\",\"#00B0F6\",\"#E76BF3\"],\"font\":{\"color\":\"rgb(51,51,51)\"},\"geo\":{\"bgcolor\":\"white\",\"lakecolor\":\"white\",\"landcolor\":\"rgb(237,237,237)\",\"showlakes\":true,\"showland\":true,\"subunitcolor\":\"white\"},\"hoverlabel\":{\"align\":\"left\"},\"hovermode\":\"closest\",\"paper_bgcolor\":\"white\",\"plot_bgcolor\":\"rgb(237,237,237)\",\"polar\":{\"angularaxis\":{\"gridcolor\":\"white\",\"linecolor\":\"white\",\"showgrid\":true,\"tickcolor\":\"rgb(51,51,51)\",\"ticks\":\"outside\"},\"bgcolor\":\"rgb(237,237,237)\",\"radialaxis\":{\"gridcolor\":\"white\",\"linecolor\":\"white\",\"showgrid\":true,\"tickcolor\":\"rgb(51,51,51)\",\"ticks\":\"outside\"}},\"scene\":{\"xaxis\":{\"backgroundcolor\":\"rgb(237,237,237)\",\"gridcolor\":\"white\",\"gridwidth\":2,\"linecolor\":\"white\",\"showbackground\":true,\"showgrid\":true,\"tickcolor\":\"rgb(51,51,51)\",\"ticks\":\"outside\",\"zerolinecolor\":\"white\"},\"yaxis\":{\"backgroundcolor\":\"rgb(237,237,237)\",\"gridcolor\":\"white\",\"gridwidth\":2,\"linecolor\":\"white\",\"showbackground\":true,\"showgrid\":true,\"tickcolor\":\"rgb(51,51,51)\",\"ticks\":\"outside\",\"zerolinecolor\":\"white\"},\"zaxis\":{\"backgroundcolor\":\"rgb(237,237,237)\",\"gridcolor\":\"white\",\"gridwidth\":2,\"linecolor\":\"white\",\"showbackground\":true,\"showgrid\":true,\"tickcolor\":\"rgb(51,51,51)\",\"ticks\":\"outside\",\"zerolinecolor\":\"white\"}},\"shapedefaults\":{\"fillcolor\":\"black\",\"line\":{\"width\":0},\"opacity\":0.3},\"ternary\":{\"aaxis\":{\"gridcolor\":\"white\",\"linecolor\":\"white\",\"showgrid\":true,\"tickcolor\":\"rgb(51,51,51)\",\"ticks\":\"outside\"},\"baxis\":{\"gridcolor\":\"white\",\"linecolor\":\"white\",\"showgrid\":true,\"tickcolor\":\"rgb(51,51,51)\",\"ticks\":\"outside\"},\"bgcolor\":\"rgb(237,237,237)\",\"caxis\":{\"gridcolor\":\"white\",\"linecolor\":\"white\",\"showgrid\":true,\"tickcolor\":\"rgb(51,51,51)\",\"ticks\":\"outside\"}},\"xaxis\":{\"automargin\":true,\"gridcolor\":\"white\",\"linecolor\":\"white\",\"showgrid\":true,\"tickcolor\":\"rgb(51,51,51)\",\"ticks\":\"outside\",\"title\":{\"standoff\":15},\"zerolinecolor\":\"white\"},\"yaxis\":{\"automargin\":true,\"gridcolor\":\"white\",\"linecolor\":\"white\",\"showgrid\":true,\"tickcolor\":\"rgb(51,51,51)\",\"ticks\":\"outside\",\"title\":{\"standoff\":15},\"zerolinecolor\":\"white\"}}},\"xaxis\":{\"title\":{\"text\":\"Time\"},\"zeroline\":false},\"title\":{\"text\":\"Train Test Split\"},\"yaxis\":{\"title\":{\"text\":\"Values\"}},\"showlegend\":true},                        {\"responsive\": true}                    ).then(function(){\n",
       "                            \n",
       "var gd = document.getElementById('7ec1bb81-ba92-4057-a887-c8166c15409e');\n",
       "var x = new MutationObserver(function (mutations, observer) {{\n",
       "        var display = window.getComputedStyle(gd).display;\n",
       "        if (!display || display === 'none') {{\n",
       "            console.log([gd, 'removed!']);\n",
       "            Plotly.purge(gd);\n",
       "            observer.disconnect();\n",
       "        }}\n",
       "}});\n",
       "\n",
       "// Listen for the removal of the full notebook cells\n",
       "var notebookContainer = gd.closest('#notebook-container');\n",
       "if (notebookContainer) {{\n",
       "    x.observe(notebookContainer, {childList: true});\n",
       "}}\n",
       "\n",
       "// Listen for the clearing of the current output cell\n",
       "var outputEl = gd.closest('.output');\n",
       "if (outputEl) {{\n",
       "    x.observe(outputEl, {childList: true});\n",
       "}}\n",
       "\n",
       "                        })                };                });            </script>        </div>"
      ]
     },
     "metadata": {},
     "output_type": "display_data"
    }
   ],
   "source": [
    "plot_model(plot = 'train_test_split')"
   ]
  },
  {
   "cell_type": "code",
   "execution_count": 34,
   "id": "362d38f2",
   "metadata": {
    "execution": {
     "iopub.execute_input": "2023-02-02T11:00:23.060768Z",
     "iopub.status.busy": "2023-02-02T11:00:23.059815Z",
     "iopub.status.idle": "2023-02-02T11:00:53.172441Z",
     "shell.execute_reply": "2023-02-02T11:00:53.170721Z",
     "shell.execute_reply.started": "2023-02-02T11:00:23.060718Z"
    }
   },
   "outputs": [
    {
     "data": {
      "text/html": [
       "<style type=\"text/css\">\n",
       "#T_87278_ th {\n",
       "  text-align: left;\n",
       "}\n",
       "#T_87278_row0_col0, #T_87278_row0_col2, #T_87278_row0_col3, #T_87278_row0_col6, #T_87278_row0_col7, #T_87278_row1_col0, #T_87278_row1_col1, #T_87278_row1_col2, #T_87278_row1_col3, #T_87278_row1_col4, #T_87278_row1_col5, #T_87278_row1_col6, #T_87278_row1_col7, #T_87278_row2_col0, #T_87278_row2_col1, #T_87278_row2_col4, #T_87278_row2_col5, #T_87278_row3_col0, #T_87278_row3_col1, #T_87278_row3_col2, #T_87278_row3_col3, #T_87278_row3_col4, #T_87278_row3_col5, #T_87278_row3_col6, #T_87278_row3_col7, #T_87278_row4_col0, #T_87278_row4_col1, #T_87278_row4_col2, #T_87278_row4_col3, #T_87278_row4_col4, #T_87278_row4_col5, #T_87278_row4_col6, #T_87278_row4_col7, #T_87278_row5_col0, #T_87278_row5_col1, #T_87278_row5_col2, #T_87278_row5_col3, #T_87278_row5_col4, #T_87278_row5_col5, #T_87278_row5_col6, #T_87278_row5_col7, #T_87278_row6_col0, #T_87278_row6_col1, #T_87278_row6_col2, #T_87278_row6_col3, #T_87278_row6_col4, #T_87278_row6_col5, #T_87278_row6_col6, #T_87278_row6_col7, #T_87278_row7_col0, #T_87278_row7_col1, #T_87278_row7_col2, #T_87278_row7_col3, #T_87278_row7_col4, #T_87278_row7_col5, #T_87278_row7_col6, #T_87278_row7_col7, #T_87278_row8_col0, #T_87278_row8_col1, #T_87278_row8_col2, #T_87278_row8_col3, #T_87278_row8_col4, #T_87278_row8_col5, #T_87278_row8_col6, #T_87278_row8_col7, #T_87278_row9_col0, #T_87278_row9_col1, #T_87278_row9_col2, #T_87278_row9_col3, #T_87278_row9_col4, #T_87278_row9_col5, #T_87278_row9_col6, #T_87278_row9_col7, #T_87278_row10_col0, #T_87278_row10_col1, #T_87278_row10_col2, #T_87278_row10_col3, #T_87278_row10_col4, #T_87278_row10_col5, #T_87278_row10_col6, #T_87278_row10_col7, #T_87278_row11_col0, #T_87278_row11_col1, #T_87278_row11_col2, #T_87278_row11_col3, #T_87278_row11_col4, #T_87278_row11_col5, #T_87278_row11_col6, #T_87278_row11_col7, #T_87278_row12_col0, #T_87278_row12_col1, #T_87278_row12_col2, #T_87278_row12_col3, #T_87278_row12_col4, #T_87278_row12_col5, #T_87278_row12_col6, #T_87278_row12_col7, #T_87278_row13_col0, #T_87278_row13_col1, #T_87278_row13_col2, #T_87278_row13_col3, #T_87278_row13_col4, #T_87278_row13_col5, #T_87278_row13_col6, #T_87278_row13_col7, #T_87278_row14_col0, #T_87278_row14_col1, #T_87278_row14_col2, #T_87278_row14_col3, #T_87278_row14_col4, #T_87278_row14_col5, #T_87278_row14_col6, #T_87278_row14_col7, #T_87278_row15_col0, #T_87278_row15_col1, #T_87278_row15_col2, #T_87278_row15_col3, #T_87278_row15_col4, #T_87278_row15_col5, #T_87278_row15_col6, #T_87278_row15_col7, #T_87278_row16_col0, #T_87278_row16_col1, #T_87278_row16_col2, #T_87278_row16_col3, #T_87278_row16_col4, #T_87278_row16_col5, #T_87278_row16_col6, #T_87278_row16_col7, #T_87278_row17_col0, #T_87278_row17_col1, #T_87278_row17_col2, #T_87278_row17_col3, #T_87278_row17_col4, #T_87278_row17_col5, #T_87278_row17_col6, #T_87278_row17_col7, #T_87278_row18_col0, #T_87278_row18_col1, #T_87278_row18_col2, #T_87278_row18_col3, #T_87278_row18_col4, #T_87278_row18_col5, #T_87278_row18_col6, #T_87278_row18_col7, #T_87278_row19_col0, #T_87278_row19_col1, #T_87278_row19_col2, #T_87278_row19_col3, #T_87278_row19_col4, #T_87278_row19_col5, #T_87278_row19_col6, #T_87278_row19_col7, #T_87278_row20_col0, #T_87278_row20_col1, #T_87278_row20_col2, #T_87278_row20_col3, #T_87278_row20_col4, #T_87278_row20_col5, #T_87278_row20_col6, #T_87278_row20_col7, #T_87278_row21_col0, #T_87278_row21_col1, #T_87278_row21_col2, #T_87278_row21_col3, #T_87278_row21_col4, #T_87278_row21_col5, #T_87278_row21_col6, #T_87278_row21_col7, #T_87278_row22_col0, #T_87278_row22_col1, #T_87278_row22_col2, #T_87278_row22_col3, #T_87278_row22_col4, #T_87278_row22_col5, #T_87278_row22_col6, #T_87278_row22_col7, #T_87278_row23_col0, #T_87278_row23_col1, #T_87278_row23_col2, #T_87278_row23_col3, #T_87278_row23_col4, #T_87278_row23_col5, #T_87278_row23_col6, #T_87278_row23_col7, #T_87278_row24_col0, #T_87278_row24_col1, #T_87278_row24_col2, #T_87278_row24_col3, #T_87278_row24_col4, #T_87278_row24_col5, #T_87278_row24_col6, #T_87278_row24_col7, #T_87278_row25_col0, #T_87278_row25_col1, #T_87278_row25_col2, #T_87278_row25_col3, #T_87278_row25_col4, #T_87278_row25_col5, #T_87278_row25_col6, #T_87278_row25_col7, #T_87278_row26_col0, #T_87278_row26_col1, #T_87278_row26_col2, #T_87278_row26_col3, #T_87278_row26_col4, #T_87278_row26_col5, #T_87278_row26_col6, #T_87278_row26_col7, #T_87278_row27_col0, #T_87278_row27_col1, #T_87278_row27_col2, #T_87278_row27_col3, #T_87278_row27_col4, #T_87278_row27_col5, #T_87278_row27_col6, #T_87278_row27_col7 {\n",
       "  text-align: left;\n",
       "}\n",
       "#T_87278_row0_col1, #T_87278_row0_col4, #T_87278_row0_col5, #T_87278_row2_col2, #T_87278_row2_col3, #T_87278_row2_col6, #T_87278_row2_col7 {\n",
       "  text-align: left;\n",
       "  background-color: yellow;\n",
       "}\n",
       "#T_87278_row0_col8, #T_87278_row1_col8, #T_87278_row2_col8, #T_87278_row3_col8, #T_87278_row4_col8, #T_87278_row5_col8, #T_87278_row6_col8, #T_87278_row7_col8, #T_87278_row8_col8, #T_87278_row9_col8, #T_87278_row10_col8, #T_87278_row11_col8, #T_87278_row12_col8, #T_87278_row14_col8, #T_87278_row15_col8, #T_87278_row16_col8, #T_87278_row17_col8, #T_87278_row18_col8, #T_87278_row19_col8, #T_87278_row20_col8, #T_87278_row21_col8, #T_87278_row22_col8, #T_87278_row23_col8, #T_87278_row24_col8, #T_87278_row25_col8, #T_87278_row26_col8, #T_87278_row27_col8 {\n",
       "  text-align: left;\n",
       "  background-color: lightgrey;\n",
       "}\n",
       "#T_87278_row13_col8 {\n",
       "  text-align: left;\n",
       "  background-color: yellow;\n",
       "  background-color: lightgrey;\n",
       "}\n",
       "</style>\n",
       "<table id=\"T_87278_\">\n",
       "  <thead>\n",
       "    <tr>\n",
       "      <th class=\"blank level0\" >&nbsp;</th>\n",
       "      <th class=\"col_heading level0 col0\" >Model</th>\n",
       "      <th class=\"col_heading level0 col1\" >MAE</th>\n",
       "      <th class=\"col_heading level0 col2\" >RMSE</th>\n",
       "      <th class=\"col_heading level0 col3\" >MAPE</th>\n",
       "      <th class=\"col_heading level0 col4\" >SMAPE</th>\n",
       "      <th class=\"col_heading level0 col5\" >MASE</th>\n",
       "      <th class=\"col_heading level0 col6\" >RMSSE</th>\n",
       "      <th class=\"col_heading level0 col7\" >R2</th>\n",
       "      <th class=\"col_heading level0 col8\" >TT (Sec)</th>\n",
       "    </tr>\n",
       "  </thead>\n",
       "  <tbody>\n",
       "    <tr>\n",
       "      <th id=\"T_87278_level0_row0\" class=\"row_heading level0 row0\" >catboost_cds_dt</th>\n",
       "      <td id=\"T_87278_row0_col0\" class=\"data row0 col0\" >CatBoost Regressor w/ Cond. Deseasonalize & Detrending</td>\n",
       "      <td id=\"T_87278_row0_col1\" class=\"data row0 col1\" >5198.3027</td>\n",
       "      <td id=\"T_87278_row0_col2\" class=\"data row0 col2\" >6545.7287</td>\n",
       "      <td id=\"T_87278_row0_col3\" class=\"data row0 col3\" >0.7814</td>\n",
       "      <td id=\"T_87278_row0_col4\" class=\"data row0 col4\" >0.4192</td>\n",
       "      <td id=\"T_87278_row0_col5\" class=\"data row0 col5\" >1.2465</td>\n",
       "      <td id=\"T_87278_row0_col6\" class=\"data row0 col6\" >1.2733</td>\n",
       "      <td id=\"T_87278_row0_col7\" class=\"data row0 col7\" >-0.4788</td>\n",
       "      <td id=\"T_87278_row0_col8\" class=\"data row0 col8\" >0.5067</td>\n",
       "    </tr>\n",
       "    <tr>\n",
       "      <th id=\"T_87278_level0_row1\" class=\"row_heading level0 row1\" >br_cds_dt</th>\n",
       "      <td id=\"T_87278_row1_col0\" class=\"data row1 col0\" >Bayesian Ridge w/ Cond. Deseasonalize & Detrending</td>\n",
       "      <td id=\"T_87278_row1_col1\" class=\"data row1 col1\" >5501.3527</td>\n",
       "      <td id=\"T_87278_row1_col2\" class=\"data row1 col2\" >7018.0155</td>\n",
       "      <td id=\"T_87278_row1_col3\" class=\"data row1 col3\" >0.8245</td>\n",
       "      <td id=\"T_87278_row1_col4\" class=\"data row1 col4\" >0.4346</td>\n",
       "      <td id=\"T_87278_row1_col5\" class=\"data row1 col5\" >1.2815</td>\n",
       "      <td id=\"T_87278_row1_col6\" class=\"data row1 col6\" >1.3401</td>\n",
       "      <td id=\"T_87278_row1_col7\" class=\"data row1 col7\" >-0.8637</td>\n",
       "      <td id=\"T_87278_row1_col8\" class=\"data row1 col8\" >0.0433</td>\n",
       "    </tr>\n",
       "    <tr>\n",
       "      <th id=\"T_87278_level0_row2\" class=\"row_heading level0 row2\" >omp_cds_dt</th>\n",
       "      <td id=\"T_87278_row2_col0\" class=\"data row2 col0\" >Orthogonal Matching Pursuit w/ Cond. Deseasonalize & Detrending</td>\n",
       "      <td id=\"T_87278_row2_col1\" class=\"data row2 col1\" >5522.2438</td>\n",
       "      <td id=\"T_87278_row2_col2\" class=\"data row2 col2\" >6373.9381</td>\n",
       "      <td id=\"T_87278_row2_col3\" class=\"data row2 col3\" >0.5872</td>\n",
       "      <td id=\"T_87278_row2_col4\" class=\"data row2 col4\" >0.5094</td>\n",
       "      <td id=\"T_87278_row2_col5\" class=\"data row2 col5\" >1.2893</td>\n",
       "      <td id=\"T_87278_row2_col6\" class=\"data row2 col6\" >1.1956</td>\n",
       "      <td id=\"T_87278_row2_col7\" class=\"data row2 col7\" >-0.3417</td>\n",
       "      <td id=\"T_87278_row2_col8\" class=\"data row2 col8\" >0.0467</td>\n",
       "    </tr>\n",
       "    <tr>\n",
       "      <th id=\"T_87278_level0_row3\" class=\"row_heading level0 row3\" >dt_cds_dt</th>\n",
       "      <td id=\"T_87278_row3_col0\" class=\"data row3 col0\" >Decision Tree w/ Cond. Deseasonalize & Detrending</td>\n",
       "      <td id=\"T_87278_row3_col1\" class=\"data row3 col1\" >5923.1630</td>\n",
       "      <td id=\"T_87278_row3_col2\" class=\"data row3 col2\" >6844.6030</td>\n",
       "      <td id=\"T_87278_row3_col3\" class=\"data row3 col3\" >0.6225</td>\n",
       "      <td id=\"T_87278_row3_col4\" class=\"data row3 col4\" >0.4668</td>\n",
       "      <td id=\"T_87278_row3_col5\" class=\"data row3 col5\" >1.3152</td>\n",
       "      <td id=\"T_87278_row3_col6\" class=\"data row3 col6\" >1.2174</td>\n",
       "      <td id=\"T_87278_row3_col7\" class=\"data row3 col7\" >-0.8329</td>\n",
       "      <td id=\"T_87278_row3_col8\" class=\"data row3 col8\" >0.0500</td>\n",
       "    </tr>\n",
       "    <tr>\n",
       "      <th id=\"T_87278_level0_row4\" class=\"row_heading level0 row4\" >rf_cds_dt</th>\n",
       "      <td id=\"T_87278_row4_col0\" class=\"data row4 col0\" >Random Forest w/ Cond. Deseasonalize & Detrending</td>\n",
       "      <td id=\"T_87278_row4_col1\" class=\"data row4 col1\" >5565.7769</td>\n",
       "      <td id=\"T_87278_row4_col2\" class=\"data row4 col2\" >6749.0264</td>\n",
       "      <td id=\"T_87278_row4_col3\" class=\"data row4 col3\" >0.7544</td>\n",
       "      <td id=\"T_87278_row4_col4\" class=\"data row4 col4\" >0.4247</td>\n",
       "      <td id=\"T_87278_row4_col5\" class=\"data row4 col5\" >1.3231</td>\n",
       "      <td id=\"T_87278_row4_col6\" class=\"data row4 col6\" >1.2932</td>\n",
       "      <td id=\"T_87278_row4_col7\" class=\"data row4 col7\" >-0.5036</td>\n",
       "      <td id=\"T_87278_row4_col8\" class=\"data row4 col8\" >0.2167</td>\n",
       "    </tr>\n",
       "    <tr>\n",
       "      <th id=\"T_87278_level0_row5\" class=\"row_heading level0 row5\" >et_cds_dt</th>\n",
       "      <td id=\"T_87278_row5_col0\" class=\"data row5 col0\" >Extra Trees w/ Cond. Deseasonalize & Detrending</td>\n",
       "      <td id=\"T_87278_row5_col1\" class=\"data row5 col1\" >5793.1999</td>\n",
       "      <td id=\"T_87278_row5_col2\" class=\"data row5 col2\" >6934.5537</td>\n",
       "      <td id=\"T_87278_row5_col3\" class=\"data row5 col3\" >0.7434</td>\n",
       "      <td id=\"T_87278_row5_col4\" class=\"data row5 col4\" >0.5018</td>\n",
       "      <td id=\"T_87278_row5_col5\" class=\"data row5 col5\" >1.3524</td>\n",
       "      <td id=\"T_87278_row5_col6\" class=\"data row5 col6\" >1.3049</td>\n",
       "      <td id=\"T_87278_row5_col7\" class=\"data row5 col7\" >-0.5658</td>\n",
       "      <td id=\"T_87278_row5_col8\" class=\"data row5 col8\" >0.1867</td>\n",
       "    </tr>\n",
       "    <tr>\n",
       "      <th id=\"T_87278_level0_row6\" class=\"row_heading level0 row6\" >lightgbm_cds_dt</th>\n",
       "      <td id=\"T_87278_row6_col0\" class=\"data row6 col0\" >Light Gradient Boosting w/ Cond. Deseasonalize & Detrending</td>\n",
       "      <td id=\"T_87278_row6_col1\" class=\"data row6 col1\" >5747.6180</td>\n",
       "      <td id=\"T_87278_row6_col2\" class=\"data row6 col2\" >6957.9726</td>\n",
       "      <td id=\"T_87278_row6_col3\" class=\"data row6 col3\" >0.8215</td>\n",
       "      <td id=\"T_87278_row6_col4\" class=\"data row6 col4\" >0.4447</td>\n",
       "      <td id=\"T_87278_row6_col5\" class=\"data row6 col5\" >1.3709</td>\n",
       "      <td id=\"T_87278_row6_col6\" class=\"data row6 col6\" >1.3482</td>\n",
       "      <td id=\"T_87278_row6_col7\" class=\"data row6 col7\" >-0.6507</td>\n",
       "      <td id=\"T_87278_row6_col8\" class=\"data row6 col8\" >0.0633</td>\n",
       "    </tr>\n",
       "    <tr>\n",
       "      <th id=\"T_87278_level0_row7\" class=\"row_heading level0 row7\" >knn_cds_dt</th>\n",
       "      <td id=\"T_87278_row7_col0\" class=\"data row7 col0\" >K Neighbors w/ Cond. Deseasonalize & Detrending</td>\n",
       "      <td id=\"T_87278_row7_col1\" class=\"data row7 col1\" >5929.0945</td>\n",
       "      <td id=\"T_87278_row7_col2\" class=\"data row7 col2\" >7269.6326</td>\n",
       "      <td id=\"T_87278_row7_col3\" class=\"data row7 col3\" >0.8268</td>\n",
       "      <td id=\"T_87278_row7_col4\" class=\"data row7 col4\" >0.4576</td>\n",
       "      <td id=\"T_87278_row7_col5\" class=\"data row7 col5\" >1.3930</td>\n",
       "      <td id=\"T_87278_row7_col6\" class=\"data row7 col6\" >1.3942</td>\n",
       "      <td id=\"T_87278_row7_col7\" class=\"data row7 col7\" >-0.8359</td>\n",
       "      <td id=\"T_87278_row7_col8\" class=\"data row7 col8\" >0.0467</td>\n",
       "    </tr>\n",
       "    <tr>\n",
       "      <th id=\"T_87278_level0_row8\" class=\"row_heading level0 row8\" >grand_means</th>\n",
       "      <td id=\"T_87278_row8_col0\" class=\"data row8 col0\" >Grand Means Forecaster</td>\n",
       "      <td id=\"T_87278_row8_col1\" class=\"data row8 col1\" >6198.3596</td>\n",
       "      <td id=\"T_87278_row8_col2\" class=\"data row8 col2\" >7124.1937</td>\n",
       "      <td id=\"T_87278_row8_col3\" class=\"data row8 col3\" >0.7102</td>\n",
       "      <td id=\"T_87278_row8_col4\" class=\"data row8 col4\" >0.5180</td>\n",
       "      <td id=\"T_87278_row8_col5\" class=\"data row8 col5\" >1.4363</td>\n",
       "      <td id=\"T_87278_row8_col6\" class=\"data row8 col6\" >1.3258</td>\n",
       "      <td id=\"T_87278_row8_col7\" class=\"data row8 col7\" >-0.7353</td>\n",
       "      <td id=\"T_87278_row8_col8\" class=\"data row8 col8\" >0.0267</td>\n",
       "    </tr>\n",
       "    <tr>\n",
       "      <th id=\"T_87278_level0_row9\" class=\"row_heading level0 row9\" >ada_cds_dt</th>\n",
       "      <td id=\"T_87278_row9_col0\" class=\"data row9 col0\" >AdaBoost w/ Cond. Deseasonalize & Detrending</td>\n",
       "      <td id=\"T_87278_row9_col1\" class=\"data row9 col1\" >6502.3174</td>\n",
       "      <td id=\"T_87278_row9_col2\" class=\"data row9 col2\" >7692.0584</td>\n",
       "      <td id=\"T_87278_row9_col3\" class=\"data row9 col3\" >0.7721</td>\n",
       "      <td id=\"T_87278_row9_col4\" class=\"data row9 col4\" >0.4965</td>\n",
       "      <td id=\"T_87278_row9_col5\" class=\"data row9 col5\" >1.4916</td>\n",
       "      <td id=\"T_87278_row9_col6\" class=\"data row9 col6\" >1.4185</td>\n",
       "      <td id=\"T_87278_row9_col7\" class=\"data row9 col7\" >-0.9940</td>\n",
       "      <td id=\"T_87278_row9_col8\" class=\"data row9 col8\" >0.1200</td>\n",
       "    </tr>\n",
       "    <tr>\n",
       "      <th id=\"T_87278_level0_row10\" class=\"row_heading level0 row10\" >gbr_cds_dt</th>\n",
       "      <td id=\"T_87278_row10_col0\" class=\"data row10 col0\" >Gradient Boosting w/ Cond. Deseasonalize & Detrending</td>\n",
       "      <td id=\"T_87278_row10_col1\" class=\"data row10 col1\" >6562.2410</td>\n",
       "      <td id=\"T_87278_row10_col2\" class=\"data row10 col2\" >7442.3035</td>\n",
       "      <td id=\"T_87278_row10_col3\" class=\"data row10 col3\" >0.7324</td>\n",
       "      <td id=\"T_87278_row10_col4\" class=\"data row10 col4\" >0.5039</td>\n",
       "      <td id=\"T_87278_row10_col5\" class=\"data row10 col5\" >1.5019</td>\n",
       "      <td id=\"T_87278_row10_col6\" class=\"data row10 col6\" >1.3626</td>\n",
       "      <td id=\"T_87278_row10_col7\" class=\"data row10 col7\" >-0.9099</td>\n",
       "      <td id=\"T_87278_row10_col8\" class=\"data row10 col8\" >0.0633</td>\n",
       "    </tr>\n",
       "    <tr>\n",
       "      <th id=\"T_87278_level0_row11\" class=\"row_heading level0 row11\" >xgboost_cds_dt</th>\n",
       "      <td id=\"T_87278_row11_col0\" class=\"data row11 col0\" >Extreme Gradient Boosting w/ Cond. Deseasonalize & Detrending</td>\n",
       "      <td id=\"T_87278_row11_col1\" class=\"data row11 col1\" >6624.7357</td>\n",
       "      <td id=\"T_87278_row11_col2\" class=\"data row11 col2\" >7753.7996</td>\n",
       "      <td id=\"T_87278_row11_col3\" class=\"data row11 col3\" >0.7715</td>\n",
       "      <td id=\"T_87278_row11_col4\" class=\"data row11 col4\" >0.4977</td>\n",
       "      <td id=\"T_87278_row11_col5\" class=\"data row11 col5\" >1.5227</td>\n",
       "      <td id=\"T_87278_row11_col6\" class=\"data row11 col6\" >1.4349</td>\n",
       "      <td id=\"T_87278_row11_col7\" class=\"data row11 col7\" >-0.9219</td>\n",
       "      <td id=\"T_87278_row11_col8\" class=\"data row11 col8\" >0.4533</td>\n",
       "    </tr>\n",
       "    <tr>\n",
       "      <th id=\"T_87278_level0_row12\" class=\"row_heading level0 row12\" >snaive</th>\n",
       "      <td id=\"T_87278_row12_col0\" class=\"data row12 col0\" >Seasonal Naive Forecaster</td>\n",
       "      <td id=\"T_87278_row12_col1\" class=\"data row12 col1\" >6556.2750</td>\n",
       "      <td id=\"T_87278_row12_col2\" class=\"data row12 col2\" >8155.1825</td>\n",
       "      <td id=\"T_87278_row12_col3\" class=\"data row12 col3\" >0.5946</td>\n",
       "      <td id=\"T_87278_row12_col4\" class=\"data row12 col4\" >0.5069</td>\n",
       "      <td id=\"T_87278_row12_col5\" class=\"data row12 col5\" >1.5282</td>\n",
       "      <td id=\"T_87278_row12_col6\" class=\"data row12 col6\" >1.5257</td>\n",
       "      <td id=\"T_87278_row12_col7\" class=\"data row12 col7\" >-1.6834</td>\n",
       "      <td id=\"T_87278_row12_col8\" class=\"data row12 col8\" >0.0333</td>\n",
       "    </tr>\n",
       "    <tr>\n",
       "      <th id=\"T_87278_level0_row13\" class=\"row_heading level0 row13\" >croston</th>\n",
       "      <td id=\"T_87278_row13_col0\" class=\"data row13 col0\" >Croston</td>\n",
       "      <td id=\"T_87278_row13_col1\" class=\"data row13 col1\" >6759.2284</td>\n",
       "      <td id=\"T_87278_row13_col2\" class=\"data row13 col2\" >7703.9584</td>\n",
       "      <td id=\"T_87278_row13_col3\" class=\"data row13 col3\" >0.8928</td>\n",
       "      <td id=\"T_87278_row13_col4\" class=\"data row13 col4\" >0.5437</td>\n",
       "      <td id=\"T_87278_row13_col5\" class=\"data row13 col5\" >1.5435</td>\n",
       "      <td id=\"T_87278_row13_col6\" class=\"data row13 col6\" >1.4143</td>\n",
       "      <td id=\"T_87278_row13_col7\" class=\"data row13 col7\" >-1.5797</td>\n",
       "      <td id=\"T_87278_row13_col8\" class=\"data row13 col8\" >0.0167</td>\n",
       "    </tr>\n",
       "    <tr>\n",
       "      <th id=\"T_87278_level0_row14\" class=\"row_heading level0 row14\" >arima</th>\n",
       "      <td id=\"T_87278_row14_col0\" class=\"data row14 col0\" >ARIMA</td>\n",
       "      <td id=\"T_87278_row14_col1\" class=\"data row14 col1\" >6819.4315</td>\n",
       "      <td id=\"T_87278_row14_col2\" class=\"data row14 col2\" >8547.2436</td>\n",
       "      <td id=\"T_87278_row14_col3\" class=\"data row14 col3\" >0.7016</td>\n",
       "      <td id=\"T_87278_row14_col4\" class=\"data row14 col4\" >0.4865</td>\n",
       "      <td id=\"T_87278_row14_col5\" class=\"data row14 col5\" >1.5591</td>\n",
       "      <td id=\"T_87278_row14_col6\" class=\"data row14 col6\" >1.5495</td>\n",
       "      <td id=\"T_87278_row14_col7\" class=\"data row14 col7\" >-2.2813</td>\n",
       "      <td id=\"T_87278_row14_col8\" class=\"data row14 col8\" >0.1133</td>\n",
       "    </tr>\n",
       "    <tr>\n",
       "      <th id=\"T_87278_level0_row15\" class=\"row_heading level0 row15\" >exp_smooth</th>\n",
       "      <td id=\"T_87278_row15_col0\" class=\"data row15 col0\" >Exponential Smoothing</td>\n",
       "      <td id=\"T_87278_row15_col1\" class=\"data row15 col1\" >7606.5503</td>\n",
       "      <td id=\"T_87278_row15_col2\" class=\"data row15 col2\" >10107.8916</td>\n",
       "      <td id=\"T_87278_row15_col3\" class=\"data row15 col3\" >0.5997</td>\n",
       "      <td id=\"T_87278_row15_col4\" class=\"data row15 col4\" >0.4541</td>\n",
       "      <td id=\"T_87278_row15_col5\" class=\"data row15 col5\" >1.7416</td>\n",
       "      <td id=\"T_87278_row15_col6\" class=\"data row15 col6\" >1.8283</td>\n",
       "      <td id=\"T_87278_row15_col7\" class=\"data row15 col7\" >-2.3570</td>\n",
       "      <td id=\"T_87278_row15_col8\" class=\"data row15 col8\" >0.0900</td>\n",
       "    </tr>\n",
       "    <tr>\n",
       "      <th id=\"T_87278_level0_row16\" class=\"row_heading level0 row16\" >lr_cds_dt</th>\n",
       "      <td id=\"T_87278_row16_col0\" class=\"data row16 col0\" >Linear w/ Cond. Deseasonalize & Detrending</td>\n",
       "      <td id=\"T_87278_row16_col1\" class=\"data row16 col1\" >9278.7081</td>\n",
       "      <td id=\"T_87278_row16_col2\" class=\"data row16 col2\" >11692.1008</td>\n",
       "      <td id=\"T_87278_row16_col3\" class=\"data row16 col3\" >1.2207</td>\n",
       "      <td id=\"T_87278_row16_col4\" class=\"data row16 col4\" >0.7472</td>\n",
       "      <td id=\"T_87278_row16_col5\" class=\"data row16 col5\" >2.0481</td>\n",
       "      <td id=\"T_87278_row16_col6\" class=\"data row16 col6\" >2.0821</td>\n",
       "      <td id=\"T_87278_row16_col7\" class=\"data row16 col7\" >-6.7406</td>\n",
       "      <td id=\"T_87278_row16_col8\" class=\"data row16 col8\" >0.0433</td>\n",
       "    </tr>\n",
       "    <tr>\n",
       "      <th id=\"T_87278_level0_row17\" class=\"row_heading level0 row17\" >ridge_cds_dt</th>\n",
       "      <td id=\"T_87278_row17_col0\" class=\"data row17 col0\" >Ridge w/ Cond. Deseasonalize & Detrending</td>\n",
       "      <td id=\"T_87278_row17_col1\" class=\"data row17 col1\" >9278.7080</td>\n",
       "      <td id=\"T_87278_row17_col2\" class=\"data row17 col2\" >11692.1006</td>\n",
       "      <td id=\"T_87278_row17_col3\" class=\"data row17 col3\" >1.2207</td>\n",
       "      <td id=\"T_87278_row17_col4\" class=\"data row17 col4\" >0.7472</td>\n",
       "      <td id=\"T_87278_row17_col5\" class=\"data row17 col5\" >2.0481</td>\n",
       "      <td id=\"T_87278_row17_col6\" class=\"data row17 col6\" >2.0821</td>\n",
       "      <td id=\"T_87278_row17_col7\" class=\"data row17 col7\" >-6.7406</td>\n",
       "      <td id=\"T_87278_row17_col8\" class=\"data row17 col8\" >0.0467</td>\n",
       "    </tr>\n",
       "    <tr>\n",
       "      <th id=\"T_87278_level0_row18\" class=\"row_heading level0 row18\" >ets</th>\n",
       "      <td id=\"T_87278_row18_col0\" class=\"data row18 col0\" >ETS</td>\n",
       "      <td id=\"T_87278_row18_col1\" class=\"data row18 col1\" >9173.1765</td>\n",
       "      <td id=\"T_87278_row18_col2\" class=\"data row18 col2\" >11828.9854</td>\n",
       "      <td id=\"T_87278_row18_col3\" class=\"data row18 col3\" >0.6943</td>\n",
       "      <td id=\"T_87278_row18_col4\" class=\"data row18 col4\" >0.5351</td>\n",
       "      <td id=\"T_87278_row18_col5\" class=\"data row18 col5\" >2.0940</td>\n",
       "      <td id=\"T_87278_row18_col6\" class=\"data row18 col6\" >2.1463</td>\n",
       "      <td id=\"T_87278_row18_col7\" class=\"data row18 col7\" >-3.5361</td>\n",
       "      <td id=\"T_87278_row18_col8\" class=\"data row18 col8\" >0.1700</td>\n",
       "    </tr>\n",
       "    <tr>\n",
       "      <th id=\"T_87278_level0_row19\" class=\"row_heading level0 row19\" >llar_cds_dt</th>\n",
       "      <td id=\"T_87278_row19_col0\" class=\"data row19 col0\" >Lasso Least Angular Regressor w/ Cond. Deseasonalize & Detrending</td>\n",
       "      <td id=\"T_87278_row19_col1\" class=\"data row19 col1\" >9473.4543</td>\n",
       "      <td id=\"T_87278_row19_col2\" class=\"data row19 col2\" >11209.7145</td>\n",
       "      <td id=\"T_87278_row19_col3\" class=\"data row19 col3\" >1.0916</td>\n",
       "      <td id=\"T_87278_row19_col4\" class=\"data row19 col4\" >0.7923</td>\n",
       "      <td id=\"T_87278_row19_col5\" class=\"data row19 col5\" >2.1081</td>\n",
       "      <td id=\"T_87278_row19_col6\" class=\"data row19 col6\" >1.9723</td>\n",
       "      <td id=\"T_87278_row19_col7\" class=\"data row19 col7\" >-6.4809</td>\n",
       "      <td id=\"T_87278_row19_col8\" class=\"data row19 col8\" >0.0467</td>\n",
       "    </tr>\n",
       "    <tr>\n",
       "      <th id=\"T_87278_level0_row20\" class=\"row_heading level0 row20\" >polytrend</th>\n",
       "      <td id=\"T_87278_row20_col0\" class=\"data row20 col0\" >Polynomial Trend Forecaster</td>\n",
       "      <td id=\"T_87278_row20_col1\" class=\"data row20 col1\" >9194.1007</td>\n",
       "      <td id=\"T_87278_row20_col2\" class=\"data row20 col2\" >10253.5838</td>\n",
       "      <td id=\"T_87278_row20_col3\" class=\"data row20 col3\" >1.3808</td>\n",
       "      <td id=\"T_87278_row20_col4\" class=\"data row20 col4\" >0.6364</td>\n",
       "      <td id=\"T_87278_row20_col5\" class=\"data row20 col5\" >2.1181</td>\n",
       "      <td id=\"T_87278_row20_col6\" class=\"data row20 col6\" >1.9253</td>\n",
       "      <td id=\"T_87278_row20_col7\" class=\"data row20 col7\" >-4.3873</td>\n",
       "      <td id=\"T_87278_row20_col8\" class=\"data row20 col8\" >0.0267</td>\n",
       "    </tr>\n",
       "    <tr>\n",
       "      <th id=\"T_87278_level0_row21\" class=\"row_heading level0 row21\" >lar_cds_dt</th>\n",
       "      <td id=\"T_87278_row21_col0\" class=\"data row21 col0\" >Least Angular Regressor w/ Cond. Deseasonalize & Detrending</td>\n",
       "      <td id=\"T_87278_row21_col1\" class=\"data row21 col1\" >9530.9688</td>\n",
       "      <td id=\"T_87278_row21_col2\" class=\"data row21 col2\" >11267.1258</td>\n",
       "      <td id=\"T_87278_row21_col3\" class=\"data row21 col3\" >1.0987</td>\n",
       "      <td id=\"T_87278_row21_col4\" class=\"data row21 col4\" >0.7986</td>\n",
       "      <td id=\"T_87278_row21_col5\" class=\"data row21 col5\" >2.1197</td>\n",
       "      <td id=\"T_87278_row21_col6\" class=\"data row21 col6\" >1.9813</td>\n",
       "      <td id=\"T_87278_row21_col7\" class=\"data row21 col7\" >-6.6016</td>\n",
       "      <td id=\"T_87278_row21_col8\" class=\"data row21 col8\" >0.0400</td>\n",
       "    </tr>\n",
       "    <tr>\n",
       "      <th id=\"T_87278_level0_row22\" class=\"row_heading level0 row22\" >en_cds_dt</th>\n",
       "      <td id=\"T_87278_row22_col0\" class=\"data row22 col0\" >Elastic Net w/ Cond. Deseasonalize & Detrending</td>\n",
       "      <td id=\"T_87278_row22_col1\" class=\"data row22 col1\" >9615.3188</td>\n",
       "      <td id=\"T_87278_row22_col2\" class=\"data row22 col2\" >11345.3715</td>\n",
       "      <td id=\"T_87278_row22_col3\" class=\"data row22 col3\" >1.0884</td>\n",
       "      <td id=\"T_87278_row22_col4\" class=\"data row22 col4\" >0.8103</td>\n",
       "      <td id=\"T_87278_row22_col5\" class=\"data row22 col5\" >2.1437</td>\n",
       "      <td id=\"T_87278_row22_col6\" class=\"data row22 col6\" >1.9999</td>\n",
       "      <td id=\"T_87278_row22_col7\" class=\"data row22 col7\" >-6.6255</td>\n",
       "      <td id=\"T_87278_row22_col8\" class=\"data row22 col8\" >0.0433</td>\n",
       "    </tr>\n",
       "    <tr>\n",
       "      <th id=\"T_87278_level0_row23\" class=\"row_heading level0 row23\" >lasso_cds_dt</th>\n",
       "      <td id=\"T_87278_row23_col0\" class=\"data row23 col0\" >Lasso w/ Cond. Deseasonalize & Detrending</td>\n",
       "      <td id=\"T_87278_row23_col1\" class=\"data row23 col1\" >9615.3184</td>\n",
       "      <td id=\"T_87278_row23_col2\" class=\"data row23 col2\" >11345.3710</td>\n",
       "      <td id=\"T_87278_row23_col3\" class=\"data row23 col3\" >1.0884</td>\n",
       "      <td id=\"T_87278_row23_col4\" class=\"data row23 col4\" >0.8103</td>\n",
       "      <td id=\"T_87278_row23_col5\" class=\"data row23 col5\" >2.1437</td>\n",
       "      <td id=\"T_87278_row23_col6\" class=\"data row23 col6\" >1.9999</td>\n",
       "      <td id=\"T_87278_row23_col7\" class=\"data row23 col7\" >-6.6255</td>\n",
       "      <td id=\"T_87278_row23_col8\" class=\"data row23 col8\" >0.0400</td>\n",
       "    </tr>\n",
       "    <tr>\n",
       "      <th id=\"T_87278_level0_row24\" class=\"row_heading level0 row24\" >theta</th>\n",
       "      <td id=\"T_87278_row24_col0\" class=\"data row24 col0\" >Theta Forecaster</td>\n",
       "      <td id=\"T_87278_row24_col1\" class=\"data row24 col1\" >10614.7778</td>\n",
       "      <td id=\"T_87278_row24_col2\" class=\"data row24 col2\" >13717.0797</td>\n",
       "      <td id=\"T_87278_row24_col3\" class=\"data row24 col3\" >0.7436</td>\n",
       "      <td id=\"T_87278_row24_col4\" class=\"data row24 col4\" >0.5325</td>\n",
       "      <td id=\"T_87278_row24_col5\" class=\"data row24 col5\" >2.3940</td>\n",
       "      <td id=\"T_87278_row24_col6\" class=\"data row24 col6\" >2.4444</td>\n",
       "      <td id=\"T_87278_row24_col7\" class=\"data row24 col7\" >-5.6884</td>\n",
       "      <td id=\"T_87278_row24_col8\" class=\"data row24 col8\" >0.0600</td>\n",
       "    </tr>\n",
       "    <tr>\n",
       "      <th id=\"T_87278_level0_row25\" class=\"row_heading level0 row25\" >naive</th>\n",
       "      <td id=\"T_87278_row25_col0\" class=\"data row25 col0\" >Naive Forecaster</td>\n",
       "      <td id=\"T_87278_row25_col1\" class=\"data row25 col1\" >12635.4694</td>\n",
       "      <td id=\"T_87278_row25_col2\" class=\"data row25 col2\" >13913.7817</td>\n",
       "      <td id=\"T_87278_row25_col3\" class=\"data row25 col3\" >1.7915</td>\n",
       "      <td id=\"T_87278_row25_col4\" class=\"data row25 col4\" >0.7587</td>\n",
       "      <td id=\"T_87278_row25_col5\" class=\"data row25 col5\" >2.8549</td>\n",
       "      <td id=\"T_87278_row25_col6\" class=\"data row25 col6\" >2.5518</td>\n",
       "      <td id=\"T_87278_row25_col7\" class=\"data row25 col7\" >-10.6641</td>\n",
       "      <td id=\"T_87278_row25_col8\" class=\"data row25 col8\" >0.0267</td>\n",
       "    </tr>\n",
       "    <tr>\n",
       "      <th id=\"T_87278_level0_row26\" class=\"row_heading level0 row26\" >huber_cds_dt</th>\n",
       "      <td id=\"T_87278_row26_col0\" class=\"data row26 col0\" >Huber w/ Cond. Deseasonalize & Detrending</td>\n",
       "      <td id=\"T_87278_row26_col1\" class=\"data row26 col1\" >12606.8998</td>\n",
       "      <td id=\"T_87278_row26_col2\" class=\"data row26 col2\" >14493.8989</td>\n",
       "      <td id=\"T_87278_row26_col3\" class=\"data row26 col3\" >1.5327</td>\n",
       "      <td id=\"T_87278_row26_col4\" class=\"data row26 col4\" >0.8868</td>\n",
       "      <td id=\"T_87278_row26_col5\" class=\"data row26 col5\" >3.1077</td>\n",
       "      <td id=\"T_87278_row26_col6\" class=\"data row26 col6\" >2.8811</td>\n",
       "      <td id=\"T_87278_row26_col7\" class=\"data row26 col7\" >-5.6792</td>\n",
       "      <td id=\"T_87278_row26_col8\" class=\"data row26 col8\" >0.0733</td>\n",
       "    </tr>\n",
       "    <tr>\n",
       "      <th id=\"T_87278_level0_row27\" class=\"row_heading level0 row27\" >par_cds_dt</th>\n",
       "      <td id=\"T_87278_row27_col0\" class=\"data row27 col0\" >Passive Aggressive w/ Cond. Deseasonalize & Detrending</td>\n",
       "      <td id=\"T_87278_row27_col1\" class=\"data row27 col1\" >13610.9749</td>\n",
       "      <td id=\"T_87278_row27_col2\" class=\"data row27 col2\" >15737.1605</td>\n",
       "      <td id=\"T_87278_row27_col3\" class=\"data row27 col3\" >1.6916</td>\n",
       "      <td id=\"T_87278_row27_col4\" class=\"data row27 col4\" >0.9846</td>\n",
       "      <td id=\"T_87278_row27_col5\" class=\"data row27 col5\" >3.2998</td>\n",
       "      <td id=\"T_87278_row27_col6\" class=\"data row27 col6\" >3.0706</td>\n",
       "      <td id=\"T_87278_row27_col7\" class=\"data row27 col7\" >-8.2927</td>\n",
       "      <td id=\"T_87278_row27_col8\" class=\"data row27 col8\" >0.0467</td>\n",
       "    </tr>\n",
       "  </tbody>\n",
       "</table>\n"
      ],
      "text/plain": [
       "<pandas.io.formats.style.Styler at 0x7fb45a490d90>"
      ]
     },
     "metadata": {},
     "output_type": "display_data"
    }
   ],
   "source": [
    "best = compare_models(sort='MASE')"
   ]
  },
  {
   "cell_type": "code",
   "execution_count": 35,
   "id": "6ac9138d",
   "metadata": {
    "execution": {
     "iopub.execute_input": "2023-02-02T11:00:53.175217Z",
     "iopub.status.busy": "2023-02-02T11:00:53.174765Z",
     "iopub.status.idle": "2023-02-02T11:00:53.184213Z",
     "shell.execute_reply": "2023-02-02T11:00:53.182870Z",
     "shell.execute_reply.started": "2023-02-02T11:00:53.175178Z"
    }
   },
   "outputs": [
    {
     "data": {
      "text/plain": [
       "BaseCdsDtForecaster(regressor=<catboost.core.CatBoostRegressor object at 0x7fb4520d5610>,\n",
       "                    sp=12, window_length=12)"
      ]
     },
     "execution_count": 35,
     "metadata": {},
     "output_type": "execute_result"
    }
   ],
   "source": [
    "best"
   ]
  },
  {
   "cell_type": "code",
   "execution_count": 36,
   "id": "c57e0ed4",
   "metadata": {
    "execution": {
     "iopub.execute_input": "2023-02-02T11:00:53.187348Z",
     "iopub.status.busy": "2023-02-02T11:00:53.186459Z",
     "iopub.status.idle": "2023-02-02T11:00:53.600374Z",
     "shell.execute_reply": "2023-02-02T11:00:53.599068Z",
     "shell.execute_reply.started": "2023-02-02T11:00:53.187305Z"
    }
   },
   "outputs": [
    {
     "data": {
      "text/html": [
       "        <script type=\"text/javascript\">\n",
       "        window.PlotlyConfig = {MathJaxConfig: 'local'};\n",
       "        if (window.MathJax && window.MathJax.Hub && window.MathJax.Hub.Config) {window.MathJax.Hub.Config({SVG: {font: \"STIX-Web\"}});}\n",
       "        if (typeof require !== 'undefined') {\n",
       "        require.undef(\"plotly\");\n",
       "        requirejs.config({\n",
       "            paths: {\n",
       "                'plotly': ['https://cdn.plot.ly/plotly-2.18.0.min']\n",
       "            }\n",
       "        });\n",
       "        require(['plotly'], function(Plotly) {\n",
       "            window._Plotly = Plotly;\n",
       "        });\n",
       "        }\n",
       "        </script>\n",
       "        "
      ]
     },
     "metadata": {},
     "output_type": "display_data"
    },
    {
     "data": {
      "text/html": [
       "<div>                            <div id=\"eb289ef3-1c63-4bf6-b824-046e5a969e42\" class=\"plotly-graph-div\" style=\"height:525px; width:100%;\"></div>            <script type=\"text/javascript\">                require([\"plotly\"], function(Plotly) {                    window.PLOTLYENV=window.PLOTLYENV || {};                                    if (document.getElementById(\"eb289ef3-1c63-4bf6-b824-046e5a969e42\")) {                    Plotly.newPlot(                        \"eb289ef3-1c63-4bf6-b824-046e5a969e42\",                        [{\"marker\":{\"size\":5},\"mode\":\"lines+markers\",\"name\":\"Forecast | CatBoostRegressor\",\"showlegend\":true,\"x\":[\"2018-07-01T00:00:00\",\"2018-08-01T00:00:00\",\"2018-09-01T00:00:00\",\"2018-10-01T00:00:00\",\"2018-11-01T00:00:00\",\"2018-12-01T00:00:00\"],\"y\":[10891.1994,12045.559,27116.9597,12392.2789,32969.5732,27922.3241],\"type\":\"scatter\"},{\"marker\":{\"color\":\"#3f3f3f\",\"size\":5},\"mode\":\"lines+markers\",\"name\":\"Original\",\"showlegend\":true,\"x\":[\"2015-01-01T00:00:00\",\"2015-02-01T00:00:00\",\"2015-03-01T00:00:00\",\"2015-04-01T00:00:00\",\"2015-05-01T00:00:00\",\"2015-06-01T00:00:00\",\"2015-07-01T00:00:00\",\"2015-08-01T00:00:00\",\"2015-09-01T00:00:00\",\"2015-10-01T00:00:00\",\"2015-11-01T00:00:00\",\"2015-12-01T00:00:00\",\"2016-01-01T00:00:00\",\"2016-02-01T00:00:00\",\"2016-03-01T00:00:00\",\"2016-04-01T00:00:00\",\"2016-05-01T00:00:00\",\"2016-06-01T00:00:00\",\"2016-07-01T00:00:00\",\"2016-08-01T00:00:00\",\"2016-09-01T00:00:00\",\"2016-10-01T00:00:00\",\"2016-11-01T00:00:00\",\"2016-12-01T00:00:00\",\"2017-01-01T00:00:00\",\"2017-02-01T00:00:00\",\"2017-03-01T00:00:00\",\"2017-04-01T00:00:00\",\"2017-05-01T00:00:00\",\"2017-06-01T00:00:00\",\"2017-07-01T00:00:00\",\"2017-08-01T00:00:00\",\"2017-09-01T00:00:00\",\"2017-10-01T00:00:00\",\"2017-11-01T00:00:00\",\"2017-12-01T00:00:00\",\"2018-01-01T00:00:00\",\"2018-02-01T00:00:00\",\"2018-03-01T00:00:00\",\"2018-04-01T00:00:00\",\"2018-05-01T00:00:00\",\"2018-06-01T00:00:00\",\"2018-07-01T00:00:00\",\"2018-08-01T00:00:00\",\"2018-09-01T00:00:00\",\"2018-10-01T00:00:00\",\"2018-11-01T00:00:00\",\"2018-12-01T00:00:00\"],\"y\":[443.88,199.76,5943.21,3111.4,6788.72,11312.68,3568.03,4582.27,25086.98,8767.97,33590.43,24697.36,4670.88,6463.03,6011.62,8137.13,7839.71,7442.87,11710.5,9299.58,29215.43,6105.8,35056.79,24044.31,4841.95,3149.73,16350.630000000001,17903.19,22229.94,11667.39,8996.07,9197.699999999999,19129.61,15065.23,22976.05,27604.88,5383.1900000000005,5001.2300000000005,7435.71,10704.06,5900.17,15136.72,12069.45,20758.3,31407.41,32224.82,45674.46,20083.98],\"type\":\"scatter\"}],                        {\"title\":{\"text\":\"Actual vs. 'Out-of-Sample' Forecast | Sales\"},\"xaxis\":{\"title\":{\"text\":\"Time\"}},\"yaxis\":{\"title\":{\"text\":\"Values\"}},\"template\":{\"data\":{\"barpolar\":[{\"marker\":{\"line\":{\"color\":\"rgb(237,237,237)\",\"width\":0.5},\"pattern\":{\"fillmode\":\"overlay\",\"size\":10,\"solidity\":0.2}},\"type\":\"barpolar\"}],\"bar\":[{\"error_x\":{\"color\":\"rgb(51,51,51)\"},\"error_y\":{\"color\":\"rgb(51,51,51)\"},\"marker\":{\"line\":{\"color\":\"rgb(237,237,237)\",\"width\":0.5},\"pattern\":{\"fillmode\":\"overlay\",\"size\":10,\"solidity\":0.2}},\"type\":\"bar\"}],\"carpet\":[{\"aaxis\":{\"endlinecolor\":\"rgb(51,51,51)\",\"gridcolor\":\"white\",\"linecolor\":\"white\",\"minorgridcolor\":\"white\",\"startlinecolor\":\"rgb(51,51,51)\"},\"baxis\":{\"endlinecolor\":\"rgb(51,51,51)\",\"gridcolor\":\"white\",\"linecolor\":\"white\",\"minorgridcolor\":\"white\",\"startlinecolor\":\"rgb(51,51,51)\"},\"type\":\"carpet\"}],\"choropleth\":[{\"colorbar\":{\"outlinewidth\":0,\"tickcolor\":\"rgb(237,237,237)\",\"ticklen\":6,\"ticks\":\"inside\"},\"type\":\"choropleth\"}],\"contourcarpet\":[{\"colorbar\":{\"outlinewidth\":0,\"tickcolor\":\"rgb(237,237,237)\",\"ticklen\":6,\"ticks\":\"inside\"},\"type\":\"contourcarpet\"}],\"contour\":[{\"colorbar\":{\"outlinewidth\":0,\"tickcolor\":\"rgb(237,237,237)\",\"ticklen\":6,\"ticks\":\"inside\"},\"colorscale\":[[0,\"rgb(20,44,66)\"],[1,\"rgb(90,179,244)\"]],\"type\":\"contour\"}],\"heatmapgl\":[{\"colorbar\":{\"outlinewidth\":0,\"tickcolor\":\"rgb(237,237,237)\",\"ticklen\":6,\"ticks\":\"inside\"},\"colorscale\":[[0,\"rgb(20,44,66)\"],[1,\"rgb(90,179,244)\"]],\"type\":\"heatmapgl\"}],\"heatmap\":[{\"colorbar\":{\"outlinewidth\":0,\"tickcolor\":\"rgb(237,237,237)\",\"ticklen\":6,\"ticks\":\"inside\"},\"colorscale\":[[0,\"rgb(20,44,66)\"],[1,\"rgb(90,179,244)\"]],\"type\":\"heatmap\"}],\"histogram2dcontour\":[{\"colorbar\":{\"outlinewidth\":0,\"tickcolor\":\"rgb(237,237,237)\",\"ticklen\":6,\"ticks\":\"inside\"},\"colorscale\":[[0,\"rgb(20,44,66)\"],[1,\"rgb(90,179,244)\"]],\"type\":\"histogram2dcontour\"}],\"histogram2d\":[{\"colorbar\":{\"outlinewidth\":0,\"tickcolor\":\"rgb(237,237,237)\",\"ticklen\":6,\"ticks\":\"inside\"},\"colorscale\":[[0,\"rgb(20,44,66)\"],[1,\"rgb(90,179,244)\"]],\"type\":\"histogram2d\"}],\"histogram\":[{\"marker\":{\"pattern\":{\"fillmode\":\"overlay\",\"size\":10,\"solidity\":0.2}},\"type\":\"histogram\"}],\"mesh3d\":[{\"colorbar\":{\"outlinewidth\":0,\"tickcolor\":\"rgb(237,237,237)\",\"ticklen\":6,\"ticks\":\"inside\"},\"type\":\"mesh3d\"}],\"parcoords\":[{\"line\":{\"colorbar\":{\"outlinewidth\":0,\"tickcolor\":\"rgb(237,237,237)\",\"ticklen\":6,\"ticks\":\"inside\"}},\"type\":\"parcoords\"}],\"pie\":[{\"automargin\":true,\"type\":\"pie\"}],\"scatter3d\":[{\"line\":{\"colorbar\":{\"outlinewidth\":0,\"tickcolor\":\"rgb(237,237,237)\",\"ticklen\":6,\"ticks\":\"inside\"}},\"marker\":{\"colorbar\":{\"outlinewidth\":0,\"tickcolor\":\"rgb(237,237,237)\",\"ticklen\":6,\"ticks\":\"inside\"}},\"type\":\"scatter3d\"}],\"scattercarpet\":[{\"marker\":{\"colorbar\":{\"outlinewidth\":0,\"tickcolor\":\"rgb(237,237,237)\",\"ticklen\":6,\"ticks\":\"inside\"}},\"type\":\"scattercarpet\"}],\"scattergeo\":[{\"marker\":{\"colorbar\":{\"outlinewidth\":0,\"tickcolor\":\"rgb(237,237,237)\",\"ticklen\":6,\"ticks\":\"inside\"}},\"type\":\"scattergeo\"}],\"scattergl\":[{\"marker\":{\"colorbar\":{\"outlinewidth\":0,\"tickcolor\":\"rgb(237,237,237)\",\"ticklen\":6,\"ticks\":\"inside\"}},\"type\":\"scattergl\"}],\"scattermapbox\":[{\"marker\":{\"colorbar\":{\"outlinewidth\":0,\"tickcolor\":\"rgb(237,237,237)\",\"ticklen\":6,\"ticks\":\"inside\"}},\"type\":\"scattermapbox\"}],\"scatterpolargl\":[{\"marker\":{\"colorbar\":{\"outlinewidth\":0,\"tickcolor\":\"rgb(237,237,237)\",\"ticklen\":6,\"ticks\":\"inside\"}},\"type\":\"scatterpolargl\"}],\"scatterpolar\":[{\"marker\":{\"colorbar\":{\"outlinewidth\":0,\"tickcolor\":\"rgb(237,237,237)\",\"ticklen\":6,\"ticks\":\"inside\"}},\"type\":\"scatterpolar\"}],\"scatter\":[{\"fillpattern\":{\"fillmode\":\"overlay\",\"size\":10,\"solidity\":0.2},\"type\":\"scatter\"}],\"scatterternary\":[{\"marker\":{\"colorbar\":{\"outlinewidth\":0,\"tickcolor\":\"rgb(237,237,237)\",\"ticklen\":6,\"ticks\":\"inside\"}},\"type\":\"scatterternary\"}],\"surface\":[{\"colorbar\":{\"outlinewidth\":0,\"tickcolor\":\"rgb(237,237,237)\",\"ticklen\":6,\"ticks\":\"inside\"},\"colorscale\":[[0,\"rgb(20,44,66)\"],[1,\"rgb(90,179,244)\"]],\"type\":\"surface\"}],\"table\":[{\"cells\":{\"fill\":{\"color\":\"rgb(237,237,237)\"},\"line\":{\"color\":\"white\"}},\"header\":{\"fill\":{\"color\":\"rgb(217,217,217)\"},\"line\":{\"color\":\"white\"}},\"type\":\"table\"}]},\"layout\":{\"annotationdefaults\":{\"arrowhead\":0,\"arrowwidth\":1},\"autotypenumbers\":\"strict\",\"coloraxis\":{\"colorbar\":{\"outlinewidth\":0,\"tickcolor\":\"rgb(237,237,237)\",\"ticklen\":6,\"ticks\":\"inside\"}},\"colorscale\":{\"sequential\":[[0,\"rgb(20,44,66)\"],[1,\"rgb(90,179,244)\"]],\"sequentialminus\":[[0,\"rgb(20,44,66)\"],[1,\"rgb(90,179,244)\"]]},\"colorway\":[\"#F8766D\",\"#A3A500\",\"#00BF7D\",\"#00B0F6\",\"#E76BF3\"],\"font\":{\"color\":\"rgb(51,51,51)\"},\"geo\":{\"bgcolor\":\"white\",\"lakecolor\":\"white\",\"landcolor\":\"rgb(237,237,237)\",\"showlakes\":true,\"showland\":true,\"subunitcolor\":\"white\"},\"hoverlabel\":{\"align\":\"left\"},\"hovermode\":\"closest\",\"paper_bgcolor\":\"white\",\"plot_bgcolor\":\"rgb(237,237,237)\",\"polar\":{\"angularaxis\":{\"gridcolor\":\"white\",\"linecolor\":\"white\",\"showgrid\":true,\"tickcolor\":\"rgb(51,51,51)\",\"ticks\":\"outside\"},\"bgcolor\":\"rgb(237,237,237)\",\"radialaxis\":{\"gridcolor\":\"white\",\"linecolor\":\"white\",\"showgrid\":true,\"tickcolor\":\"rgb(51,51,51)\",\"ticks\":\"outside\"}},\"scene\":{\"xaxis\":{\"backgroundcolor\":\"rgb(237,237,237)\",\"gridcolor\":\"white\",\"gridwidth\":2,\"linecolor\":\"white\",\"showbackground\":true,\"showgrid\":true,\"tickcolor\":\"rgb(51,51,51)\",\"ticks\":\"outside\",\"zerolinecolor\":\"white\"},\"yaxis\":{\"backgroundcolor\":\"rgb(237,237,237)\",\"gridcolor\":\"white\",\"gridwidth\":2,\"linecolor\":\"white\",\"showbackground\":true,\"showgrid\":true,\"tickcolor\":\"rgb(51,51,51)\",\"ticks\":\"outside\",\"zerolinecolor\":\"white\"},\"zaxis\":{\"backgroundcolor\":\"rgb(237,237,237)\",\"gridcolor\":\"white\",\"gridwidth\":2,\"linecolor\":\"white\",\"showbackground\":true,\"showgrid\":true,\"tickcolor\":\"rgb(51,51,51)\",\"ticks\":\"outside\",\"zerolinecolor\":\"white\"}},\"shapedefaults\":{\"fillcolor\":\"black\",\"line\":{\"width\":0},\"opacity\":0.3},\"ternary\":{\"aaxis\":{\"gridcolor\":\"white\",\"linecolor\":\"white\",\"showgrid\":true,\"tickcolor\":\"rgb(51,51,51)\",\"ticks\":\"outside\"},\"baxis\":{\"gridcolor\":\"white\",\"linecolor\":\"white\",\"showgrid\":true,\"tickcolor\":\"rgb(51,51,51)\",\"ticks\":\"outside\"},\"bgcolor\":\"rgb(237,237,237)\",\"caxis\":{\"gridcolor\":\"white\",\"linecolor\":\"white\",\"showgrid\":true,\"tickcolor\":\"rgb(51,51,51)\",\"ticks\":\"outside\"}},\"xaxis\":{\"automargin\":true,\"gridcolor\":\"white\",\"linecolor\":\"white\",\"showgrid\":true,\"tickcolor\":\"rgb(51,51,51)\",\"ticks\":\"outside\",\"title\":{\"standoff\":15},\"zerolinecolor\":\"white\"},\"yaxis\":{\"automargin\":true,\"gridcolor\":\"white\",\"linecolor\":\"white\",\"showgrid\":true,\"tickcolor\":\"rgb(51,51,51)\",\"ticks\":\"outside\",\"title\":{\"standoff\":15},\"zerolinecolor\":\"white\"}}},\"showlegend\":true},                        {\"responsive\": true}                    ).then(function(){\n",
       "                            \n",
       "var gd = document.getElementById('eb289ef3-1c63-4bf6-b824-046e5a969e42');\n",
       "var x = new MutationObserver(function (mutations, observer) {{\n",
       "        var display = window.getComputedStyle(gd).display;\n",
       "        if (!display || display === 'none') {{\n",
       "            console.log([gd, 'removed!']);\n",
       "            Plotly.purge(gd);\n",
       "            observer.disconnect();\n",
       "        }}\n",
       "}});\n",
       "\n",
       "// Listen for the removal of the full notebook cells\n",
       "var notebookContainer = gd.closest('#notebook-container');\n",
       "if (notebookContainer) {{\n",
       "    x.observe(notebookContainer, {childList: true});\n",
       "}}\n",
       "\n",
       "// Listen for the clearing of the current output cell\n",
       "var outputEl = gd.closest('.output');\n",
       "if (outputEl) {{\n",
       "    x.observe(outputEl, {childList: true});\n",
       "}}\n",
       "\n",
       "                        })                };                });            </script>        </div>"
      ]
     },
     "metadata": {},
     "output_type": "display_data"
    }
   ],
   "source": [
    "plot_model(best, plot='forecast')"
   ]
  },
  {
   "cell_type": "code",
   "execution_count": 37,
   "id": "b8b2b8aa",
   "metadata": {
    "execution": {
     "iopub.execute_input": "2023-02-02T11:00:53.602824Z",
     "iopub.status.busy": "2023-02-02T11:00:53.602407Z",
     "iopub.status.idle": "2023-02-02T11:00:57.216739Z",
     "shell.execute_reply": "2023-02-02T11:00:57.214926Z",
     "shell.execute_reply.started": "2023-02-02T11:00:53.602787Z"
    }
   },
   "outputs": [
    {
     "data": {
      "text/html": [
       "        <script type=\"text/javascript\">\n",
       "        window.PlotlyConfig = {MathJaxConfig: 'local'};\n",
       "        if (window.MathJax && window.MathJax.Hub && window.MathJax.Hub.Config) {window.MathJax.Hub.Config({SVG: {font: \"STIX-Web\"}});}\n",
       "        if (typeof require !== 'undefined') {\n",
       "        require.undef(\"plotly\");\n",
       "        requirejs.config({\n",
       "            paths: {\n",
       "                'plotly': ['https://cdn.plot.ly/plotly-2.18.0.min']\n",
       "            }\n",
       "        });\n",
       "        require(['plotly'], function(Plotly) {\n",
       "            window._Plotly = Plotly;\n",
       "        });\n",
       "        }\n",
       "        </script>\n",
       "        "
      ]
     },
     "metadata": {},
     "output_type": "display_data"
    },
    {
     "data": {
      "text/html": [
       "<div>                            <div id=\"0e2b6760-2bbf-4a6d-85b1-638c48bd830a\" class=\"plotly-graph-div\" style=\"height:525px; width:100%;\"></div>            <script type=\"text/javascript\">                require([\"plotly\"], function(Plotly) {                    window.PLOTLYENV=window.PLOTLYENV || {};                                    if (document.getElementById(\"0e2b6760-2bbf-4a6d-85b1-638c48bd830a\")) {                    Plotly.newPlot(                        \"0e2b6760-2bbf-4a6d-85b1-638c48bd830a\",                        [{\"marker\":{\"size\":5},\"mode\":\"lines+markers\",\"name\":\"Forecast | CatBoostRegressor\",\"showlegend\":true,\"x\":[\"2019-01-01T00:00:00\",\"2019-02-01T00:00:00\",\"2019-03-01T00:00:00\",\"2019-04-01T00:00:00\",\"2019-05-01T00:00:00\",\"2019-06-01T00:00:00\",\"2019-07-01T00:00:00\",\"2019-08-01T00:00:00\",\"2019-09-01T00:00:00\",\"2019-10-01T00:00:00\",\"2019-11-01T00:00:00\",\"2019-12-01T00:00:00\"],\"y\":[10112.2779,7594.6735,14166.6595,16723.3578,17064.2397,17001.2197,14744.5065,14986.3774,30808.2665,15068.8115,39954.9373,34382.2199],\"type\":\"scatter\"},{\"marker\":{\"color\":\"#3f3f3f\",\"size\":5},\"mode\":\"lines+markers\",\"name\":\"Original\",\"showlegend\":true,\"x\":[\"2015-01-01T00:00:00\",\"2015-02-01T00:00:00\",\"2015-03-01T00:00:00\",\"2015-04-01T00:00:00\",\"2015-05-01T00:00:00\",\"2015-06-01T00:00:00\",\"2015-07-01T00:00:00\",\"2015-08-01T00:00:00\",\"2015-09-01T00:00:00\",\"2015-10-01T00:00:00\",\"2015-11-01T00:00:00\",\"2015-12-01T00:00:00\",\"2016-01-01T00:00:00\",\"2016-02-01T00:00:00\",\"2016-03-01T00:00:00\",\"2016-04-01T00:00:00\",\"2016-05-01T00:00:00\",\"2016-06-01T00:00:00\",\"2016-07-01T00:00:00\",\"2016-08-01T00:00:00\",\"2016-09-01T00:00:00\",\"2016-10-01T00:00:00\",\"2016-11-01T00:00:00\",\"2016-12-01T00:00:00\",\"2017-01-01T00:00:00\",\"2017-02-01T00:00:00\",\"2017-03-01T00:00:00\",\"2017-04-01T00:00:00\",\"2017-05-01T00:00:00\",\"2017-06-01T00:00:00\",\"2017-07-01T00:00:00\",\"2017-08-01T00:00:00\",\"2017-09-01T00:00:00\",\"2017-10-01T00:00:00\",\"2017-11-01T00:00:00\",\"2017-12-01T00:00:00\",\"2018-01-01T00:00:00\",\"2018-02-01T00:00:00\",\"2018-03-01T00:00:00\",\"2018-04-01T00:00:00\",\"2018-05-01T00:00:00\",\"2018-06-01T00:00:00\",\"2018-07-01T00:00:00\",\"2018-08-01T00:00:00\",\"2018-09-01T00:00:00\",\"2018-10-01T00:00:00\",\"2018-11-01T00:00:00\",\"2018-12-01T00:00:00\"],\"y\":[443.88,199.76,5943.21,3111.4,6788.72,11312.68,3568.03,4582.27,25086.98,8767.97,33590.43,24697.36,4670.88,6463.03,6011.62,8137.13,7839.71,7442.87,11710.5,9299.58,29215.43,6105.8,35056.79,24044.31,4841.95,3149.73,16350.630000000001,17903.19,22229.94,11667.39,8996.07,9197.699999999999,19129.61,15065.23,22976.05,27604.88,5383.1900000000005,5001.2300000000005,7435.71,10704.06,5900.17,15136.72,12069.45,20758.3,31407.41,32224.82,45674.46,20083.98],\"type\":\"scatter\"}],                        {\"title\":{\"text\":\"Actual vs. 'Out-of-Sample' Forecast | Sales\"},\"xaxis\":{\"title\":{\"text\":\"Time\"}},\"yaxis\":{\"title\":{\"text\":\"Values\"}},\"template\":{\"data\":{\"barpolar\":[{\"marker\":{\"line\":{\"color\":\"rgb(237,237,237)\",\"width\":0.5},\"pattern\":{\"fillmode\":\"overlay\",\"size\":10,\"solidity\":0.2}},\"type\":\"barpolar\"}],\"bar\":[{\"error_x\":{\"color\":\"rgb(51,51,51)\"},\"error_y\":{\"color\":\"rgb(51,51,51)\"},\"marker\":{\"line\":{\"color\":\"rgb(237,237,237)\",\"width\":0.5},\"pattern\":{\"fillmode\":\"overlay\",\"size\":10,\"solidity\":0.2}},\"type\":\"bar\"}],\"carpet\":[{\"aaxis\":{\"endlinecolor\":\"rgb(51,51,51)\",\"gridcolor\":\"white\",\"linecolor\":\"white\",\"minorgridcolor\":\"white\",\"startlinecolor\":\"rgb(51,51,51)\"},\"baxis\":{\"endlinecolor\":\"rgb(51,51,51)\",\"gridcolor\":\"white\",\"linecolor\":\"white\",\"minorgridcolor\":\"white\",\"startlinecolor\":\"rgb(51,51,51)\"},\"type\":\"carpet\"}],\"choropleth\":[{\"colorbar\":{\"outlinewidth\":0,\"tickcolor\":\"rgb(237,237,237)\",\"ticklen\":6,\"ticks\":\"inside\"},\"type\":\"choropleth\"}],\"contourcarpet\":[{\"colorbar\":{\"outlinewidth\":0,\"tickcolor\":\"rgb(237,237,237)\",\"ticklen\":6,\"ticks\":\"inside\"},\"type\":\"contourcarpet\"}],\"contour\":[{\"colorbar\":{\"outlinewidth\":0,\"tickcolor\":\"rgb(237,237,237)\",\"ticklen\":6,\"ticks\":\"inside\"},\"colorscale\":[[0,\"rgb(20,44,66)\"],[1,\"rgb(90,179,244)\"]],\"type\":\"contour\"}],\"heatmapgl\":[{\"colorbar\":{\"outlinewidth\":0,\"tickcolor\":\"rgb(237,237,237)\",\"ticklen\":6,\"ticks\":\"inside\"},\"colorscale\":[[0,\"rgb(20,44,66)\"],[1,\"rgb(90,179,244)\"]],\"type\":\"heatmapgl\"}],\"heatmap\":[{\"colorbar\":{\"outlinewidth\":0,\"tickcolor\":\"rgb(237,237,237)\",\"ticklen\":6,\"ticks\":\"inside\"},\"colorscale\":[[0,\"rgb(20,44,66)\"],[1,\"rgb(90,179,244)\"]],\"type\":\"heatmap\"}],\"histogram2dcontour\":[{\"colorbar\":{\"outlinewidth\":0,\"tickcolor\":\"rgb(237,237,237)\",\"ticklen\":6,\"ticks\":\"inside\"},\"colorscale\":[[0,\"rgb(20,44,66)\"],[1,\"rgb(90,179,244)\"]],\"type\":\"histogram2dcontour\"}],\"histogram2d\":[{\"colorbar\":{\"outlinewidth\":0,\"tickcolor\":\"rgb(237,237,237)\",\"ticklen\":6,\"ticks\":\"inside\"},\"colorscale\":[[0,\"rgb(20,44,66)\"],[1,\"rgb(90,179,244)\"]],\"type\":\"histogram2d\"}],\"histogram\":[{\"marker\":{\"pattern\":{\"fillmode\":\"overlay\",\"size\":10,\"solidity\":0.2}},\"type\":\"histogram\"}],\"mesh3d\":[{\"colorbar\":{\"outlinewidth\":0,\"tickcolor\":\"rgb(237,237,237)\",\"ticklen\":6,\"ticks\":\"inside\"},\"type\":\"mesh3d\"}],\"parcoords\":[{\"line\":{\"colorbar\":{\"outlinewidth\":0,\"tickcolor\":\"rgb(237,237,237)\",\"ticklen\":6,\"ticks\":\"inside\"}},\"type\":\"parcoords\"}],\"pie\":[{\"automargin\":true,\"type\":\"pie\"}],\"scatter3d\":[{\"line\":{\"colorbar\":{\"outlinewidth\":0,\"tickcolor\":\"rgb(237,237,237)\",\"ticklen\":6,\"ticks\":\"inside\"}},\"marker\":{\"colorbar\":{\"outlinewidth\":0,\"tickcolor\":\"rgb(237,237,237)\",\"ticklen\":6,\"ticks\":\"inside\"}},\"type\":\"scatter3d\"}],\"scattercarpet\":[{\"marker\":{\"colorbar\":{\"outlinewidth\":0,\"tickcolor\":\"rgb(237,237,237)\",\"ticklen\":6,\"ticks\":\"inside\"}},\"type\":\"scattercarpet\"}],\"scattergeo\":[{\"marker\":{\"colorbar\":{\"outlinewidth\":0,\"tickcolor\":\"rgb(237,237,237)\",\"ticklen\":6,\"ticks\":\"inside\"}},\"type\":\"scattergeo\"}],\"scattergl\":[{\"marker\":{\"colorbar\":{\"outlinewidth\":0,\"tickcolor\":\"rgb(237,237,237)\",\"ticklen\":6,\"ticks\":\"inside\"}},\"type\":\"scattergl\"}],\"scattermapbox\":[{\"marker\":{\"colorbar\":{\"outlinewidth\":0,\"tickcolor\":\"rgb(237,237,237)\",\"ticklen\":6,\"ticks\":\"inside\"}},\"type\":\"scattermapbox\"}],\"scatterpolargl\":[{\"marker\":{\"colorbar\":{\"outlinewidth\":0,\"tickcolor\":\"rgb(237,237,237)\",\"ticklen\":6,\"ticks\":\"inside\"}},\"type\":\"scatterpolargl\"}],\"scatterpolar\":[{\"marker\":{\"colorbar\":{\"outlinewidth\":0,\"tickcolor\":\"rgb(237,237,237)\",\"ticklen\":6,\"ticks\":\"inside\"}},\"type\":\"scatterpolar\"}],\"scatter\":[{\"fillpattern\":{\"fillmode\":\"overlay\",\"size\":10,\"solidity\":0.2},\"type\":\"scatter\"}],\"scatterternary\":[{\"marker\":{\"colorbar\":{\"outlinewidth\":0,\"tickcolor\":\"rgb(237,237,237)\",\"ticklen\":6,\"ticks\":\"inside\"}},\"type\":\"scatterternary\"}],\"surface\":[{\"colorbar\":{\"outlinewidth\":0,\"tickcolor\":\"rgb(237,237,237)\",\"ticklen\":6,\"ticks\":\"inside\"},\"colorscale\":[[0,\"rgb(20,44,66)\"],[1,\"rgb(90,179,244)\"]],\"type\":\"surface\"}],\"table\":[{\"cells\":{\"fill\":{\"color\":\"rgb(237,237,237)\"},\"line\":{\"color\":\"white\"}},\"header\":{\"fill\":{\"color\":\"rgb(217,217,217)\"},\"line\":{\"color\":\"white\"}},\"type\":\"table\"}]},\"layout\":{\"annotationdefaults\":{\"arrowhead\":0,\"arrowwidth\":1},\"autotypenumbers\":\"strict\",\"coloraxis\":{\"colorbar\":{\"outlinewidth\":0,\"tickcolor\":\"rgb(237,237,237)\",\"ticklen\":6,\"ticks\":\"inside\"}},\"colorscale\":{\"sequential\":[[0,\"rgb(20,44,66)\"],[1,\"rgb(90,179,244)\"]],\"sequentialminus\":[[0,\"rgb(20,44,66)\"],[1,\"rgb(90,179,244)\"]]},\"colorway\":[\"#F8766D\",\"#A3A500\",\"#00BF7D\",\"#00B0F6\",\"#E76BF3\"],\"font\":{\"color\":\"rgb(51,51,51)\"},\"geo\":{\"bgcolor\":\"white\",\"lakecolor\":\"white\",\"landcolor\":\"rgb(237,237,237)\",\"showlakes\":true,\"showland\":true,\"subunitcolor\":\"white\"},\"hoverlabel\":{\"align\":\"left\"},\"hovermode\":\"closest\",\"paper_bgcolor\":\"white\",\"plot_bgcolor\":\"rgb(237,237,237)\",\"polar\":{\"angularaxis\":{\"gridcolor\":\"white\",\"linecolor\":\"white\",\"showgrid\":true,\"tickcolor\":\"rgb(51,51,51)\",\"ticks\":\"outside\"},\"bgcolor\":\"rgb(237,237,237)\",\"radialaxis\":{\"gridcolor\":\"white\",\"linecolor\":\"white\",\"showgrid\":true,\"tickcolor\":\"rgb(51,51,51)\",\"ticks\":\"outside\"}},\"scene\":{\"xaxis\":{\"backgroundcolor\":\"rgb(237,237,237)\",\"gridcolor\":\"white\",\"gridwidth\":2,\"linecolor\":\"white\",\"showbackground\":true,\"showgrid\":true,\"tickcolor\":\"rgb(51,51,51)\",\"ticks\":\"outside\",\"zerolinecolor\":\"white\"},\"yaxis\":{\"backgroundcolor\":\"rgb(237,237,237)\",\"gridcolor\":\"white\",\"gridwidth\":2,\"linecolor\":\"white\",\"showbackground\":true,\"showgrid\":true,\"tickcolor\":\"rgb(51,51,51)\",\"ticks\":\"outside\",\"zerolinecolor\":\"white\"},\"zaxis\":{\"backgroundcolor\":\"rgb(237,237,237)\",\"gridcolor\":\"white\",\"gridwidth\":2,\"linecolor\":\"white\",\"showbackground\":true,\"showgrid\":true,\"tickcolor\":\"rgb(51,51,51)\",\"ticks\":\"outside\",\"zerolinecolor\":\"white\"}},\"shapedefaults\":{\"fillcolor\":\"black\",\"line\":{\"width\":0},\"opacity\":0.3},\"ternary\":{\"aaxis\":{\"gridcolor\":\"white\",\"linecolor\":\"white\",\"showgrid\":true,\"tickcolor\":\"rgb(51,51,51)\",\"ticks\":\"outside\"},\"baxis\":{\"gridcolor\":\"white\",\"linecolor\":\"white\",\"showgrid\":true,\"tickcolor\":\"rgb(51,51,51)\",\"ticks\":\"outside\"},\"bgcolor\":\"rgb(237,237,237)\",\"caxis\":{\"gridcolor\":\"white\",\"linecolor\":\"white\",\"showgrid\":true,\"tickcolor\":\"rgb(51,51,51)\",\"ticks\":\"outside\"}},\"xaxis\":{\"automargin\":true,\"gridcolor\":\"white\",\"linecolor\":\"white\",\"showgrid\":true,\"tickcolor\":\"rgb(51,51,51)\",\"ticks\":\"outside\",\"title\":{\"standoff\":15},\"zerolinecolor\":\"white\"},\"yaxis\":{\"automargin\":true,\"gridcolor\":\"white\",\"linecolor\":\"white\",\"showgrid\":true,\"tickcolor\":\"rgb(51,51,51)\",\"ticks\":\"outside\",\"title\":{\"standoff\":15},\"zerolinecolor\":\"white\"}}},\"showlegend\":true},                        {\"responsive\": true}                    ).then(function(){\n",
       "                            \n",
       "var gd = document.getElementById('0e2b6760-2bbf-4a6d-85b1-638c48bd830a');\n",
       "var x = new MutationObserver(function (mutations, observer) {{\n",
       "        var display = window.getComputedStyle(gd).display;\n",
       "        if (!display || display === 'none') {{\n",
       "            console.log([gd, 'removed!']);\n",
       "            Plotly.purge(gd);\n",
       "            observer.disconnect();\n",
       "        }}\n",
       "}});\n",
       "\n",
       "// Listen for the removal of the full notebook cells\n",
       "var notebookContainer = gd.closest('#notebook-container');\n",
       "if (notebookContainer) {{\n",
       "    x.observe(notebookContainer, {childList: true});\n",
       "}}\n",
       "\n",
       "// Listen for the clearing of the current output cell\n",
       "var outputEl = gd.closest('.output');\n",
       "if (outputEl) {{\n",
       "    x.observe(outputEl, {childList: true});\n",
       "}}\n",
       "\n",
       "                        })                };                });            </script>        </div>"
      ]
     },
     "metadata": {},
     "output_type": "display_data"
    }
   ],
   "source": [
    "plot_model(finalize_model(best), plot='forecast', data_kwargs={'fh': 12})"
   ]
  },
  {
   "cell_type": "code",
   "execution_count": 38,
   "id": "8ad8cc3d",
   "metadata": {
    "execution": {
     "iopub.execute_input": "2023-02-02T11:00:57.219659Z",
     "iopub.status.busy": "2023-02-02T11:00:57.218976Z",
     "iopub.status.idle": "2023-02-02T11:01:00.782953Z",
     "shell.execute_reply": "2023-02-02T11:01:00.781529Z",
     "shell.execute_reply.started": "2023-02-02T11:00:57.219595Z"
    }
   },
   "outputs": [
    {
     "data": {
      "text/html": [
       "<div>\n",
       "<style scoped>\n",
       "    .dataframe tbody tr th:only-of-type {\n",
       "        vertical-align: middle;\n",
       "    }\n",
       "\n",
       "    .dataframe tbody tr th {\n",
       "        vertical-align: top;\n",
       "    }\n",
       "\n",
       "    .dataframe thead th {\n",
       "        text-align: right;\n",
       "    }\n",
       "</style>\n",
       "<table border=\"1\" class=\"dataframe\">\n",
       "  <thead>\n",
       "    <tr style=\"text-align: right;\">\n",
       "      <th></th>\n",
       "      <th>y_pred</th>\n",
       "    </tr>\n",
       "  </thead>\n",
       "  <tbody>\n",
       "    <tr>\n",
       "      <th>2019-01</th>\n",
       "      <td>10112.2779</td>\n",
       "    </tr>\n",
       "    <tr>\n",
       "      <th>2019-02</th>\n",
       "      <td>7594.6735</td>\n",
       "    </tr>\n",
       "    <tr>\n",
       "      <th>2019-03</th>\n",
       "      <td>14166.6595</td>\n",
       "    </tr>\n",
       "    <tr>\n",
       "      <th>2019-04</th>\n",
       "      <td>16723.3578</td>\n",
       "    </tr>\n",
       "    <tr>\n",
       "      <th>2019-05</th>\n",
       "      <td>17064.2397</td>\n",
       "    </tr>\n",
       "    <tr>\n",
       "      <th>2019-06</th>\n",
       "      <td>17001.2197</td>\n",
       "    </tr>\n",
       "    <tr>\n",
       "      <th>2019-07</th>\n",
       "      <td>14744.5065</td>\n",
       "    </tr>\n",
       "    <tr>\n",
       "      <th>2019-08</th>\n",
       "      <td>14986.3774</td>\n",
       "    </tr>\n",
       "    <tr>\n",
       "      <th>2019-09</th>\n",
       "      <td>30808.2665</td>\n",
       "    </tr>\n",
       "    <tr>\n",
       "      <th>2019-10</th>\n",
       "      <td>15068.8115</td>\n",
       "    </tr>\n",
       "    <tr>\n",
       "      <th>2019-11</th>\n",
       "      <td>39954.9373</td>\n",
       "    </tr>\n",
       "    <tr>\n",
       "      <th>2019-12</th>\n",
       "      <td>34382.2199</td>\n",
       "    </tr>\n",
       "  </tbody>\n",
       "</table>\n",
       "</div>"
      ],
      "text/plain": [
       "             y_pred\n",
       "2019-01  10112.2779\n",
       "2019-02   7594.6735\n",
       "2019-03  14166.6595\n",
       "2019-04  16723.3578\n",
       "2019-05  17064.2397\n",
       "2019-06  17001.2197\n",
       "2019-07  14744.5065\n",
       "2019-08  14986.3774\n",
       "2019-09  30808.2665\n",
       "2019-10  15068.8115\n",
       "2019-11  39954.9373\n",
       "2019-12  34382.2199"
      ]
     },
     "execution_count": 38,
     "metadata": {},
     "output_type": "execute_result"
    }
   ],
   "source": [
    "predict_model(finalize_model(best), fh = 12)"
   ]
  },
  {
   "cell_type": "code",
   "execution_count": 39,
   "id": "2edcbf0a",
   "metadata": {
    "execution": {
     "iopub.execute_input": "2023-02-02T11:01:00.785341Z",
     "iopub.status.busy": "2023-02-02T11:01:00.784939Z",
     "iopub.status.idle": "2023-02-02T11:01:04.149963Z",
     "shell.execute_reply": "2023-02-02T11:01:04.148361Z",
     "shell.execute_reply.started": "2023-02-02T11:01:00.785306Z"
    }
   },
   "outputs": [
    {
     "data": {
      "text/plain": [
       "y_pred    232607.5472\n",
       "dtype: float64"
      ]
     },
     "execution_count": 39,
     "metadata": {},
     "output_type": "execute_result"
    }
   ],
   "source": [
    "predict_model(finalize_model(best), fh = 12).sum()"
   ]
  },
  {
   "cell_type": "code",
   "execution_count": null,
   "id": "64b63a97",
   "metadata": {},
   "outputs": [],
   "source": []
  },
  {
   "cell_type": "code",
   "execution_count": null,
   "id": "da929394",
   "metadata": {},
   "outputs": [],
   "source": []
  },
  {
   "cell_type": "markdown",
   "id": "03cbe5be",
   "metadata": {},
   "source": [
    "### Predict total customers and profit by sales"
   ]
  },
  {
   "cell_type": "code",
   "execution_count": 40,
   "id": "5a035b75",
   "metadata": {
    "execution": {
     "iopub.execute_input": "2023-02-02T11:01:04.152092Z",
     "iopub.status.busy": "2023-02-02T11:01:04.151710Z",
     "iopub.status.idle": "2023-02-02T11:01:04.175382Z",
     "shell.execute_reply": "2023-02-02T11:01:04.174022Z",
     "shell.execute_reply.started": "2023-02-02T11:01:04.152061Z"
    }
   },
   "outputs": [
    {
     "data": {
      "text/html": [
       "<div>\n",
       "<style scoped>\n",
       "    .dataframe tbody tr th:only-of-type {\n",
       "        vertical-align: middle;\n",
       "    }\n",
       "\n",
       "    .dataframe tbody tr th {\n",
       "        vertical-align: top;\n",
       "    }\n",
       "\n",
       "    .dataframe thead th {\n",
       "        text-align: right;\n",
       "    }\n",
       "</style>\n",
       "<table border=\"1\" class=\"dataframe\">\n",
       "  <thead>\n",
       "    <tr style=\"text-align: right;\">\n",
       "      <th></th>\n",
       "      <th>Year</th>\n",
       "      <th>Customer</th>\n",
       "      <th>Profit</th>\n",
       "      <th>Sales</th>\n",
       "    </tr>\n",
       "  </thead>\n",
       "  <tbody>\n",
       "    <tr>\n",
       "      <th>0</th>\n",
       "      <td>2015</td>\n",
       "      <td>228</td>\n",
       "      <td>16644.1895</td>\n",
       "      <td>128092.69</td>\n",
       "    </tr>\n",
       "    <tr>\n",
       "      <th>1</th>\n",
       "      <td>2016</td>\n",
       "      <td>245</td>\n",
       "      <td>20719.3430</td>\n",
       "      <td>155997.65</td>\n",
       "    </tr>\n",
       "    <tr>\n",
       "      <th>2</th>\n",
       "      <td>2017</td>\n",
       "      <td>300</td>\n",
       "      <td>19571.7361</td>\n",
       "      <td>179112.37</td>\n",
       "    </tr>\n",
       "    <tr>\n",
       "      <th>3</th>\n",
       "      <td>2018</td>\n",
       "      <td>354</td>\n",
       "      <td>32575.4314</td>\n",
       "      <td>211779.50</td>\n",
       "    </tr>\n",
       "  </tbody>\n",
       "</table>\n",
       "</div>"
      ],
      "text/plain": [
       "   Year  Customer      Profit      Sales\n",
       "0  2015       228  16644.1895  128092.69\n",
       "1  2016       245  20719.3430  155997.65\n",
       "2  2017       300  19571.7361  179112.37\n",
       "3  2018       354  32575.4314  211779.50"
      ]
     },
     "execution_count": 40,
     "metadata": {},
     "output_type": "execute_result"
    }
   ],
   "source": [
    "year_ = east.groupby(['Year']).agg({'Customer ID': 'nunique', 'Profit': 'sum', 'Sales': 'sum'}).reset_index().rename(columns={'Customer ID': 'Customer'})\n",
    "year_"
   ]
  },
  {
   "cell_type": "code",
   "execution_count": 41,
   "id": "c109b664",
   "metadata": {
    "execution": {
     "iopub.execute_input": "2023-02-02T11:01:04.177570Z",
     "iopub.status.busy": "2023-02-02T11:01:04.176909Z",
     "iopub.status.idle": "2023-02-02T11:01:04.194867Z",
     "shell.execute_reply": "2023-02-02T11:01:04.193096Z",
     "shell.execute_reply.started": "2023-02-02T11:01:04.177510Z"
    }
   },
   "outputs": [
    {
     "data": {
      "text/html": [
       "<div>\n",
       "<style scoped>\n",
       "    .dataframe tbody tr th:only-of-type {\n",
       "        vertical-align: middle;\n",
       "    }\n",
       "\n",
       "    .dataframe tbody tr th {\n",
       "        vertical-align: top;\n",
       "    }\n",
       "\n",
       "    .dataframe thead th {\n",
       "        text-align: right;\n",
       "    }\n",
       "</style>\n",
       "<table border=\"1\" class=\"dataframe\">\n",
       "  <thead>\n",
       "    <tr style=\"text-align: right;\">\n",
       "      <th></th>\n",
       "      <th>Customer</th>\n",
       "      <th>Sales</th>\n",
       "      <th>Profit</th>\n",
       "    </tr>\n",
       "  </thead>\n",
       "  <tbody>\n",
       "    <tr>\n",
       "      <th>Customer</th>\n",
       "      <td>1.000000</td>\n",
       "      <td>0.978984</td>\n",
       "      <td>0.877594</td>\n",
       "    </tr>\n",
       "    <tr>\n",
       "      <th>Sales</th>\n",
       "      <td>0.978984</td>\n",
       "      <td>1.000000</td>\n",
       "      <td>0.889903</td>\n",
       "    </tr>\n",
       "    <tr>\n",
       "      <th>Profit</th>\n",
       "      <td>0.877594</td>\n",
       "      <td>0.889903</td>\n",
       "      <td>1.000000</td>\n",
       "    </tr>\n",
       "  </tbody>\n",
       "</table>\n",
       "</div>"
      ],
      "text/plain": [
       "          Customer     Sales    Profit\n",
       "Customer  1.000000  0.978984  0.877594\n",
       "Sales     0.978984  1.000000  0.889903\n",
       "Profit    0.877594  0.889903  1.000000"
      ]
     },
     "execution_count": 41,
     "metadata": {},
     "output_type": "execute_result"
    }
   ],
   "source": [
    "year_[['Customer', 'Sales', 'Profit']].corr()"
   ]
  },
  {
   "cell_type": "markdown",
   "id": "011fdacf",
   "metadata": {},
   "source": [
    "**Customer prediction**"
   ]
  },
  {
   "cell_type": "code",
   "execution_count": 42,
   "id": "31655f84",
   "metadata": {
    "execution": {
     "iopub.execute_input": "2023-02-02T11:01:04.199222Z",
     "iopub.status.busy": "2023-02-02T11:01:04.198797Z",
     "iopub.status.idle": "2023-02-02T11:01:04.210022Z",
     "shell.execute_reply": "2023-02-02T11:01:04.208134Z",
     "shell.execute_reply.started": "2023-02-02T11:01:04.199188Z"
    }
   },
   "outputs": [],
   "source": [
    "X = year_.iloc[:, 1].values.reshape(-1, 1)\n",
    "y = year_.iloc[:, 3].values.reshape(-1, 1)\n",
    "\n",
    "model = LinearRegression()\n",
    "model.fit(X, y)\n",
    "y_pred = model.predict(X)"
   ]
  },
  {
   "cell_type": "code",
   "execution_count": 43,
   "id": "a080a036",
   "metadata": {
    "execution": {
     "iopub.execute_input": "2023-02-02T11:01:04.212297Z",
     "iopub.status.busy": "2023-02-02T11:01:04.211762Z",
     "iopub.status.idle": "2023-02-02T11:01:04.470576Z",
     "shell.execute_reply": "2023-02-02T11:01:04.469532Z",
     "shell.execute_reply.started": "2023-02-02T11:01:04.212257Z"
    }
   },
   "outputs": [
    {
     "data": {
      "image/png": "[encoded data removed]",
      "text/plain": [
       "<Figure size 700x300 with 1 Axes>"
      ]
     },
     "metadata": {},
     "output_type": "display_data"
    }
   ],
   "source": [
    "plt.style.use('default')\n",
    "\n",
    "plt.figure(figsize=(7,3))\n",
    "plt.scatter(X, y, color='blue')\n",
    "plt.plot(X, y_pred, color='red')\n",
    "\n",
    "plt.xlabel('Total cutomers')\n",
    "plt.ylabel('Sales')\n",
    "plt.title('Customers prediction by sales')\n",
    "\n",
    "plt.show()"
   ]
  },
  {
   "cell_type": "code",
   "execution_count": 44,
   "id": "6b8d34bf",
   "metadata": {
    "execution": {
     "iopub.execute_input": "2023-02-02T11:01:04.472741Z",
     "iopub.status.busy": "2023-02-02T11:01:04.472164Z",
     "iopub.status.idle": "2023-02-02T11:01:04.483122Z",
     "shell.execute_reply": "2023-02-02T11:01:04.480852Z",
     "shell.execute_reply.started": "2023-02-02T11:01:04.472705Z"
    }
   },
   "outputs": [
    {
     "data": {
      "text/plain": [
       "469"
      ]
     },
     "execution_count": 44,
     "metadata": {},
     "output_type": "execute_result"
    }
   ],
   "source": [
    "sales_2019 = 282807\n",
    "\n",
    "new_cus = int(((sales_2019 - model.intercept_) / model.coef_)[0][0])\n",
    "new_cus"
   ]
  },
  {
   "cell_type": "code",
   "execution_count": null,
   "id": "b3e885e5",
   "metadata": {},
   "outputs": [],
   "source": []
  },
  {
   "cell_type": "markdown",
   "id": "9c7d2246",
   "metadata": {},
   "source": [
    "**Profit prediction**"
   ]
  },
  {
   "cell_type": "code",
   "execution_count": 45,
   "id": "9ce13d5f",
   "metadata": {
    "execution": {
     "iopub.execute_input": "2023-02-02T11:01:04.486447Z",
     "iopub.status.busy": "2023-02-02T11:01:04.485304Z",
     "iopub.status.idle": "2023-02-02T11:01:04.496796Z",
     "shell.execute_reply": "2023-02-02T11:01:04.495027Z",
     "shell.execute_reply.started": "2023-02-02T11:01:04.486359Z"
    }
   },
   "outputs": [],
   "source": [
    "X = year_.iloc[:, 3].values.reshape(-1, 1)\n",
    "y = year_.iloc[:, 2].values.reshape(-1, 1)\n",
    "\n",
    "model = LinearRegression()\n",
    "model.fit(X, y)\n",
    "y_pred = model.predict(X)"
   ]
  },
  {
   "cell_type": "code",
   "execution_count": 46,
   "id": "472db6a3",
   "metadata": {
    "execution": {
     "iopub.execute_input": "2023-02-02T11:01:04.500161Z",
     "iopub.status.busy": "2023-02-02T11:01:04.498683Z",
     "iopub.status.idle": "2023-02-02T11:01:04.778694Z",
     "shell.execute_reply": "2023-02-02T11:01:04.771951Z",
     "shell.execute_reply.started": "2023-02-02T11:01:04.500111Z"
    }
   },
   "outputs": [
    {
     "data": {
      "image/png": "[encoded data removed]",
      "text/plain": [
       "<Figure size 700x300 with 1 Axes>"
      ]
     },
     "metadata": {},
     "output_type": "display_data"
    }
   ],
   "source": [
    "plt.figure(figsize=(7,3))\n",
    "plt.scatter(X, y, color='blue')\n",
    "plt.plot(X, y_pred, color='red')\n",
    "\n",
    "plt.xlabel('Sales')\n",
    "plt.ylabel('Profit')\n",
    "plt.title('Profit prediction by sales')\n",
    "\n",
    "plt.show()"
   ]
  },
  {
   "cell_type": "code",
   "execution_count": 47,
   "id": "6e6f3923",
   "metadata": {
    "execution": {
     "iopub.execute_input": "2023-02-02T11:01:04.783046Z",
     "iopub.status.busy": "2023-02-02T11:01:04.780949Z",
     "iopub.status.idle": "2023-02-02T11:01:04.795154Z",
     "shell.execute_reply": "2023-02-02T11:01:04.793234Z",
     "shell.execute_reply.started": "2023-02-02T11:01:04.782942Z"
    }
   },
   "outputs": [
    {
     "data": {
      "text/plain": [
       "42442.278633059366"
      ]
     },
     "execution_count": 47,
     "metadata": {},
     "output_type": "execute_result"
    }
   ],
   "source": [
    "sales_2019 = [[282807]]\n",
    "\n",
    "profit_2019 = model.predict(sales_2019)[0][0]\n",
    "profit_2019"
   ]
  },
  {
   "cell_type": "code",
   "execution_count": null,
   "id": "fedc9770",
   "metadata": {},
   "outputs": [],
   "source": []
  },
  {
   "cell_type": "markdown",
   "id": "9b45ec3c",
   "metadata": {},
   "source": [
    "## Customer Segmentation"
   ]
  },
  {
   "cell_type": "code",
   "execution_count": 48,
   "id": "fd341df7",
   "metadata": {
    "execution": {
     "iopub.execute_input": "2023-02-02T11:01:04.798283Z",
     "iopub.status.busy": "2023-02-02T11:01:04.797834Z",
     "iopub.status.idle": "2023-02-02T11:01:04.836552Z",
     "shell.execute_reply": "2023-02-02T11:01:04.835097Z",
     "shell.execute_reply.started": "2023-02-02T11:01:04.798244Z"
    }
   },
   "outputs": [
    {
     "data": {
      "text/html": [
       "<div>\n",
       "<style scoped>\n",
       "    .dataframe tbody tr th:only-of-type {\n",
       "        vertical-align: middle;\n",
       "    }\n",
       "\n",
       "    .dataframe tbody tr th {\n",
       "        vertical-align: top;\n",
       "    }\n",
       "\n",
       "    .dataframe thead th {\n",
       "        text-align: right;\n",
       "    }\n",
       "</style>\n",
       "<table border=\"1\" class=\"dataframe\">\n",
       "  <thead>\n",
       "    <tr style=\"text-align: right;\">\n",
       "      <th></th>\n",
       "      <th>Customer ID</th>\n",
       "      <th>Sales</th>\n",
       "      <th>Profit</th>\n",
       "    </tr>\n",
       "  </thead>\n",
       "  <tbody>\n",
       "    <tr>\n",
       "      <th>0</th>\n",
       "      <td>AA-10315</td>\n",
       "      <td>29.50</td>\n",
       "      <td>13.2826</td>\n",
       "    </tr>\n",
       "    <tr>\n",
       "      <th>1</th>\n",
       "      <td>AA-10375</td>\n",
       "      <td>206.72</td>\n",
       "      <td>68.9195</td>\n",
       "    </tr>\n",
       "    <tr>\n",
       "      <th>2</th>\n",
       "      <td>AA-10480</td>\n",
       "      <td>27.46</td>\n",
       "      <td>9.8856</td>\n",
       "    </tr>\n",
       "    <tr>\n",
       "      <th>3</th>\n",
       "      <td>AA-10645</td>\n",
       "      <td>1434.30</td>\n",
       "      <td>77.6417</td>\n",
       "    </tr>\n",
       "    <tr>\n",
       "      <th>4</th>\n",
       "      <td>AB-10060</td>\n",
       "      <td>4487.31</td>\n",
       "      <td>1468.7919</td>\n",
       "    </tr>\n",
       "    <tr>\n",
       "      <th>...</th>\n",
       "      <td>...</td>\n",
       "      <td>...</td>\n",
       "      <td>...</td>\n",
       "    </tr>\n",
       "    <tr>\n",
       "      <th>668</th>\n",
       "      <td>WB-21850</td>\n",
       "      <td>499.85</td>\n",
       "      <td>-42.2831</td>\n",
       "    </tr>\n",
       "    <tr>\n",
       "      <th>669</th>\n",
       "      <td>XP-21865</td>\n",
       "      <td>201.10</td>\n",
       "      <td>86.3496</td>\n",
       "    </tr>\n",
       "    <tr>\n",
       "      <th>670</th>\n",
       "      <td>YC-21895</td>\n",
       "      <td>3116.48</td>\n",
       "      <td>833.7633</td>\n",
       "    </tr>\n",
       "    <tr>\n",
       "      <th>671</th>\n",
       "      <td>YS-21880</td>\n",
       "      <td>465.18</td>\n",
       "      <td>120.9468</td>\n",
       "    </tr>\n",
       "    <tr>\n",
       "      <th>672</th>\n",
       "      <td>ZC-21910</td>\n",
       "      <td>43.92</td>\n",
       "      <td>12.7368</td>\n",
       "    </tr>\n",
       "  </tbody>\n",
       "</table>\n",
       "<p>673 rows × 3 columns</p>\n",
       "</div>"
      ],
      "text/plain": [
       "    Customer ID    Sales     Profit\n",
       "0      AA-10315    29.50    13.2826\n",
       "1      AA-10375   206.72    68.9195\n",
       "2      AA-10480    27.46     9.8856\n",
       "3      AA-10645  1434.30    77.6417\n",
       "4      AB-10060  4487.31  1468.7919\n",
       "..          ...      ...        ...\n",
       "668    WB-21850   499.85   -42.2831\n",
       "669    XP-21865   201.10    86.3496\n",
       "670    YC-21895  3116.48   833.7633\n",
       "671    YS-21880   465.18   120.9468\n",
       "672    ZC-21910    43.92    12.7368\n",
       "\n",
       "[673 rows x 3 columns]"
      ]
     },
     "execution_count": 48,
     "metadata": {},
     "output_type": "execute_result"
    }
   ],
   "source": [
    "customers = east.groupby('Customer ID').agg({'Sales': 'sum', 'Profit': 'sum'}).reset_index()\n",
    "customers"
   ]
  },
  {
   "cell_type": "code",
   "execution_count": 49,
   "id": "0dabf1e4",
   "metadata": {
    "execution": {
     "iopub.execute_input": "2023-02-02T11:01:04.839837Z",
     "iopub.status.busy": "2023-02-02T11:01:04.838888Z",
     "iopub.status.idle": "2023-02-02T11:01:06.062346Z",
     "shell.execute_reply": "2023-02-02T11:01:06.061058Z",
     "shell.execute_reply.started": "2023-02-02T11:01:04.839790Z"
    }
   },
   "outputs": [
    {
     "data": {
      "image/png": "[encoded data removed]",
      "text/plain": [
       "<Figure size 2000x500 with 2 Axes>"
      ]
     },
     "metadata": {},
     "output_type": "display_data"
    }
   ],
   "source": [
    "fig, axes = plt.subplots(1, 2, figsize=(20,5))\n",
    "colors = ['olive', 'teal']\n",
    "\n",
    "for i, feature in enumerate(['Sales', 'Profit']):\n",
    "    sns.histplot(data=customers, x=feature, ax=axes[i], kde=True, color=colors[i])"
   ]
  },
  {
   "cell_type": "code",
   "execution_count": 50,
   "id": "a5d9909a",
   "metadata": {
    "execution": {
     "iopub.execute_input": "2023-02-02T11:01:06.065201Z",
     "iopub.status.busy": "2023-02-02T11:01:06.064149Z",
     "iopub.status.idle": "2023-02-02T11:01:06.921017Z",
     "shell.execute_reply": "2023-02-02T11:01:06.919118Z",
     "shell.execute_reply.started": "2023-02-02T11:01:06.065151Z"
    }
   },
   "outputs": [
    {
     "data": {
      "image/png": "[encoded data removed]",
      "text/plain": [
       "<Figure size 1000x500 with 1 Axes>"
      ]
     },
     "metadata": {},
     "output_type": "display_data"
    }
   ],
   "source": [
    "wcss = []\n",
    "\n",
    "for i in range(1,11):\n",
    "    kmeans = KMeans(n_clusters=i)\n",
    "    kmeans.fit(customers[['Sales', 'Profit']])\n",
    "    wcss.append(kmeans.inertia_)\n",
    "\n",
    "plt.figure(figsize=(10, 5))    \n",
    "plt.plot(range(1,11), wcss, marker='o')\n",
    "plt.title('Elbow method')\n",
    "plt.xlabel('Number of clusters')\n",
    "plt.ylabel('WCSS')\n",
    "plt.show()"
   ]
  },
  {
   "cell_type": "code",
   "execution_count": 51,
   "id": "81989f5e",
   "metadata": {
    "execution": {
     "iopub.execute_input": "2023-02-02T11:01:06.924421Z",
     "iopub.status.busy": "2023-02-02T11:01:06.923720Z",
     "iopub.status.idle": "2023-02-02T11:01:06.972949Z",
     "shell.execute_reply": "2023-02-02T11:01:06.971027Z",
     "shell.execute_reply.started": "2023-02-02T11:01:06.924362Z"
    }
   },
   "outputs": [
    {
     "data": {
      "text/plain": [
       "KMeans(n_clusters=3)"
      ]
     },
     "execution_count": 51,
     "metadata": {},
     "output_type": "execute_result"
    }
   ],
   "source": [
    "model = KMeans(n_clusters=3)\n",
    "model.fit(customers[['Sales', 'Profit']])"
   ]
  },
  {
   "cell_type": "code",
   "execution_count": 52,
   "id": "4629412d",
   "metadata": {
    "execution": {
     "iopub.execute_input": "2023-02-02T11:01:06.975933Z",
     "iopub.status.busy": "2023-02-02T11:01:06.975331Z",
     "iopub.status.idle": "2023-02-02T11:01:07.274746Z",
     "shell.execute_reply": "2023-02-02T11:01:07.273367Z",
     "shell.execute_reply.started": "2023-02-02T11:01:06.975875Z"
    }
   },
   "outputs": [
    {
     "data": {
      "image/png": "[encoded data removed]",
      "text/plain": [
       "<Figure size 1000x500 with 1 Axes>"
      ]
     },
     "metadata": {},
     "output_type": "display_data"
    }
   ],
   "source": [
    "plt.style.use('default')\n",
    "plt.figure(figsize=(10, 5))\n",
    "\n",
    "plt.scatter(customers['Sales'], customers['Profit'], c=model.labels_)\n",
    "plt.scatter(model.cluster_centers_[:, 0], model.cluster_centers_[:, 1], s=200, c='red', marker='*')\n",
    "\n",
    "plt.xlabel('Sales')\n",
    "plt.ylabel('Profit')\n",
    "\n",
    "plt.show()"
   ]
  },
  {
   "cell_type": "code",
   "execution_count": 53,
   "id": "61b74e6c",
   "metadata": {
    "execution": {
     "iopub.execute_input": "2023-02-02T11:01:07.279021Z",
     "iopub.status.busy": "2023-02-02T11:01:07.277181Z",
     "iopub.status.idle": "2023-02-02T11:01:07.290849Z",
     "shell.execute_reply": "2023-02-02T11:01:07.287581Z",
     "shell.execute_reply.started": "2023-02-02T11:01:07.278895Z"
    }
   },
   "outputs": [],
   "source": [
    "customers['Cluster'] = model.labels_"
   ]
  },
  {
   "cell_type": "code",
   "execution_count": 54,
   "id": "10b490f6",
   "metadata": {
    "execution": {
     "iopub.execute_input": "2023-02-02T11:01:07.294437Z",
     "iopub.status.busy": "2023-02-02T11:01:07.293887Z",
     "iopub.status.idle": "2023-02-02T11:01:07.311386Z",
     "shell.execute_reply": "2023-02-02T11:01:07.309620Z",
     "shell.execute_reply.started": "2023-02-02T11:01:07.294395Z"
    }
   },
   "outputs": [
    {
     "data": {
      "text/plain": [
       "0    558\n",
       "2    103\n",
       "1     12\n",
       "Name: Cluster, dtype: int64"
      ]
     },
     "execution_count": 54,
     "metadata": {},
     "output_type": "execute_result"
    }
   ],
   "source": [
    "customers['Cluster'].value_counts()"
   ]
  },
  {
   "cell_type": "code",
   "execution_count": 55,
   "id": "8f8a6075",
   "metadata": {
    "execution": {
     "iopub.execute_input": "2023-02-02T11:01:07.313828Z",
     "iopub.status.busy": "2023-02-02T11:01:07.313310Z",
     "iopub.status.idle": "2023-02-02T11:01:07.354836Z",
     "shell.execute_reply": "2023-02-02T11:01:07.353453Z",
     "shell.execute_reply.started": "2023-02-02T11:01:07.313784Z"
    }
   },
   "outputs": [
    {
     "data": {
      "text/html": [
       "<div>\n",
       "<style scoped>\n",
       "    .dataframe tbody tr th:only-of-type {\n",
       "        vertical-align: middle;\n",
       "    }\n",
       "\n",
       "    .dataframe tbody tr th {\n",
       "        vertical-align: top;\n",
       "    }\n",
       "\n",
       "    .dataframe thead th {\n",
       "        text-align: right;\n",
       "    }\n",
       "</style>\n",
       "<table border=\"1\" class=\"dataframe\">\n",
       "  <thead>\n",
       "    <tr style=\"text-align: right;\">\n",
       "      <th></th>\n",
       "      <th>Sales</th>\n",
       "      <th>Profit</th>\n",
       "      <th>Cluster</th>\n",
       "    </tr>\n",
       "  </thead>\n",
       "  <tbody>\n",
       "    <tr>\n",
       "      <th>count</th>\n",
       "      <td>558.000000</td>\n",
       "      <td>558.000000</td>\n",
       "      <td>558.0</td>\n",
       "    </tr>\n",
       "    <tr>\n",
       "      <th>mean</th>\n",
       "      <td>507.549767</td>\n",
       "      <td>47.725112</td>\n",
       "      <td>0.0</td>\n",
       "    </tr>\n",
       "    <tr>\n",
       "      <th>std</th>\n",
       "      <td>454.236794</td>\n",
       "      <td>162.678731</td>\n",
       "      <td>0.0</td>\n",
       "    </tr>\n",
       "    <tr>\n",
       "      <th>min</th>\n",
       "      <td>0.850000</td>\n",
       "      <td>-1478.556300</td>\n",
       "      <td>0.0</td>\n",
       "    </tr>\n",
       "    <tr>\n",
       "      <th>25%</th>\n",
       "      <td>106.135000</td>\n",
       "      <td>1.136650</td>\n",
       "      <td>0.0</td>\n",
       "    </tr>\n",
       "    <tr>\n",
       "      <th>50%</th>\n",
       "      <td>395.300000</td>\n",
       "      <td>29.346000</td>\n",
       "      <td>0.0</td>\n",
       "    </tr>\n",
       "    <tr>\n",
       "      <th>75%</th>\n",
       "      <td>801.487500</td>\n",
       "      <td>115.772475</td>\n",
       "      <td>0.0</td>\n",
       "    </tr>\n",
       "    <tr>\n",
       "      <th>max</th>\n",
       "      <td>1689.350000</td>\n",
       "      <td>494.093600</td>\n",
       "      <td>0.0</td>\n",
       "    </tr>\n",
       "  </tbody>\n",
       "</table>\n",
       "</div>"
      ],
      "text/plain": [
       "             Sales       Profit  Cluster\n",
       "count   558.000000   558.000000    558.0\n",
       "mean    507.549767    47.725112      0.0\n",
       "std     454.236794   162.678731      0.0\n",
       "min       0.850000 -1478.556300      0.0\n",
       "25%     106.135000     1.136650      0.0\n",
       "50%     395.300000    29.346000      0.0\n",
       "75%     801.487500   115.772475      0.0\n",
       "max    1689.350000   494.093600      0.0"
      ]
     },
     "execution_count": 55,
     "metadata": {},
     "output_type": "execute_result"
    }
   ],
   "source": [
    "customers[customers['Cluster'] == 0].describe()"
   ]
  },
  {
   "cell_type": "code",
   "execution_count": 56,
   "id": "fb15fbbc",
   "metadata": {
    "execution": {
     "iopub.execute_input": "2023-02-02T11:01:07.356947Z",
     "iopub.status.busy": "2023-02-02T11:01:07.356566Z",
     "iopub.status.idle": "2023-02-02T11:01:07.386318Z",
     "shell.execute_reply": "2023-02-02T11:01:07.384782Z",
     "shell.execute_reply.started": "2023-02-02T11:01:07.356912Z"
    }
   },
   "outputs": [
    {
     "data": {
      "text/html": [
       "<div>\n",
       "<style scoped>\n",
       "    .dataframe tbody tr th:only-of-type {\n",
       "        vertical-align: middle;\n",
       "    }\n",
       "\n",
       "    .dataframe tbody tr th {\n",
       "        vertical-align: top;\n",
       "    }\n",
       "\n",
       "    .dataframe thead th {\n",
       "        text-align: right;\n",
       "    }\n",
       "</style>\n",
       "<table border=\"1\" class=\"dataframe\">\n",
       "  <thead>\n",
       "    <tr style=\"text-align: right;\">\n",
       "      <th></th>\n",
       "      <th>Sales</th>\n",
       "      <th>Profit</th>\n",
       "      <th>Cluster</th>\n",
       "    </tr>\n",
       "  </thead>\n",
       "  <tbody>\n",
       "    <tr>\n",
       "      <th>count</th>\n",
       "      <td>12.000000</td>\n",
       "      <td>12.000000</td>\n",
       "      <td>12.0</td>\n",
       "    </tr>\n",
       "    <tr>\n",
       "      <th>mean</th>\n",
       "      <td>8522.951667</td>\n",
       "      <td>2397.953717</td>\n",
       "      <td>1.0</td>\n",
       "    </tr>\n",
       "    <tr>\n",
       "      <th>std</th>\n",
       "      <td>2234.915560</td>\n",
       "      <td>1325.785621</td>\n",
       "      <td>0.0</td>\n",
       "    </tr>\n",
       "    <tr>\n",
       "      <th>min</th>\n",
       "      <td>5871.730000</td>\n",
       "      <td>543.281900</td>\n",
       "      <td>1.0</td>\n",
       "    </tr>\n",
       "    <tr>\n",
       "      <th>25%</th>\n",
       "      <td>6931.667500</td>\n",
       "      <td>1570.537425</td>\n",
       "      <td>1.0</td>\n",
       "    </tr>\n",
       "    <tr>\n",
       "      <th>50%</th>\n",
       "      <td>8221.900000</td>\n",
       "      <td>2261.516750</td>\n",
       "      <td>1.0</td>\n",
       "    </tr>\n",
       "    <tr>\n",
       "      <th>75%</th>\n",
       "      <td>9542.755000</td>\n",
       "      <td>2681.518750</td>\n",
       "      <td>1.0</td>\n",
       "    </tr>\n",
       "    <tr>\n",
       "      <th>max</th>\n",
       "      <td>13723.470000</td>\n",
       "      <td>5045.856400</td>\n",
       "      <td>1.0</td>\n",
       "    </tr>\n",
       "  </tbody>\n",
       "</table>\n",
       "</div>"
      ],
      "text/plain": [
       "              Sales       Profit  Cluster\n",
       "count     12.000000    12.000000     12.0\n",
       "mean    8522.951667  2397.953717      1.0\n",
       "std     2234.915560  1325.785621      0.0\n",
       "min     5871.730000   543.281900      1.0\n",
       "25%     6931.667500  1570.537425      1.0\n",
       "50%     8221.900000  2261.516750      1.0\n",
       "75%     9542.755000  2681.518750      1.0\n",
       "max    13723.470000  5045.856400      1.0"
      ]
     },
     "execution_count": 56,
     "metadata": {},
     "output_type": "execute_result"
    }
   ],
   "source": [
    "customers[customers['Cluster'] == 1].describe()"
   ]
  },
  {
   "cell_type": "code",
   "execution_count": 57,
   "id": "fc8d6630",
   "metadata": {
    "execution": {
     "iopub.execute_input": "2023-02-02T11:01:07.388174Z",
     "iopub.status.busy": "2023-02-02T11:01:07.387770Z",
     "iopub.status.idle": "2023-02-02T11:01:07.418477Z",
     "shell.execute_reply": "2023-02-02T11:01:07.417103Z",
     "shell.execute_reply.started": "2023-02-02T11:01:07.388127Z"
    }
   },
   "outputs": [
    {
     "data": {
      "text/html": [
       "<div>\n",
       "<style scoped>\n",
       "    .dataframe tbody tr th:only-of-type {\n",
       "        vertical-align: middle;\n",
       "    }\n",
       "\n",
       "    .dataframe tbody tr th {\n",
       "        vertical-align: top;\n",
       "    }\n",
       "\n",
       "    .dataframe thead th {\n",
       "        text-align: right;\n",
       "    }\n",
       "</style>\n",
       "<table border=\"1\" class=\"dataframe\">\n",
       "  <thead>\n",
       "    <tr style=\"text-align: right;\">\n",
       "      <th></th>\n",
       "      <th>Sales</th>\n",
       "      <th>Profit</th>\n",
       "      <th>Cluster</th>\n",
       "    </tr>\n",
       "  </thead>\n",
       "  <tbody>\n",
       "    <tr>\n",
       "      <th>count</th>\n",
       "      <td>103.000000</td>\n",
       "      <td>103.000000</td>\n",
       "      <td>103.0</td>\n",
       "    </tr>\n",
       "    <tr>\n",
       "      <th>mean</th>\n",
       "      <td>2810.621553</td>\n",
       "      <td>331.113038</td>\n",
       "      <td>2.0</td>\n",
       "    </tr>\n",
       "    <tr>\n",
       "      <th>std</th>\n",
       "      <td>1052.906452</td>\n",
       "      <td>973.358827</td>\n",
       "      <td>0.0</td>\n",
       "    </tr>\n",
       "    <tr>\n",
       "      <th>min</th>\n",
       "      <td>1675.400000</td>\n",
       "      <td>-6892.374800</td>\n",
       "      <td>2.0</td>\n",
       "    </tr>\n",
       "    <tr>\n",
       "      <th>25%</th>\n",
       "      <td>1958.655000</td>\n",
       "      <td>152.283850</td>\n",
       "      <td>2.0</td>\n",
       "    </tr>\n",
       "    <tr>\n",
       "      <th>50%</th>\n",
       "      <td>2525.870000</td>\n",
       "      <td>448.546300</td>\n",
       "      <td>2.0</td>\n",
       "    </tr>\n",
       "    <tr>\n",
       "      <th>75%</th>\n",
       "      <td>3438.645000</td>\n",
       "      <td>726.564500</td>\n",
       "      <td>2.0</td>\n",
       "    </tr>\n",
       "    <tr>\n",
       "      <th>max</th>\n",
       "      <td>5557.070000</td>\n",
       "      <td>2117.590400</td>\n",
       "      <td>2.0</td>\n",
       "    </tr>\n",
       "  </tbody>\n",
       "</table>\n",
       "</div>"
      ],
      "text/plain": [
       "             Sales       Profit  Cluster\n",
       "count   103.000000   103.000000    103.0\n",
       "mean   2810.621553   331.113038      2.0\n",
       "std    1052.906452   973.358827      0.0\n",
       "min    1675.400000 -6892.374800      2.0\n",
       "25%    1958.655000   152.283850      2.0\n",
       "50%    2525.870000   448.546300      2.0\n",
       "75%    3438.645000   726.564500      2.0\n",
       "max    5557.070000  2117.590400      2.0"
      ]
     },
     "execution_count": 57,
     "metadata": {},
     "output_type": "execute_result"
    }
   ],
   "source": [
    "customers[customers['Cluster'] == 2].describe()"
   ]
  },
  {
   "cell_type": "code",
   "execution_count": null,
   "id": "0f851814",
   "metadata": {},
   "outputs": [],
   "source": []
  },
  {
   "cell_type": "code",
   "execution_count": null,
   "id": "93d1775c",
   "metadata": {},
   "outputs": [],
   "source": []
  }
 ],
 "metadata": {
  "kernelspec": {
   "display_name": "Python 3 (ipykernel)",
   "language": "python",
   "name": "python3"
  },
  "language_info": {
   "codemirror_mode": {
    "name": "ipython",
    "version": 3
   },
   "file_extension": ".py",
   "mimetype": "text/x-python",
   "name": "python",
   "nbconvert_exporter": "python",
   "pygments_lexer": "ipython3",
   "version": "3.9.12"
  }
 },
 "nbformat": 4,
 "nbformat_minor": 5
}
